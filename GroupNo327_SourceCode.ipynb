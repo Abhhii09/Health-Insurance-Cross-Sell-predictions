{
 "cells": [
  {
   "cell_type": "code",
   "execution_count": 1,
   "metadata": {},
   "outputs": [],
   "source": [
    "    import numpy as np\n",
    "    import pandas as pd \n",
    "    import matplotlib\n",
    "    import seaborn as sns\n",
    "\n",
    "\n",
    "    from sklearn.preprocessing import MinMaxScaler"
   ]
  },
  {
   "cell_type": "code",
   "execution_count": 3,
   "metadata": {
    "scrolled": true
   },
   "outputs": [
    {
     "name": "stdout",
     "output_type": "stream",
     "text": [
      "Collecting package metadata (current_repodata.json): ...working... done\n",
      "Solving environment: ...working... done\n",
      "\n",
      "## Package Plan ##\n",
      "\n",
      "  environment location: C:\\Users\\abhhi\\anaconda3\n",
      "\n",
      "  added / updated specs:\n",
      "    - bokeh\n",
      "    - holoviews\n",
      "\n",
      "\n",
      "The following packages will be downloaded:\n",
      "\n",
      "    package                    |            build\n",
      "    ---------------------------|-----------------\n",
      "    conda-4.9.2                |   py37haa95532_0         2.9 MB\n",
      "    ------------------------------------------------------------\n",
      "                                           Total:         2.9 MB\n",
      "\n",
      "The following packages will be UPDATED:\n",
      "\n",
      "  conda                                4.9.1-py37haa95532_0 --> 4.9.2-py37haa95532_0\n",
      "\n",
      "\n",
      "\n",
      "Downloading and Extracting Packages\n",
      "\n",
      "conda-4.9.2          | 2.9 MB    |            |   0% \n",
      "conda-4.9.2          | 2.9 MB    |            |   1% \n",
      "conda-4.9.2          | 2.9 MB    | #####6     |  57% \n",
      "conda-4.9.2          | 2.9 MB    | ########## | 100% \n",
      "conda-4.9.2          | 2.9 MB    | ########## | 100% \n",
      "Preparing transaction: ...working... done\n",
      "Verifying transaction: ...working... done\n",
      "Executing transaction: ...working... done\n",
      "\n",
      "Note: you may need to restart the kernel to use updated packages.\n"
     ]
    }
   ],
   "source": [
    "conda install -c pyviz holoviews bokeh"
   ]
  },
  {
   "cell_type": "code",
   "execution_count": 3,
   "metadata": {},
   "outputs": [],
   "source": [
    "import holoviews as hv\n",
    "import matplotlib.pyplot as plt\n",
    "import mpl_toolkits.mplot3d.axes3d as p3\n"
   ]
  },
  {
   "cell_type": "code",
   "execution_count": 5,
   "metadata": {},
   "outputs": [
    {
     "name": "stdout",
     "output_type": "stream",
     "text": [
      "Collecting package metadata (current_repodata.json): ...working... done\n",
      "Solving environment: ...working... done\n",
      "\n",
      "## Package Plan ##\n",
      "\n",
      "  environment location: C:\\Users\\abhhi\\anaconda3\n",
      "\n",
      "  added / updated specs:\n",
      "    - hyperopt\n",
      "\n",
      "\n",
      "The following packages will be downloaded:\n",
      "\n",
      "    package                    |            build\n",
      "    ---------------------------|-----------------\n",
      "    conda-4.9.2                |   py37h03978a9_0         3.0 MB  conda-forge\n",
      "    ------------------------------------------------------------\n",
      "                                           Total:         3.0 MB\n",
      "\n",
      "The following packages will be SUPERSEDED by a higher-priority channel:\n",
      "\n",
      "  conda               pkgs/main::conda-4.9.2-py37haa95532_0 --> conda-forge::conda-4.9.2-py37h03978a9_0\n",
      "\n",
      "\n",
      "\n",
      "Downloading and Extracting Packages\n",
      "\n",
      "conda-4.9.2          | 3.0 MB    |            |   0% \n",
      "conda-4.9.2          | 3.0 MB    |            |   1% \n",
      "conda-4.9.2          | 3.0 MB    | ##8        |  29% \n",
      "conda-4.9.2          | 3.0 MB    | #######2   |  72% \n",
      "conda-4.9.2          | 3.0 MB    | ########## | 100% \n",
      "conda-4.9.2          | 3.0 MB    | ########## | 100% \n",
      "Preparing transaction: ...working... done\n",
      "Verifying transaction: ...working... done\n",
      "Executing transaction: ...working... done\n",
      "\n",
      "Note: you may need to restart the kernel to use updated packages.\n"
     ]
    }
   ],
   "source": [
    "conda install -c conda-forge hyperopt"
   ]
  },
  {
   "cell_type": "code",
   "execution_count": 4,
   "metadata": {},
   "outputs": [],
   "source": [
    "from hyperopt import STATUS_OK, Trials, fmin, hp, tpe\n",
    "from sklearn.utils import resample,shuffle\n",
    "\n",
    "\n",
    "from sklearn.model_selection import train_test_split\n",
    "from mlxtend.preprocessing import minmax_scaling\n",
    "from sklearn.decomposition import PCA,SparsePCA,KernelPCA,NMF\n",
    "from holoviews import opts\n",
    "from sklearn import metrics, mixture, cluster, datasets\n",
    "from sklearn.mixture import GaussianMixture\n",
    "from sklearn.calibration import CalibratedClassifierCV\n",
    "from sklearn.linear_model import LogisticRegression, LogisticRegressionCV\n",
    "from sklearn.metrics import classification_report, confusion_matrix, accuracy_score,roc_auc_score, roc_curve, auc\n",
    "hv.extension('bokeh')\n"
   ]
  },
  {
   "cell_type": "code",
   "execution_count": 6,
   "metadata": {},
   "outputs": [],
   "source": [
    "df = pd.read_csv('C:/Data mining/Proj/train.csv')"
   ]
  },
  {
   "cell_type": "code",
   "execution_count": 7,
   "metadata": {},
   "outputs": [
    {
     "data": {
      "text/html": [
       "<div>\n",
       "<style scoped>\n",
       "    .dataframe tbody tr th:only-of-type {\n",
       "        vertical-align: middle;\n",
       "    }\n",
       "\n",
       "    .dataframe tbody tr th {\n",
       "        vertical-align: top;\n",
       "    }\n",
       "\n",
       "    .dataframe thead th {\n",
       "        text-align: right;\n",
       "    }\n",
       "</style>\n",
       "<table border=\"1\" class=\"dataframe\">\n",
       "  <thead>\n",
       "    <tr style=\"text-align: right;\">\n",
       "      <th></th>\n",
       "      <th>id</th>\n",
       "      <th>Gender</th>\n",
       "      <th>Age</th>\n",
       "      <th>Driving_License</th>\n",
       "      <th>Region_Code</th>\n",
       "      <th>Previously_Insured</th>\n",
       "      <th>Vehicle_Age</th>\n",
       "      <th>Vehicle_Damage</th>\n",
       "      <th>Annual_Premium</th>\n",
       "      <th>Policy_Sales_Channel</th>\n",
       "      <th>Vintage</th>\n",
       "      <th>Response</th>\n",
       "    </tr>\n",
       "  </thead>\n",
       "  <tbody>\n",
       "    <tr>\n",
       "      <th>0</th>\n",
       "      <td>1</td>\n",
       "      <td>Male</td>\n",
       "      <td>44</td>\n",
       "      <td>1</td>\n",
       "      <td>28.0</td>\n",
       "      <td>0</td>\n",
       "      <td>&gt; 2 Years</td>\n",
       "      <td>Yes</td>\n",
       "      <td>40454.0</td>\n",
       "      <td>26.0</td>\n",
       "      <td>217</td>\n",
       "      <td>1</td>\n",
       "    </tr>\n",
       "    <tr>\n",
       "      <th>1</th>\n",
       "      <td>2</td>\n",
       "      <td>Male</td>\n",
       "      <td>76</td>\n",
       "      <td>1</td>\n",
       "      <td>3.0</td>\n",
       "      <td>0</td>\n",
       "      <td>1-2 Year</td>\n",
       "      <td>No</td>\n",
       "      <td>33536.0</td>\n",
       "      <td>26.0</td>\n",
       "      <td>183</td>\n",
       "      <td>0</td>\n",
       "    </tr>\n",
       "    <tr>\n",
       "      <th>2</th>\n",
       "      <td>3</td>\n",
       "      <td>Male</td>\n",
       "      <td>47</td>\n",
       "      <td>1</td>\n",
       "      <td>28.0</td>\n",
       "      <td>0</td>\n",
       "      <td>&gt; 2 Years</td>\n",
       "      <td>Yes</td>\n",
       "      <td>38294.0</td>\n",
       "      <td>26.0</td>\n",
       "      <td>27</td>\n",
       "      <td>1</td>\n",
       "    </tr>\n",
       "    <tr>\n",
       "      <th>3</th>\n",
       "      <td>4</td>\n",
       "      <td>Male</td>\n",
       "      <td>21</td>\n",
       "      <td>1</td>\n",
       "      <td>11.0</td>\n",
       "      <td>1</td>\n",
       "      <td>&lt; 1 Year</td>\n",
       "      <td>No</td>\n",
       "      <td>28619.0</td>\n",
       "      <td>152.0</td>\n",
       "      <td>203</td>\n",
       "      <td>0</td>\n",
       "    </tr>\n",
       "    <tr>\n",
       "      <th>4</th>\n",
       "      <td>5</td>\n",
       "      <td>Female</td>\n",
       "      <td>29</td>\n",
       "      <td>1</td>\n",
       "      <td>41.0</td>\n",
       "      <td>1</td>\n",
       "      <td>&lt; 1 Year</td>\n",
       "      <td>No</td>\n",
       "      <td>27496.0</td>\n",
       "      <td>152.0</td>\n",
       "      <td>39</td>\n",
       "      <td>0</td>\n",
       "    </tr>\n",
       "  </tbody>\n",
       "</table>\n",
       "</div>"
      ],
      "text/plain": [
       "   id  Gender  Age  Driving_License  Region_Code  Previously_Insured  \\\n",
       "0   1    Male   44                1         28.0                   0   \n",
       "1   2    Male   76                1          3.0                   0   \n",
       "2   3    Male   47                1         28.0                   0   \n",
       "3   4    Male   21                1         11.0                   1   \n",
       "4   5  Female   29                1         41.0                   1   \n",
       "\n",
       "  Vehicle_Age Vehicle_Damage  Annual_Premium  Policy_Sales_Channel  Vintage  \\\n",
       "0   > 2 Years            Yes         40454.0                  26.0      217   \n",
       "1    1-2 Year             No         33536.0                  26.0      183   \n",
       "2   > 2 Years            Yes         38294.0                  26.0       27   \n",
       "3    < 1 Year             No         28619.0                 152.0      203   \n",
       "4    < 1 Year             No         27496.0                 152.0       39   \n",
       "\n",
       "   Response  \n",
       "0         1  \n",
       "1         0  \n",
       "2         1  \n",
       "3         0  \n",
       "4         0  "
      ]
     },
     "execution_count": 7,
     "metadata": {},
     "output_type": "execute_result"
    }
   ],
   "source": [
    "df.head()"
   ]
  },
  {
   "cell_type": "code",
   "execution_count": 8,
   "metadata": {},
   "outputs": [
    {
     "name": "stdout",
     "output_type": "stream",
     "text": [
      "Number of rows: 381109, number of features: 12\n"
     ]
    }
   ],
   "source": [
    "print('Number of rows: '+ format(df.shape[0]) +', number of features: '+ format(df.shape[1]))"
   ]
  },
  {
   "cell_type": "code",
   "execution_count": 37,
   "metadata": {},
   "outputs": [
    {
     "data": {
      "text/html": [
       "<div>\n",
       "<style scoped>\n",
       "    .dataframe tbody tr th:only-of-type {\n",
       "        vertical-align: middle;\n",
       "    }\n",
       "\n",
       "    .dataframe tbody tr th {\n",
       "        vertical-align: top;\n",
       "    }\n",
       "\n",
       "    .dataframe thead th {\n",
       "        text-align: right;\n",
       "    }\n",
       "</style>\n",
       "<table border=\"1\" class=\"dataframe\">\n",
       "  <thead>\n",
       "    <tr style=\"text-align: right;\">\n",
       "      <th></th>\n",
       "      <th>Gender</th>\n",
       "      <th>Age</th>\n",
       "      <th>Driving_License</th>\n",
       "      <th>Region_Code</th>\n",
       "      <th>Previously_Insured</th>\n",
       "      <th>Vehicle_Damage</th>\n",
       "      <th>Annual_Premium</th>\n",
       "      <th>Policy_Sales_Channel</th>\n",
       "      <th>Vintage</th>\n",
       "      <th>Response</th>\n",
       "      <th>Vehicle_Age_less_than_1_Year</th>\n",
       "      <th>Vehicle_Age_greater_than_2_Years</th>\n",
       "    </tr>\n",
       "    <tr>\n",
       "      <th>id</th>\n",
       "      <th></th>\n",
       "      <th></th>\n",
       "      <th></th>\n",
       "      <th></th>\n",
       "      <th></th>\n",
       "      <th></th>\n",
       "      <th></th>\n",
       "      <th></th>\n",
       "      <th></th>\n",
       "      <th></th>\n",
       "      <th></th>\n",
       "      <th></th>\n",
       "    </tr>\n",
       "  </thead>\n",
       "  <tbody>\n",
       "    <tr>\n",
       "      <th>1</th>\n",
       "      <td>False</td>\n",
       "      <td>False</td>\n",
       "      <td>False</td>\n",
       "      <td>False</td>\n",
       "      <td>False</td>\n",
       "      <td>False</td>\n",
       "      <td>False</td>\n",
       "      <td>False</td>\n",
       "      <td>False</td>\n",
       "      <td>False</td>\n",
       "      <td>False</td>\n",
       "      <td>False</td>\n",
       "    </tr>\n",
       "    <tr>\n",
       "      <th>2</th>\n",
       "      <td>False</td>\n",
       "      <td>False</td>\n",
       "      <td>False</td>\n",
       "      <td>False</td>\n",
       "      <td>False</td>\n",
       "      <td>False</td>\n",
       "      <td>False</td>\n",
       "      <td>False</td>\n",
       "      <td>False</td>\n",
       "      <td>False</td>\n",
       "      <td>False</td>\n",
       "      <td>False</td>\n",
       "    </tr>\n",
       "    <tr>\n",
       "      <th>3</th>\n",
       "      <td>False</td>\n",
       "      <td>False</td>\n",
       "      <td>False</td>\n",
       "      <td>False</td>\n",
       "      <td>False</td>\n",
       "      <td>False</td>\n",
       "      <td>False</td>\n",
       "      <td>False</td>\n",
       "      <td>False</td>\n",
       "      <td>False</td>\n",
       "      <td>False</td>\n",
       "      <td>False</td>\n",
       "    </tr>\n",
       "    <tr>\n",
       "      <th>4</th>\n",
       "      <td>False</td>\n",
       "      <td>False</td>\n",
       "      <td>False</td>\n",
       "      <td>False</td>\n",
       "      <td>False</td>\n",
       "      <td>False</td>\n",
       "      <td>False</td>\n",
       "      <td>False</td>\n",
       "      <td>False</td>\n",
       "      <td>False</td>\n",
       "      <td>False</td>\n",
       "      <td>False</td>\n",
       "    </tr>\n",
       "    <tr>\n",
       "      <th>5</th>\n",
       "      <td>False</td>\n",
       "      <td>False</td>\n",
       "      <td>False</td>\n",
       "      <td>False</td>\n",
       "      <td>False</td>\n",
       "      <td>False</td>\n",
       "      <td>False</td>\n",
       "      <td>False</td>\n",
       "      <td>False</td>\n",
       "      <td>False</td>\n",
       "      <td>False</td>\n",
       "      <td>False</td>\n",
       "    </tr>\n",
       "    <tr>\n",
       "      <th>...</th>\n",
       "      <td>...</td>\n",
       "      <td>...</td>\n",
       "      <td>...</td>\n",
       "      <td>...</td>\n",
       "      <td>...</td>\n",
       "      <td>...</td>\n",
       "      <td>...</td>\n",
       "      <td>...</td>\n",
       "      <td>...</td>\n",
       "      <td>...</td>\n",
       "      <td>...</td>\n",
       "      <td>...</td>\n",
       "    </tr>\n",
       "    <tr>\n",
       "      <th>381105</th>\n",
       "      <td>False</td>\n",
       "      <td>False</td>\n",
       "      <td>False</td>\n",
       "      <td>False</td>\n",
       "      <td>False</td>\n",
       "      <td>False</td>\n",
       "      <td>False</td>\n",
       "      <td>False</td>\n",
       "      <td>False</td>\n",
       "      <td>False</td>\n",
       "      <td>False</td>\n",
       "      <td>False</td>\n",
       "    </tr>\n",
       "    <tr>\n",
       "      <th>381106</th>\n",
       "      <td>False</td>\n",
       "      <td>False</td>\n",
       "      <td>False</td>\n",
       "      <td>False</td>\n",
       "      <td>False</td>\n",
       "      <td>False</td>\n",
       "      <td>False</td>\n",
       "      <td>False</td>\n",
       "      <td>False</td>\n",
       "      <td>False</td>\n",
       "      <td>False</td>\n",
       "      <td>False</td>\n",
       "    </tr>\n",
       "    <tr>\n",
       "      <th>381107</th>\n",
       "      <td>False</td>\n",
       "      <td>False</td>\n",
       "      <td>False</td>\n",
       "      <td>False</td>\n",
       "      <td>False</td>\n",
       "      <td>False</td>\n",
       "      <td>False</td>\n",
       "      <td>False</td>\n",
       "      <td>False</td>\n",
       "      <td>False</td>\n",
       "      <td>False</td>\n",
       "      <td>False</td>\n",
       "    </tr>\n",
       "    <tr>\n",
       "      <th>381108</th>\n",
       "      <td>False</td>\n",
       "      <td>False</td>\n",
       "      <td>False</td>\n",
       "      <td>False</td>\n",
       "      <td>False</td>\n",
       "      <td>False</td>\n",
       "      <td>False</td>\n",
       "      <td>False</td>\n",
       "      <td>False</td>\n",
       "      <td>False</td>\n",
       "      <td>False</td>\n",
       "      <td>False</td>\n",
       "    </tr>\n",
       "    <tr>\n",
       "      <th>381109</th>\n",
       "      <td>False</td>\n",
       "      <td>False</td>\n",
       "      <td>False</td>\n",
       "      <td>False</td>\n",
       "      <td>False</td>\n",
       "      <td>False</td>\n",
       "      <td>False</td>\n",
       "      <td>False</td>\n",
       "      <td>False</td>\n",
       "      <td>False</td>\n",
       "      <td>False</td>\n",
       "      <td>False</td>\n",
       "    </tr>\n",
       "  </tbody>\n",
       "</table>\n",
       "<p>381109 rows × 12 columns</p>\n",
       "</div>"
      ],
      "text/plain": [
       "        Gender    Age  Driving_License  Region_Code  Previously_Insured  \\\n",
       "id                                                                        \n",
       "1        False  False            False        False               False   \n",
       "2        False  False            False        False               False   \n",
       "3        False  False            False        False               False   \n",
       "4        False  False            False        False               False   \n",
       "5        False  False            False        False               False   \n",
       "...        ...    ...              ...          ...                 ...   \n",
       "381105   False  False            False        False               False   \n",
       "381106   False  False            False        False               False   \n",
       "381107   False  False            False        False               False   \n",
       "381108   False  False            False        False               False   \n",
       "381109   False  False            False        False               False   \n",
       "\n",
       "        Vehicle_Damage  Annual_Premium  Policy_Sales_Channel  Vintage  \\\n",
       "id                                                                      \n",
       "1                False           False                 False    False   \n",
       "2                False           False                 False    False   \n",
       "3                False           False                 False    False   \n",
       "4                False           False                 False    False   \n",
       "5                False           False                 False    False   \n",
       "...                ...             ...                   ...      ...   \n",
       "381105           False           False                 False    False   \n",
       "381106           False           False                 False    False   \n",
       "381107           False           False                 False    False   \n",
       "381108           False           False                 False    False   \n",
       "381109           False           False                 False    False   \n",
       "\n",
       "        Response  Vehicle_Age_less_than_1_Year  \\\n",
       "id                                               \n",
       "1          False                         False   \n",
       "2          False                         False   \n",
       "3          False                         False   \n",
       "4          False                         False   \n",
       "5          False                         False   \n",
       "...          ...                           ...   \n",
       "381105     False                         False   \n",
       "381106     False                         False   \n",
       "381107     False                         False   \n",
       "381108     False                         False   \n",
       "381109     False                         False   \n",
       "\n",
       "        Vehicle_Age_greater_than_2_Years  \n",
       "id                                        \n",
       "1                                  False  \n",
       "2                                  False  \n",
       "3                                  False  \n",
       "4                                  False  \n",
       "5                                  False  \n",
       "...                                  ...  \n",
       "381105                             False  \n",
       "381106                             False  \n",
       "381107                             False  \n",
       "381108                             False  \n",
       "381109                             False  \n",
       "\n",
       "[381109 rows x 12 columns]"
      ]
     },
     "execution_count": 37,
     "metadata": {},
     "output_type": "execute_result"
    }
   ],
   "source": [
    "df.isnull()"
   ]
  },
  {
   "cell_type": "code",
   "execution_count": 10,
   "metadata": {},
   "outputs": [
    {
     "data": {
      "text/plain": [
       "id                      0\n",
       "Gender                  0\n",
       "Age                     0\n",
       "Driving_License         0\n",
       "Region_Code             0\n",
       "Previously_Insured      0\n",
       "Vehicle_Age             0\n",
       "Vehicle_Damage          0\n",
       "Annual_Premium          0\n",
       "Policy_Sales_Channel    0\n",
       "Vintage                 0\n",
       "Response                0\n",
       "dtype: int64"
      ]
     },
     "execution_count": 10,
     "metadata": {},
     "output_type": "execute_result"
    }
   ],
   "source": [
    "##counting the number of na values in data frame\n",
    "df.isnull().sum(axis = 0)"
   ]
  },
  {
   "cell_type": "code",
   "execution_count": 9,
   "metadata": {},
   "outputs": [
    {
     "data": {
      "text/plain": [
       "array(['> 2 Years', '1-2 Year', '< 1 Year'], dtype=object)"
      ]
     },
     "execution_count": 9,
     "metadata": {},
     "output_type": "execute_result"
    }
   ],
   "source": [
    "df.Vehicle_Age.unique()"
   ]
  },
  {
   "cell_type": "code",
   "execution_count": 10,
   "metadata": {},
   "outputs": [
    {
     "data": {
      "text/html": [
       "<div>\n",
       "<style scoped>\n",
       "    .dataframe tbody tr th:only-of-type {\n",
       "        vertical-align: middle;\n",
       "    }\n",
       "\n",
       "    .dataframe tbody tr th {\n",
       "        vertical-align: top;\n",
       "    }\n",
       "\n",
       "    .dataframe thead th {\n",
       "        text-align: right;\n",
       "    }\n",
       "</style>\n",
       "<table border=\"1\" class=\"dataframe\">\n",
       "  <thead>\n",
       "    <tr style=\"text-align: right;\">\n",
       "      <th></th>\n",
       "      <th>id</th>\n",
       "      <th>Gender</th>\n",
       "      <th>Age</th>\n",
       "      <th>Driving_License</th>\n",
       "      <th>Region_Code</th>\n",
       "      <th>Previously_Insured</th>\n",
       "      <th>Vehicle_Age</th>\n",
       "      <th>Vehicle_Damage</th>\n",
       "      <th>Annual_Premium</th>\n",
       "      <th>Policy_Sales_Channel</th>\n",
       "      <th>Vintage</th>\n",
       "      <th>Response</th>\n",
       "    </tr>\n",
       "  </thead>\n",
       "  <tbody>\n",
       "    <tr>\n",
       "      <th>0</th>\n",
       "      <td>1</td>\n",
       "      <td>Male</td>\n",
       "      <td>44</td>\n",
       "      <td>1</td>\n",
       "      <td>28.0</td>\n",
       "      <td>0</td>\n",
       "      <td>&gt; 2 Years</td>\n",
       "      <td>Yes</td>\n",
       "      <td>40454.0</td>\n",
       "      <td>26.0</td>\n",
       "      <td>217</td>\n",
       "      <td>1</td>\n",
       "    </tr>\n",
       "    <tr>\n",
       "      <th>1</th>\n",
       "      <td>2</td>\n",
       "      <td>Male</td>\n",
       "      <td>76</td>\n",
       "      <td>1</td>\n",
       "      <td>3.0</td>\n",
       "      <td>0</td>\n",
       "      <td>1-2 Year</td>\n",
       "      <td>No</td>\n",
       "      <td>33536.0</td>\n",
       "      <td>26.0</td>\n",
       "      <td>183</td>\n",
       "      <td>0</td>\n",
       "    </tr>\n",
       "    <tr>\n",
       "      <th>2</th>\n",
       "      <td>3</td>\n",
       "      <td>Male</td>\n",
       "      <td>47</td>\n",
       "      <td>1</td>\n",
       "      <td>28.0</td>\n",
       "      <td>0</td>\n",
       "      <td>&gt; 2 Years</td>\n",
       "      <td>Yes</td>\n",
       "      <td>38294.0</td>\n",
       "      <td>26.0</td>\n",
       "      <td>27</td>\n",
       "      <td>1</td>\n",
       "    </tr>\n",
       "    <tr>\n",
       "      <th>3</th>\n",
       "      <td>4</td>\n",
       "      <td>Male</td>\n",
       "      <td>21</td>\n",
       "      <td>1</td>\n",
       "      <td>11.0</td>\n",
       "      <td>1</td>\n",
       "      <td>&lt; 1 Year</td>\n",
       "      <td>No</td>\n",
       "      <td>28619.0</td>\n",
       "      <td>152.0</td>\n",
       "      <td>203</td>\n",
       "      <td>0</td>\n",
       "    </tr>\n",
       "    <tr>\n",
       "      <th>4</th>\n",
       "      <td>5</td>\n",
       "      <td>Female</td>\n",
       "      <td>29</td>\n",
       "      <td>1</td>\n",
       "      <td>41.0</td>\n",
       "      <td>1</td>\n",
       "      <td>&lt; 1 Year</td>\n",
       "      <td>No</td>\n",
       "      <td>27496.0</td>\n",
       "      <td>152.0</td>\n",
       "      <td>39</td>\n",
       "      <td>0</td>\n",
       "    </tr>\n",
       "  </tbody>\n",
       "</table>\n",
       "</div>"
      ],
      "text/plain": [
       "   id  Gender  Age  Driving_License  Region_Code  Previously_Insured  \\\n",
       "0   1    Male   44                1         28.0                   0   \n",
       "1   2    Male   76                1          3.0                   0   \n",
       "2   3    Male   47                1         28.0                   0   \n",
       "3   4    Male   21                1         11.0                   1   \n",
       "4   5  Female   29                1         41.0                   1   \n",
       "\n",
       "  Vehicle_Age Vehicle_Damage  Annual_Premium  Policy_Sales_Channel  Vintage  \\\n",
       "0   > 2 Years            Yes         40454.0                  26.0      217   \n",
       "1    1-2 Year             No         33536.0                  26.0      183   \n",
       "2   > 2 Years            Yes         38294.0                  26.0       27   \n",
       "3    < 1 Year             No         28619.0                 152.0      203   \n",
       "4    < 1 Year             No         27496.0                 152.0       39   \n",
       "\n",
       "   Response  \n",
       "0         1  \n",
       "1         0  \n",
       "2         1  \n",
       "3         0  \n",
       "4         0  "
      ]
     },
     "execution_count": 10,
     "metadata": {},
     "output_type": "execute_result"
    }
   ],
   "source": [
    "df.head()"
   ]
  },
  {
   "cell_type": "code",
   "execution_count": 11,
   "metadata": {},
   "outputs": [
    {
     "data": {
      "text/html": [
       "<div>\n",
       "<style scoped>\n",
       "    .dataframe tbody tr th:only-of-type {\n",
       "        vertical-align: middle;\n",
       "    }\n",
       "\n",
       "    .dataframe tbody tr th {\n",
       "        vertical-align: top;\n",
       "    }\n",
       "\n",
       "    .dataframe thead th {\n",
       "        text-align: right;\n",
       "    }\n",
       "</style>\n",
       "<table border=\"1\" class=\"dataframe\">\n",
       "  <thead>\n",
       "    <tr style=\"text-align: right;\">\n",
       "      <th></th>\n",
       "      <th>Gender</th>\n",
       "      <th>Age</th>\n",
       "      <th>Driving_License</th>\n",
       "      <th>Region_Code</th>\n",
       "      <th>Previously_Insured</th>\n",
       "      <th>Vehicle_Age</th>\n",
       "      <th>Vehicle_Damage</th>\n",
       "      <th>Annual_Premium</th>\n",
       "      <th>Policy_Sales_Channel</th>\n",
       "      <th>Vintage</th>\n",
       "      <th>Response</th>\n",
       "    </tr>\n",
       "    <tr>\n",
       "      <th>id</th>\n",
       "      <th></th>\n",
       "      <th></th>\n",
       "      <th></th>\n",
       "      <th></th>\n",
       "      <th></th>\n",
       "      <th></th>\n",
       "      <th></th>\n",
       "      <th></th>\n",
       "      <th></th>\n",
       "      <th></th>\n",
       "      <th></th>\n",
       "    </tr>\n",
       "  </thead>\n",
       "  <tbody>\n",
       "    <tr>\n",
       "      <th>1</th>\n",
       "      <td>Male</td>\n",
       "      <td>44</td>\n",
       "      <td>1</td>\n",
       "      <td>28.0</td>\n",
       "      <td>0</td>\n",
       "      <td>&gt; 2 Years</td>\n",
       "      <td>Yes</td>\n",
       "      <td>40454.0</td>\n",
       "      <td>26.0</td>\n",
       "      <td>217</td>\n",
       "      <td>1</td>\n",
       "    </tr>\n",
       "    <tr>\n",
       "      <th>2</th>\n",
       "      <td>Male</td>\n",
       "      <td>76</td>\n",
       "      <td>1</td>\n",
       "      <td>3.0</td>\n",
       "      <td>0</td>\n",
       "      <td>1-2 Year</td>\n",
       "      <td>No</td>\n",
       "      <td>33536.0</td>\n",
       "      <td>26.0</td>\n",
       "      <td>183</td>\n",
       "      <td>0</td>\n",
       "    </tr>\n",
       "    <tr>\n",
       "      <th>3</th>\n",
       "      <td>Male</td>\n",
       "      <td>47</td>\n",
       "      <td>1</td>\n",
       "      <td>28.0</td>\n",
       "      <td>0</td>\n",
       "      <td>&gt; 2 Years</td>\n",
       "      <td>Yes</td>\n",
       "      <td>38294.0</td>\n",
       "      <td>26.0</td>\n",
       "      <td>27</td>\n",
       "      <td>1</td>\n",
       "    </tr>\n",
       "    <tr>\n",
       "      <th>4</th>\n",
       "      <td>Male</td>\n",
       "      <td>21</td>\n",
       "      <td>1</td>\n",
       "      <td>11.0</td>\n",
       "      <td>1</td>\n",
       "      <td>&lt; 1 Year</td>\n",
       "      <td>No</td>\n",
       "      <td>28619.0</td>\n",
       "      <td>152.0</td>\n",
       "      <td>203</td>\n",
       "      <td>0</td>\n",
       "    </tr>\n",
       "    <tr>\n",
       "      <th>5</th>\n",
       "      <td>Female</td>\n",
       "      <td>29</td>\n",
       "      <td>1</td>\n",
       "      <td>41.0</td>\n",
       "      <td>1</td>\n",
       "      <td>&lt; 1 Year</td>\n",
       "      <td>No</td>\n",
       "      <td>27496.0</td>\n",
       "      <td>152.0</td>\n",
       "      <td>39</td>\n",
       "      <td>0</td>\n",
       "    </tr>\n",
       "  </tbody>\n",
       "</table>\n",
       "</div>"
      ],
      "text/plain": [
       "    Gender  Age  Driving_License  Region_Code  Previously_Insured Vehicle_Age  \\\n",
       "id                                                                              \n",
       "1     Male   44                1         28.0                   0   > 2 Years   \n",
       "2     Male   76                1          3.0                   0    1-2 Year   \n",
       "3     Male   47                1         28.0                   0   > 2 Years   \n",
       "4     Male   21                1         11.0                   1    < 1 Year   \n",
       "5   Female   29                1         41.0                   1    < 1 Year   \n",
       "\n",
       "   Vehicle_Damage  Annual_Premium  Policy_Sales_Channel  Vintage  Response  \n",
       "id                                                                          \n",
       "1             Yes         40454.0                  26.0      217         1  \n",
       "2              No         33536.0                  26.0      183         0  \n",
       "3             Yes         38294.0                  26.0       27         1  \n",
       "4              No         28619.0                 152.0      203         0  \n",
       "5              No         27496.0                 152.0       39         0  "
      ]
     },
     "execution_count": 11,
     "metadata": {},
     "output_type": "execute_result"
    }
   ],
   "source": [
    "C = (df.dtypes == 'object')\n",
    "CategoricalVariables = list(C[C].index)\n",
    "\n",
    "Integer = (df.dtypes == 'int64') \n",
    "Float   = (df.dtypes == 'float64') \n",
    "NumericVariables = list(Integer[Integer].index) + list(Float[Float].index)\n",
    "df=df.set_index(\"id\")\n",
    "\n",
    "\n",
    "C = (df.dtypes == 'object')\n",
    "CategoricalVariables = list(C[C].index)\n",
    "\n",
    "Integer = (df.dtypes == 'int64') \n",
    "Float   = (df.dtypes == 'float64') \n",
    "NumericVariables = list(Integer[Integer].index) + list(Float[Float].index)\n",
    "\n",
    "df.head()\n",
    "\n"
   ]
  },
  {
   "cell_type": "code",
   "execution_count": 12,
   "metadata": {},
   "outputs": [
    {
     "data": {
      "text/plain": [
       "['Gender', 'Vehicle_Age', 'Vehicle_Damage']"
      ]
     },
     "execution_count": 12,
     "metadata": {},
     "output_type": "execute_result"
    }
   ],
   "source": [
    "CategoricalVariables"
   ]
  },
  {
   "cell_type": "code",
   "execution_count": 13,
   "metadata": {},
   "outputs": [],
   "source": [
    "###hot enocoding\n",
    "\n",
    "Gender_Age_Map  = {'Male':1,'Female':0}\n",
    "\n",
    "df['Gender'] = df['Gender'].map(Gender_Age_Map)\n",
    "\n",
    "Vehicle_Damage_Age_Map  = {'Yes':1,'No':0}\n",
    "\n",
    "df['Vehicle_Damage'] = df['Vehicle_Damage'].map(Vehicle_Damage_Age_Map)\n",
    "\n",
    "\n",
    "df=pd.get_dummies(df,drop_first=True)\n",
    "df.head()\n",
    "\n"
   ]
  },
  {
   "cell_type": "code",
   "execution_count": 14,
   "metadata": {},
   "outputs": [
    {
     "data": {
      "text/html": [
       "<div>\n",
       "<style scoped>\n",
       "    .dataframe tbody tr th:only-of-type {\n",
       "        vertical-align: middle;\n",
       "    }\n",
       "\n",
       "    .dataframe tbody tr th {\n",
       "        vertical-align: top;\n",
       "    }\n",
       "\n",
       "    .dataframe thead th {\n",
       "        text-align: right;\n",
       "    }\n",
       "</style>\n",
       "<table border=\"1\" class=\"dataframe\">\n",
       "  <thead>\n",
       "    <tr style=\"text-align: right;\">\n",
       "      <th></th>\n",
       "      <th>Gender</th>\n",
       "      <th>Age</th>\n",
       "      <th>Driving_License</th>\n",
       "      <th>Region_Code</th>\n",
       "      <th>Previously_Insured</th>\n",
       "      <th>Vehicle_Age</th>\n",
       "      <th>Vehicle_Damage</th>\n",
       "      <th>Annual_Premium</th>\n",
       "      <th>Policy_Sales_Channel</th>\n",
       "      <th>Vintage</th>\n",
       "      <th>Response</th>\n",
       "    </tr>\n",
       "    <tr>\n",
       "      <th>id</th>\n",
       "      <th></th>\n",
       "      <th></th>\n",
       "      <th></th>\n",
       "      <th></th>\n",
       "      <th></th>\n",
       "      <th></th>\n",
       "      <th></th>\n",
       "      <th></th>\n",
       "      <th></th>\n",
       "      <th></th>\n",
       "      <th></th>\n",
       "    </tr>\n",
       "  </thead>\n",
       "  <tbody>\n",
       "    <tr>\n",
       "      <th>1</th>\n",
       "      <td>1</td>\n",
       "      <td>44</td>\n",
       "      <td>1</td>\n",
       "      <td>28.0</td>\n",
       "      <td>0</td>\n",
       "      <td>&gt; 2 Years</td>\n",
       "      <td>1</td>\n",
       "      <td>40454.0</td>\n",
       "      <td>26.0</td>\n",
       "      <td>217</td>\n",
       "      <td>1</td>\n",
       "    </tr>\n",
       "    <tr>\n",
       "      <th>2</th>\n",
       "      <td>1</td>\n",
       "      <td>76</td>\n",
       "      <td>1</td>\n",
       "      <td>3.0</td>\n",
       "      <td>0</td>\n",
       "      <td>1-2 Year</td>\n",
       "      <td>0</td>\n",
       "      <td>33536.0</td>\n",
       "      <td>26.0</td>\n",
       "      <td>183</td>\n",
       "      <td>0</td>\n",
       "    </tr>\n",
       "    <tr>\n",
       "      <th>3</th>\n",
       "      <td>1</td>\n",
       "      <td>47</td>\n",
       "      <td>1</td>\n",
       "      <td>28.0</td>\n",
       "      <td>0</td>\n",
       "      <td>&gt; 2 Years</td>\n",
       "      <td>1</td>\n",
       "      <td>38294.0</td>\n",
       "      <td>26.0</td>\n",
       "      <td>27</td>\n",
       "      <td>1</td>\n",
       "    </tr>\n",
       "    <tr>\n",
       "      <th>4</th>\n",
       "      <td>1</td>\n",
       "      <td>21</td>\n",
       "      <td>1</td>\n",
       "      <td>11.0</td>\n",
       "      <td>1</td>\n",
       "      <td>&lt; 1 Year</td>\n",
       "      <td>0</td>\n",
       "      <td>28619.0</td>\n",
       "      <td>152.0</td>\n",
       "      <td>203</td>\n",
       "      <td>0</td>\n",
       "    </tr>\n",
       "    <tr>\n",
       "      <th>5</th>\n",
       "      <td>0</td>\n",
       "      <td>29</td>\n",
       "      <td>1</td>\n",
       "      <td>41.0</td>\n",
       "      <td>1</td>\n",
       "      <td>&lt; 1 Year</td>\n",
       "      <td>0</td>\n",
       "      <td>27496.0</td>\n",
       "      <td>152.0</td>\n",
       "      <td>39</td>\n",
       "      <td>0</td>\n",
       "    </tr>\n",
       "  </tbody>\n",
       "</table>\n",
       "</div>"
      ],
      "text/plain": [
       "    Gender  Age  Driving_License  Region_Code  Previously_Insured Vehicle_Age  \\\n",
       "id                                                                              \n",
       "1        1   44                1         28.0                   0   > 2 Years   \n",
       "2        1   76                1          3.0                   0    1-2 Year   \n",
       "3        1   47                1         28.0                   0   > 2 Years   \n",
       "4        1   21                1         11.0                   1    < 1 Year   \n",
       "5        0   29                1         41.0                   1    < 1 Year   \n",
       "\n",
       "    Vehicle_Damage  Annual_Premium  Policy_Sales_Channel  Vintage  Response  \n",
       "id                                                                           \n",
       "1                1         40454.0                  26.0      217         1  \n",
       "2                0         33536.0                  26.0      183         0  \n",
       "3                1         38294.0                  26.0       27         1  \n",
       "4                0         28619.0                 152.0      203         0  \n",
       "5                0         27496.0                 152.0       39         0  "
      ]
     },
     "execution_count": 14,
     "metadata": {},
     "output_type": "execute_result"
    }
   ],
   "source": [
    "df.head()"
   ]
  },
  {
   "cell_type": "code",
   "execution_count": 15,
   "metadata": {},
   "outputs": [
    {
     "data": {
      "text/html": [
       "<div>\n",
       "<style scoped>\n",
       "    .dataframe tbody tr th:only-of-type {\n",
       "        vertical-align: middle;\n",
       "    }\n",
       "\n",
       "    .dataframe tbody tr th {\n",
       "        vertical-align: top;\n",
       "    }\n",
       "\n",
       "    .dataframe thead th {\n",
       "        text-align: right;\n",
       "    }\n",
       "</style>\n",
       "<table border=\"1\" class=\"dataframe\">\n",
       "  <thead>\n",
       "    <tr style=\"text-align: right;\">\n",
       "      <th></th>\n",
       "      <th>Gender</th>\n",
       "      <th>Age</th>\n",
       "      <th>Driving_License</th>\n",
       "      <th>Region_Code</th>\n",
       "      <th>Previously_Insured</th>\n",
       "      <th>Vehicle_Damage</th>\n",
       "      <th>Annual_Premium</th>\n",
       "      <th>Policy_Sales_Channel</th>\n",
       "      <th>Vintage</th>\n",
       "      <th>Response</th>\n",
       "      <th>Vehicle_Age_&lt; 1 Year</th>\n",
       "      <th>Vehicle_Age_&gt; 2 Years</th>\n",
       "    </tr>\n",
       "    <tr>\n",
       "      <th>id</th>\n",
       "      <th></th>\n",
       "      <th></th>\n",
       "      <th></th>\n",
       "      <th></th>\n",
       "      <th></th>\n",
       "      <th></th>\n",
       "      <th></th>\n",
       "      <th></th>\n",
       "      <th></th>\n",
       "      <th></th>\n",
       "      <th></th>\n",
       "      <th></th>\n",
       "    </tr>\n",
       "  </thead>\n",
       "  <tbody>\n",
       "    <tr>\n",
       "      <th>1</th>\n",
       "      <td>1</td>\n",
       "      <td>44</td>\n",
       "      <td>1</td>\n",
       "      <td>28.0</td>\n",
       "      <td>0</td>\n",
       "      <td>1</td>\n",
       "      <td>40454.0</td>\n",
       "      <td>26.0</td>\n",
       "      <td>217</td>\n",
       "      <td>1</td>\n",
       "      <td>0</td>\n",
       "      <td>1</td>\n",
       "    </tr>\n",
       "    <tr>\n",
       "      <th>2</th>\n",
       "      <td>1</td>\n",
       "      <td>76</td>\n",
       "      <td>1</td>\n",
       "      <td>3.0</td>\n",
       "      <td>0</td>\n",
       "      <td>0</td>\n",
       "      <td>33536.0</td>\n",
       "      <td>26.0</td>\n",
       "      <td>183</td>\n",
       "      <td>0</td>\n",
       "      <td>0</td>\n",
       "      <td>0</td>\n",
       "    </tr>\n",
       "    <tr>\n",
       "      <th>3</th>\n",
       "      <td>1</td>\n",
       "      <td>47</td>\n",
       "      <td>1</td>\n",
       "      <td>28.0</td>\n",
       "      <td>0</td>\n",
       "      <td>1</td>\n",
       "      <td>38294.0</td>\n",
       "      <td>26.0</td>\n",
       "      <td>27</td>\n",
       "      <td>1</td>\n",
       "      <td>0</td>\n",
       "      <td>1</td>\n",
       "    </tr>\n",
       "    <tr>\n",
       "      <th>4</th>\n",
       "      <td>1</td>\n",
       "      <td>21</td>\n",
       "      <td>1</td>\n",
       "      <td>11.0</td>\n",
       "      <td>1</td>\n",
       "      <td>0</td>\n",
       "      <td>28619.0</td>\n",
       "      <td>152.0</td>\n",
       "      <td>203</td>\n",
       "      <td>0</td>\n",
       "      <td>1</td>\n",
       "      <td>0</td>\n",
       "    </tr>\n",
       "    <tr>\n",
       "      <th>5</th>\n",
       "      <td>0</td>\n",
       "      <td>29</td>\n",
       "      <td>1</td>\n",
       "      <td>41.0</td>\n",
       "      <td>1</td>\n",
       "      <td>0</td>\n",
       "      <td>27496.0</td>\n",
       "      <td>152.0</td>\n",
       "      <td>39</td>\n",
       "      <td>0</td>\n",
       "      <td>1</td>\n",
       "      <td>0</td>\n",
       "    </tr>\n",
       "  </tbody>\n",
       "</table>\n",
       "</div>"
      ],
      "text/plain": [
       "    Gender  Age  Driving_License  Region_Code  Previously_Insured  \\\n",
       "id                                                                  \n",
       "1        1   44                1         28.0                   0   \n",
       "2        1   76                1          3.0                   0   \n",
       "3        1   47                1         28.0                   0   \n",
       "4        1   21                1         11.0                   1   \n",
       "5        0   29                1         41.0                   1   \n",
       "\n",
       "    Vehicle_Damage  Annual_Premium  Policy_Sales_Channel  Vintage  Response  \\\n",
       "id                                                                            \n",
       "1                1         40454.0                  26.0      217         1   \n",
       "2                0         33536.0                  26.0      183         0   \n",
       "3                1         38294.0                  26.0       27         1   \n",
       "4                0         28619.0                 152.0      203         0   \n",
       "5                0         27496.0                 152.0       39         0   \n",
       "\n",
       "    Vehicle_Age_< 1 Year  Vehicle_Age_> 2 Years  \n",
       "id                                               \n",
       "1                      0                      1  \n",
       "2                      0                      0  \n",
       "3                      0                      1  \n",
       "4                      1                      0  \n",
       "5                      1                      0  "
      ]
     },
     "execution_count": 15,
     "metadata": {},
     "output_type": "execute_result"
    }
   ],
   "source": []
  },
  {
   "cell_type": "code",
   "execution_count": 16,
   "metadata": {},
   "outputs": [
    {
     "data": {
      "text/html": [
       "<div>\n",
       "<style scoped>\n",
       "    .dataframe tbody tr th:only-of-type {\n",
       "        vertical-align: middle;\n",
       "    }\n",
       "\n",
       "    .dataframe tbody tr th {\n",
       "        vertical-align: top;\n",
       "    }\n",
       "\n",
       "    .dataframe thead th {\n",
       "        text-align: right;\n",
       "    }\n",
       "</style>\n",
       "<table border=\"1\" class=\"dataframe\">\n",
       "  <thead>\n",
       "    <tr style=\"text-align: right;\">\n",
       "      <th></th>\n",
       "      <th>Gender</th>\n",
       "      <th>Age</th>\n",
       "      <th>Driving_License</th>\n",
       "      <th>Region_Code</th>\n",
       "      <th>Previously_Insured</th>\n",
       "      <th>Vehicle_Damage</th>\n",
       "      <th>Annual_Premium</th>\n",
       "      <th>Policy_Sales_Channel</th>\n",
       "      <th>Vintage</th>\n",
       "      <th>Response</th>\n",
       "      <th>Vehicle_Age_less_than_1_Year</th>\n",
       "      <th>Vehicle_Age_greater_than_2_Years</th>\n",
       "    </tr>\n",
       "    <tr>\n",
       "      <th>id</th>\n",
       "      <th></th>\n",
       "      <th></th>\n",
       "      <th></th>\n",
       "      <th></th>\n",
       "      <th></th>\n",
       "      <th></th>\n",
       "      <th></th>\n",
       "      <th></th>\n",
       "      <th></th>\n",
       "      <th></th>\n",
       "      <th></th>\n",
       "      <th></th>\n",
       "    </tr>\n",
       "  </thead>\n",
       "  <tbody>\n",
       "    <tr>\n",
       "      <th>1</th>\n",
       "      <td>1</td>\n",
       "      <td>44</td>\n",
       "      <td>1</td>\n",
       "      <td>28.0</td>\n",
       "      <td>0</td>\n",
       "      <td>1</td>\n",
       "      <td>40454.0</td>\n",
       "      <td>26.0</td>\n",
       "      <td>217</td>\n",
       "      <td>1</td>\n",
       "      <td>0</td>\n",
       "      <td>1</td>\n",
       "    </tr>\n",
       "    <tr>\n",
       "      <th>2</th>\n",
       "      <td>1</td>\n",
       "      <td>76</td>\n",
       "      <td>1</td>\n",
       "      <td>3.0</td>\n",
       "      <td>0</td>\n",
       "      <td>0</td>\n",
       "      <td>33536.0</td>\n",
       "      <td>26.0</td>\n",
       "      <td>183</td>\n",
       "      <td>0</td>\n",
       "      <td>0</td>\n",
       "      <td>0</td>\n",
       "    </tr>\n",
       "    <tr>\n",
       "      <th>3</th>\n",
       "      <td>1</td>\n",
       "      <td>47</td>\n",
       "      <td>1</td>\n",
       "      <td>28.0</td>\n",
       "      <td>0</td>\n",
       "      <td>1</td>\n",
       "      <td>38294.0</td>\n",
       "      <td>26.0</td>\n",
       "      <td>27</td>\n",
       "      <td>1</td>\n",
       "      <td>0</td>\n",
       "      <td>1</td>\n",
       "    </tr>\n",
       "    <tr>\n",
       "      <th>4</th>\n",
       "      <td>1</td>\n",
       "      <td>21</td>\n",
       "      <td>1</td>\n",
       "      <td>11.0</td>\n",
       "      <td>1</td>\n",
       "      <td>0</td>\n",
       "      <td>28619.0</td>\n",
       "      <td>152.0</td>\n",
       "      <td>203</td>\n",
       "      <td>0</td>\n",
       "      <td>1</td>\n",
       "      <td>0</td>\n",
       "    </tr>\n",
       "    <tr>\n",
       "      <th>5</th>\n",
       "      <td>0</td>\n",
       "      <td>29</td>\n",
       "      <td>1</td>\n",
       "      <td>41.0</td>\n",
       "      <td>1</td>\n",
       "      <td>0</td>\n",
       "      <td>27496.0</td>\n",
       "      <td>152.0</td>\n",
       "      <td>39</td>\n",
       "      <td>0</td>\n",
       "      <td>1</td>\n",
       "      <td>0</td>\n",
       "    </tr>\n",
       "  </tbody>\n",
       "</table>\n",
       "</div>"
      ],
      "text/plain": [
       "    Gender  Age  Driving_License  Region_Code  Previously_Insured  \\\n",
       "id                                                                  \n",
       "1        1   44                1         28.0                   0   \n",
       "2        1   76                1          3.0                   0   \n",
       "3        1   47                1         28.0                   0   \n",
       "4        1   21                1         11.0                   1   \n",
       "5        0   29                1         41.0                   1   \n",
       "\n",
       "    Vehicle_Damage  Annual_Premium  Policy_Sales_Channel  Vintage  Response  \\\n",
       "id                                                                            \n",
       "1                1         40454.0                  26.0      217         1   \n",
       "2                0         33536.0                  26.0      183         0   \n",
       "3                1         38294.0                  26.0       27         1   \n",
       "4                0         28619.0                 152.0      203         0   \n",
       "5                0         27496.0                 152.0       39         0   \n",
       "\n",
       "    Vehicle_Age_less_than_1_Year  Vehicle_Age_greater_than_2_Years  \n",
       "id                                                                  \n",
       "1                              0                                 1  \n",
       "2                              0                                 0  \n",
       "3                              0                                 1  \n",
       "4                              1                                 0  \n",
       "5                              1                                 0  "
      ]
     },
     "execution_count": 16,
     "metadata": {},
     "output_type": "execute_result"
    }
   ],
   "source": [
    "df=df.rename(columns={\"Vehicle_Age_< 1 Year\": \"Vehicle_Age_less_than_1_Year\", \"Vehicle_Age_> 2 Years\": \n",
    "                      \"Vehicle_Age_greater_than_2_Years\"})\n",
    "df['Vehicle_Age_less_than_1_Year']=df['Vehicle_Age_less_than_1_Year'].astype('int')\n",
    "df['Vehicle_Age_greater_than_2_Years']=df['Vehicle_Age_greater_than_2_Years'].astype('int')\n",
    "\n",
    "df.head()"
   ]
  },
  {
   "cell_type": "code",
   "execution_count": 19,
   "metadata": {},
   "outputs": [],
   "source": [
    "####visualization"
   ]
  },
  {
   "cell_type": "code",
   "execution_count": 20,
   "metadata": {},
   "outputs": [],
   "source": [
    "df_vis = pd.read_csv('C:/Data mining/Proj/train.csv')\n",
    "cols=['Driving_License','Previously_Insured','Response']\n",
    "for col in cols:\n",
    "    df_vis[col] = df_vis[col].map({0:'No',1:'Yes'})"
   ]
  },
  {
   "cell_type": "code",
   "execution_count": 21,
   "metadata": {},
   "outputs": [
    {
     "data": {
      "image/png": "[encoded data removed]",
      "text/plain": [
       "<Figure size 432x288 with 1 Axes>"
      ]
     },
     "metadata": {
      "needs_background": "light"
     },
     "output_type": "display_data"
    }
   ],
   "source": [
    "###response visualization\n",
    "\n",
    "sns.countplot(df_vis['Response'],palette='mako')\n",
    "plt.title(\"Target variable Distribution in data\");"
   ]
  },
  {
   "cell_type": "code",
   "execution_count": 19,
   "metadata": {},
   "outputs": [
    {
     "data": {
      "image/png": "[encoded data removed]",
      "text/plain": [
       "<Figure size 432x288 with 1 Axes>"
      ]
     },
     "metadata": {
      "needs_background": "light"
     },
     "output_type": "display_data"
    }
   ],
   "source": [
    "##gender distribution\n",
    "\n",
    "sns.countplot(df_vis['Gender'],palette='rocket')\n",
    "plt.title(\"Gender Distribution in data\");"
   ]
  },
  {
   "cell_type": "code",
   "execution_count": 20,
   "metadata": {},
   "outputs": [
    {
     "name": "stdout",
     "output_type": "stream",
     "text": [
      "Age distribution according to Response\n"
     ]
    },
    {
     "data": {
      "image/png": "[encoded data removed]",
      "text/plain": [
       "<Figure size 920.25x216 with 1 Axes>"
      ]
     },
     "metadata": {
      "needs_background": "light"
     },
     "output_type": "display_data"
    }
   ],
   "source": [
    "####Age distribution\n",
    "\n",
    "\n",
    "print(\"Age distribution according to Response\")\n",
    "facetgrid = sns.FacetGrid(df_vis,hue=\"Response\",aspect = 4)\n",
    "facetgrid.map(sns.kdeplot,\"Age\",shade = True)\n",
    "facetgrid.set(xlim = (0,df_vis[\"Age\"].max()))\n",
    "facetgrid.add_legend();"
   ]
  },
  {
   "cell_type": "code",
   "execution_count": 21,
   "metadata": {},
   "outputs": [
    {
     "data": {
      "text/html": [
       "<div>\n",
       "<style scoped>\n",
       "    .dataframe tbody tr th:only-of-type {\n",
       "        vertical-align: middle;\n",
       "    }\n",
       "\n",
       "    .dataframe tbody tr th {\n",
       "        vertical-align: top;\n",
       "    }\n",
       "\n",
       "    .dataframe thead th {\n",
       "        text-align: right;\n",
       "    }\n",
       "</style>\n",
       "<table border=\"1\" class=\"dataframe\">\n",
       "  <thead>\n",
       "    <tr style=\"text-align: right;\">\n",
       "      <th>Driving_License</th>\n",
       "      <th>No</th>\n",
       "      <th>Yes</th>\n",
       "    </tr>\n",
       "    <tr>\n",
       "      <th>Response</th>\n",
       "      <th></th>\n",
       "      <th></th>\n",
       "    </tr>\n",
       "  </thead>\n",
       "  <tbody>\n",
       "    <tr>\n",
       "      <th>No</th>\n",
       "      <td>771</td>\n",
       "      <td>333628</td>\n",
       "    </tr>\n",
       "    <tr>\n",
       "      <th>Yes</th>\n",
       "      <td>41</td>\n",
       "      <td>46669</td>\n",
       "    </tr>\n",
       "  </tbody>\n",
       "</table>\n",
       "</div>"
      ],
      "text/plain": [
       "Driving_License   No     Yes\n",
       "Response                    \n",
       "No               771  333628\n",
       "Yes               41   46669"
      ]
     },
     "execution_count": 21,
     "metadata": {},
     "output_type": "execute_result"
    }
   ],
   "source": [
    "pd.crosstab(df_vis['Response'], df_vis['Driving_License'])"
   ]
  },
  {
   "cell_type": "code",
   "execution_count": 76,
   "metadata": {
    "scrolled": true
   },
   "outputs": [
    {
     "data": {
      "text/plain": [
       "<matplotlib.axes._subplots.AxesSubplot at 0x25440d63488>"
      ]
     },
     "execution_count": 76,
     "metadata": {},
     "output_type": "execute_result"
    },
    {
     "data": {
      "image/png": "[encoded data removed]",
      "text/plain": [
       "<Figure size 432x288 with 1 Axes>"
      ]
     },
     "metadata": {
      "needs_background": "light"
     },
     "output_type": "display_data"
    }
   ],
   "source": [
    "sns.countplot(df_vis.Vehicle_Age, palette='twilight_r')"
   ]
  },
  {
   "cell_type": "code",
   "execution_count": 77,
   "metadata": {},
   "outputs": [
    {
     "data": {
      "image/png": "[encoded data removed]",
      "text/plain": [
       "<Figure size 432x288 with 1 Axes>"
      ]
     },
     "metadata": {
      "needs_background": "light"
     },
     "output_type": "display_data"
    }
   ],
   "source": [
    "pd.crosstab(df_vis['Response'], df_vis['Vehicle_Damage']).plot(kind='bar');"
   ]
  },
  {
   "cell_type": "code",
   "execution_count": 78,
   "metadata": {},
   "outputs": [
    {
     "name": "stdout",
     "output_type": "stream",
     "text": [
      "Policy_Sales_Channel distribution according to Response\n"
     ]
    },
    {
     "data": {
      "image/png": "[encoded data removed]",
      "text/plain": [
       "<Figure size 920.25x216 with 1 Axes>"
      ]
     },
     "metadata": {
      "needs_background": "light"
     },
     "output_type": "display_data"
    }
   ],
   "source": [
    "print(\"Policy_Sales_Channel distribution according to Response\")\n",
    "facetgrid = sns.FacetGrid(df_vis,hue=\"Response\",aspect = 4)\n",
    "facetgrid.map(sns.kdeplot,\"Policy_Sales_Channel\",shade = True)\n",
    "facetgrid.set(xlim = (0,df_vis[\"Policy_Sales_Channel\"].max()))\n",
    "facetgrid.add_legend();"
   ]
  },
  {
   "cell_type": "code",
   "execution_count": 17,
   "metadata": {},
   "outputs": [
    {
     "data": {
      "text/plain": [
       "<matplotlib.axes._subplots.AxesSubplot at 0x270a196ec88>"
      ]
     },
     "execution_count": 17,
     "metadata": {},
     "output_type": "execute_result"
    },
    {
     "data": {
      "image/png": "[encoded data removed]",
      "text/plain": [
       "<Figure size 720x720 with 2 Axes>"
      ]
     },
     "metadata": {
      "needs_background": "light"
     },
     "output_type": "display_data"
    }
   ],
   "source": [
    "SpearmanCorr = df.corr(method=\"spearman\")\n",
    "matplotlib.pyplot.figure(figsize=(10,10))\n",
    "sns.heatmap(SpearmanCorr, vmax=.9, square=True, annot=True, linewidths=.3,cmap=\"YlGnBu\", fmt='.1f')"
   ]
  },
  {
   "cell_type": "code",
   "execution_count": null,
   "metadata": {},
   "outputs": [],
   "source": []
  },
  {
   "cell_type": "code",
   "execution_count": 18,
   "metadata": {},
   "outputs": [],
   "source": [
    "from mlxtend.preprocessing import minmax_scaling\n",
    "\n",
    "df_scale = minmax_scaling(df, columns=df.columns)"
   ]
  },
  {
   "cell_type": "code",
   "execution_count": 19,
   "metadata": {},
   "outputs": [
    {
     "data": {
      "text/html": [
       "<div>\n",
       "<style scoped>\n",
       "    .dataframe tbody tr th:only-of-type {\n",
       "        vertical-align: middle;\n",
       "    }\n",
       "\n",
       "    .dataframe tbody tr th {\n",
       "        vertical-align: top;\n",
       "    }\n",
       "\n",
       "    .dataframe thead th {\n",
       "        text-align: right;\n",
       "    }\n",
       "</style>\n",
       "<table border=\"1\" class=\"dataframe\">\n",
       "  <thead>\n",
       "    <tr style=\"text-align: right;\">\n",
       "      <th></th>\n",
       "      <th>Gender</th>\n",
       "      <th>Age</th>\n",
       "      <th>Driving_License</th>\n",
       "      <th>Region_Code</th>\n",
       "      <th>Previously_Insured</th>\n",
       "      <th>Vehicle_Damage</th>\n",
       "      <th>Annual_Premium</th>\n",
       "      <th>Policy_Sales_Channel</th>\n",
       "      <th>Vintage</th>\n",
       "      <th>Response</th>\n",
       "      <th>Vehicle_Age_less_than_1_Year</th>\n",
       "      <th>Vehicle_Age_greater_than_2_Years</th>\n",
       "    </tr>\n",
       "    <tr>\n",
       "      <th>id</th>\n",
       "      <th></th>\n",
       "      <th></th>\n",
       "      <th></th>\n",
       "      <th></th>\n",
       "      <th></th>\n",
       "      <th></th>\n",
       "      <th></th>\n",
       "      <th></th>\n",
       "      <th></th>\n",
       "      <th></th>\n",
       "      <th></th>\n",
       "      <th></th>\n",
       "    </tr>\n",
       "  </thead>\n",
       "  <tbody>\n",
       "    <tr>\n",
       "      <th>1</th>\n",
       "      <td>1.0</td>\n",
       "      <td>0.369231</td>\n",
       "      <td>1.0</td>\n",
       "      <td>0.538462</td>\n",
       "      <td>0.0</td>\n",
       "      <td>1.0</td>\n",
       "      <td>0.070366</td>\n",
       "      <td>0.154321</td>\n",
       "      <td>0.716263</td>\n",
       "      <td>1.0</td>\n",
       "      <td>0.0</td>\n",
       "      <td>1.0</td>\n",
       "    </tr>\n",
       "    <tr>\n",
       "      <th>2</th>\n",
       "      <td>1.0</td>\n",
       "      <td>0.861538</td>\n",
       "      <td>1.0</td>\n",
       "      <td>0.057692</td>\n",
       "      <td>0.0</td>\n",
       "      <td>0.0</td>\n",
       "      <td>0.057496</td>\n",
       "      <td>0.154321</td>\n",
       "      <td>0.598616</td>\n",
       "      <td>0.0</td>\n",
       "      <td>0.0</td>\n",
       "      <td>0.0</td>\n",
       "    </tr>\n",
       "    <tr>\n",
       "      <th>3</th>\n",
       "      <td>1.0</td>\n",
       "      <td>0.415385</td>\n",
       "      <td>1.0</td>\n",
       "      <td>0.538462</td>\n",
       "      <td>0.0</td>\n",
       "      <td>1.0</td>\n",
       "      <td>0.066347</td>\n",
       "      <td>0.154321</td>\n",
       "      <td>0.058824</td>\n",
       "      <td>1.0</td>\n",
       "      <td>0.0</td>\n",
       "      <td>1.0</td>\n",
       "    </tr>\n",
       "    <tr>\n",
       "      <th>4</th>\n",
       "      <td>1.0</td>\n",
       "      <td>0.015385</td>\n",
       "      <td>1.0</td>\n",
       "      <td>0.211538</td>\n",
       "      <td>1.0</td>\n",
       "      <td>0.0</td>\n",
       "      <td>0.048348</td>\n",
       "      <td>0.932099</td>\n",
       "      <td>0.667820</td>\n",
       "      <td>0.0</td>\n",
       "      <td>1.0</td>\n",
       "      <td>0.0</td>\n",
       "    </tr>\n",
       "    <tr>\n",
       "      <th>5</th>\n",
       "      <td>0.0</td>\n",
       "      <td>0.138462</td>\n",
       "      <td>1.0</td>\n",
       "      <td>0.788462</td>\n",
       "      <td>1.0</td>\n",
       "      <td>0.0</td>\n",
       "      <td>0.046259</td>\n",
       "      <td>0.932099</td>\n",
       "      <td>0.100346</td>\n",
       "      <td>0.0</td>\n",
       "      <td>1.0</td>\n",
       "      <td>0.0</td>\n",
       "    </tr>\n",
       "  </tbody>\n",
       "</table>\n",
       "</div>"
      ],
      "text/plain": [
       "    Gender       Age  Driving_License  Region_Code  Previously_Insured  \\\n",
       "id                                                                       \n",
       "1      1.0  0.369231              1.0     0.538462                 0.0   \n",
       "2      1.0  0.861538              1.0     0.057692                 0.0   \n",
       "3      1.0  0.415385              1.0     0.538462                 0.0   \n",
       "4      1.0  0.015385              1.0     0.211538                 1.0   \n",
       "5      0.0  0.138462              1.0     0.788462                 1.0   \n",
       "\n",
       "    Vehicle_Damage  Annual_Premium  Policy_Sales_Channel   Vintage  Response  \\\n",
       "id                                                                             \n",
       "1              1.0        0.070366              0.154321  0.716263       1.0   \n",
       "2              0.0        0.057496              0.154321  0.598616       0.0   \n",
       "3              1.0        0.066347              0.154321  0.058824       1.0   \n",
       "4              0.0        0.048348              0.932099  0.667820       0.0   \n",
       "5              0.0        0.046259              0.932099  0.100346       0.0   \n",
       "\n",
       "    Vehicle_Age_less_than_1_Year  Vehicle_Age_greater_than_2_Years  \n",
       "id                                                                  \n",
       "1                            0.0                               1.0  \n",
       "2                            0.0                               0.0  \n",
       "3                            0.0                               1.0  \n",
       "4                            1.0                               0.0  \n",
       "5                            1.0                               0.0  "
      ]
     },
     "execution_count": 19,
     "metadata": {},
     "output_type": "execute_result"
    }
   ],
   "source": [
    "df_scale.head()"
   ]
  },
  {
   "cell_type": "code",
   "execution_count": 19,
   "metadata": {},
   "outputs": [],
   "source": []
  },
  {
   "cell_type": "code",
   "execution_count": 20,
   "metadata": {},
   "outputs": [],
   "source": [
    "X_train, X_test, y_train, y_test = train_test_split(df_scale.drop(['Response'], axis = 1), \n",
    "                                df_scale['Response'], test_size = 0.2,random_state = 789)"
   ]
  },
  {
   "cell_type": "code",
   "execution_count": 21,
   "metadata": {},
   "outputs": [
    {
     "name": "stdout",
     "output_type": "stream",
     "text": [
      "Target variable disribution in train set: \n",
      "0.0    267521\n",
      "1.0     37366\n",
      "Name: Response, dtype: int64\n",
      "\n",
      "and in test set: \n",
      "0.0    66878\n",
      "1.0     9344\n",
      "Name: Response, dtype: int64\n"
     ]
    }
   ],
   "source": [
    "print(f\"Target variable disribution in train set: \\n{y_train.value_counts()}\\n\\nand in test set: \\n{y_test.value_counts()}\")"
   ]
  },
  {
   "cell_type": "code",
   "execution_count": 87,
   "metadata": {},
   "outputs": [],
   "source": [
    "#knn start\n",
    "from sklearn.neighbors import KNeighborsClassifier"
   ]
  },
  {
   "cell_type": "code",
   "execution_count": 35,
   "metadata": {},
   "outputs": [],
   "source": [
    "error = []\n",
    "\n",
    "# Calculating error for K values between 1 and 40\n",
    "for i in range(1, 40):\n",
    "    knn = KNeighborsClassifier(n_neighbors=i)\n",
    "    knn.fit(X_train, y_train)\n",
    "    pred_i = knn.predict(X_test)\n",
    "    error.append(np.mean(pred_i != y_test))"
   ]
  },
  {
   "cell_type": "code",
   "execution_count": 36,
   "metadata": {},
   "outputs": [
    {
     "data": {
      "text/plain": [
       "Text(0, 0.5, 'Mean Error')"
      ]
     },
     "execution_count": 36,
     "metadata": {},
     "output_type": "execute_result"
    },
    {
     "data": {
      "image/png": "[encoded data removed]",
      "text/plain": [
       "<Figure size 864x432 with 1 Axes>"
      ]
     },
     "metadata": {
      "needs_background": "light"
     },
     "output_type": "display_data"
    }
   ],
   "source": [
    "plt.figure(figsize=(12, 6))\n",
    "plt.plot(range(1, 40), error, color='red', linestyle='dashed', marker='o',\n",
    "         markerfacecolor='blue', markersize=10)\n",
    "plt.title('Error Rate K Value')\n",
    "plt.xlabel('K Value')\n",
    "plt.ylabel('Mean Error')"
   ]
  },
  {
   "cell_type": "code",
   "execution_count": 50,
   "metadata": {},
   "outputs": [
    {
     "ename": "KeyboardInterrupt",
     "evalue": "",
     "output_type": "error",
     "traceback": [
      "\u001b[1;31m---------------------------------------------------------------------------\u001b[0m",
      "\u001b[1;31mKeyboardInterrupt\u001b[0m                         Traceback (most recent call last)",
      "\u001b[1;32m<ipython-input-50-52fa93e590f2>\u001b[0m in \u001b[0;36m<module>\u001b[1;34m\u001b[0m\n\u001b[0;32m      3\u001b[0m \u001b[0mclassifier\u001b[0m\u001b[1;33m.\u001b[0m\u001b[0mfit\u001b[0m\u001b[1;33m(\u001b[0m\u001b[0mX_train\u001b[0m\u001b[1;33m,\u001b[0m\u001b[0my_train\u001b[0m\u001b[1;33m)\u001b[0m\u001b[1;33m\u001b[0m\u001b[1;33m\u001b[0m\u001b[0m\n\u001b[0;32m      4\u001b[0m \u001b[1;33m\u001b[0m\u001b[0m\n\u001b[1;32m----> 5\u001b[1;33m \u001b[0my_pred\u001b[0m\u001b[1;33m=\u001b[0m \u001b[0mclassifier\u001b[0m\u001b[1;33m.\u001b[0m\u001b[0mpredict\u001b[0m\u001b[1;33m(\u001b[0m\u001b[0mX_test\u001b[0m\u001b[1;33m)\u001b[0m\u001b[1;33m\u001b[0m\u001b[1;33m\u001b[0m\u001b[0m\n\u001b[0m\u001b[0;32m      6\u001b[0m \u001b[1;33m\u001b[0m\u001b[0m\n\u001b[0;32m      7\u001b[0m \u001b[0mprint\u001b[0m\u001b[1;33m(\u001b[0m\u001b[0mclassification_report\u001b[0m\u001b[1;33m(\u001b[0m\u001b[0my_test\u001b[0m\u001b[1;33m,\u001b[0m \u001b[0my_pred\u001b[0m\u001b[1;33m)\u001b[0m\u001b[1;33m)\u001b[0m\u001b[1;33m\u001b[0m\u001b[1;33m\u001b[0m\u001b[0m\n",
      "\u001b[1;32m~\\anaconda3\\lib\\site-packages\\sklearn\\neighbors\\_classification.py\u001b[0m in \u001b[0;36mpredict\u001b[1;34m(self, X)\u001b[0m\n\u001b[0;32m    169\u001b[0m             \u001b[0mClass\u001b[0m \u001b[0mlabels\u001b[0m \u001b[1;32mfor\u001b[0m \u001b[0meach\u001b[0m \u001b[0mdata\u001b[0m \u001b[0msample\u001b[0m\u001b[1;33m.\u001b[0m\u001b[1;33m\u001b[0m\u001b[1;33m\u001b[0m\u001b[0m\n\u001b[0;32m    170\u001b[0m         \"\"\"\n\u001b[1;32m--> 171\u001b[1;33m         \u001b[0mX\u001b[0m \u001b[1;33m=\u001b[0m \u001b[0mcheck_array\u001b[0m\u001b[1;33m(\u001b[0m\u001b[0mX\u001b[0m\u001b[1;33m,\u001b[0m \u001b[0maccept_sparse\u001b[0m\u001b[1;33m=\u001b[0m\u001b[1;34m'csr'\u001b[0m\u001b[1;33m)\u001b[0m\u001b[1;33m\u001b[0m\u001b[1;33m\u001b[0m\u001b[0m\n\u001b[0m\u001b[0;32m    172\u001b[0m \u001b[1;33m\u001b[0m\u001b[0m\n\u001b[0;32m    173\u001b[0m         \u001b[0mneigh_dist\u001b[0m\u001b[1;33m,\u001b[0m \u001b[0mneigh_ind\u001b[0m \u001b[1;33m=\u001b[0m \u001b[0mself\u001b[0m\u001b[1;33m.\u001b[0m\u001b[0mkneighbors\u001b[0m\u001b[1;33m(\u001b[0m\u001b[0mX\u001b[0m\u001b[1;33m)\u001b[0m\u001b[1;33m\u001b[0m\u001b[1;33m\u001b[0m\u001b[0m\n",
      "\u001b[1;32m~\\anaconda3\\lib\\site-packages\\sklearn\\utils\\validation.py\u001b[0m in \u001b[0;36mcheck_array\u001b[1;34m(array, accept_sparse, accept_large_sparse, dtype, order, copy, force_all_finite, ensure_2d, allow_nd, ensure_min_samples, ensure_min_features, warn_on_dtype, estimator)\u001b[0m\n\u001b[0;32m    576\u001b[0m         \u001b[1;32mif\u001b[0m \u001b[0mforce_all_finite\u001b[0m\u001b[1;33m:\u001b[0m\u001b[1;33m\u001b[0m\u001b[1;33m\u001b[0m\u001b[0m\n\u001b[0;32m    577\u001b[0m             _assert_all_finite(array,\n\u001b[1;32m--> 578\u001b[1;33m                                allow_nan=force_all_finite == 'allow-nan')\n\u001b[0m\u001b[0;32m    579\u001b[0m \u001b[1;33m\u001b[0m\u001b[0m\n\u001b[0;32m    580\u001b[0m     \u001b[1;32mif\u001b[0m \u001b[0mensure_min_samples\u001b[0m \u001b[1;33m>\u001b[0m \u001b[1;36m0\u001b[0m\u001b[1;33m:\u001b[0m\u001b[1;33m\u001b[0m\u001b[1;33m\u001b[0m\u001b[0m\n",
      "\u001b[1;32m~\\anaconda3\\lib\\site-packages\\sklearn\\utils\\validation.py\u001b[0m in \u001b[0;36m_assert_all_finite\u001b[1;34m(X, allow_nan, msg_dtype)\u001b[0m\n\u001b[0;32m     48\u001b[0m     \u001b[1;31m# safely to reduce dtype induced overflows.\u001b[0m\u001b[1;33m\u001b[0m\u001b[1;33m\u001b[0m\u001b[1;33m\u001b[0m\u001b[0m\n\u001b[0;32m     49\u001b[0m     \u001b[0mis_float\u001b[0m \u001b[1;33m=\u001b[0m \u001b[0mX\u001b[0m\u001b[1;33m.\u001b[0m\u001b[0mdtype\u001b[0m\u001b[1;33m.\u001b[0m\u001b[0mkind\u001b[0m \u001b[1;32min\u001b[0m \u001b[1;34m'fc'\u001b[0m\u001b[1;33m\u001b[0m\u001b[1;33m\u001b[0m\u001b[0m\n\u001b[1;32m---> 50\u001b[1;33m     \u001b[1;32mif\u001b[0m \u001b[0mis_float\u001b[0m \u001b[1;32mand\u001b[0m \u001b[1;33m(\u001b[0m\u001b[0mnp\u001b[0m\u001b[1;33m.\u001b[0m\u001b[0misfinite\u001b[0m\u001b[1;33m(\u001b[0m\u001b[0m_safe_accumulator_op\u001b[0m\u001b[1;33m(\u001b[0m\u001b[0mnp\u001b[0m\u001b[1;33m.\u001b[0m\u001b[0msum\u001b[0m\u001b[1;33m,\u001b[0m \u001b[0mX\u001b[0m\u001b[1;33m)\u001b[0m\u001b[1;33m)\u001b[0m\u001b[1;33m)\u001b[0m\u001b[1;33m:\u001b[0m\u001b[1;33m\u001b[0m\u001b[1;33m\u001b[0m\u001b[0m\n\u001b[0m\u001b[0;32m     51\u001b[0m         \u001b[1;32mpass\u001b[0m\u001b[1;33m\u001b[0m\u001b[1;33m\u001b[0m\u001b[0m\n\u001b[0;32m     52\u001b[0m     \u001b[1;32melif\u001b[0m \u001b[0mis_float\u001b[0m\u001b[1;33m:\u001b[0m\u001b[1;33m\u001b[0m\u001b[1;33m\u001b[0m\u001b[0m\n",
      "\u001b[1;32m~\\anaconda3\\lib\\site-packages\\sklearn\\utils\\extmath.py\u001b[0m in \u001b[0;36m_safe_accumulator_op\u001b[1;34m(op, x, *args, **kwargs)\u001b[0m\n\u001b[0;32m    704\u001b[0m         \u001b[0mresult\u001b[0m \u001b[1;33m=\u001b[0m \u001b[0mop\u001b[0m\u001b[1;33m(\u001b[0m\u001b[0mx\u001b[0m\u001b[1;33m,\u001b[0m \u001b[1;33m*\u001b[0m\u001b[0margs\u001b[0m\u001b[1;33m,\u001b[0m \u001b[1;33m**\u001b[0m\u001b[0mkwargs\u001b[0m\u001b[1;33m,\u001b[0m \u001b[0mdtype\u001b[0m\u001b[1;33m=\u001b[0m\u001b[0mnp\u001b[0m\u001b[1;33m.\u001b[0m\u001b[0mfloat64\u001b[0m\u001b[1;33m)\u001b[0m\u001b[1;33m\u001b[0m\u001b[1;33m\u001b[0m\u001b[0m\n\u001b[0;32m    705\u001b[0m     \u001b[1;32melse\u001b[0m\u001b[1;33m:\u001b[0m\u001b[1;33m\u001b[0m\u001b[1;33m\u001b[0m\u001b[0m\n\u001b[1;32m--> 706\u001b[1;33m         \u001b[0mresult\u001b[0m \u001b[1;33m=\u001b[0m \u001b[0mop\u001b[0m\u001b[1;33m(\u001b[0m\u001b[0mx\u001b[0m\u001b[1;33m,\u001b[0m \u001b[1;33m*\u001b[0m\u001b[0margs\u001b[0m\u001b[1;33m,\u001b[0m \u001b[1;33m**\u001b[0m\u001b[0mkwargs\u001b[0m\u001b[1;33m)\u001b[0m\u001b[1;33m\u001b[0m\u001b[1;33m\u001b[0m\u001b[0m\n\u001b[0m\u001b[0;32m    707\u001b[0m     \u001b[1;32mreturn\u001b[0m \u001b[0mresult\u001b[0m\u001b[1;33m\u001b[0m\u001b[1;33m\u001b[0m\u001b[0m\n\u001b[0;32m    708\u001b[0m \u001b[1;33m\u001b[0m\u001b[0m\n",
      "\u001b[1;32m<__array_function__ internals>\u001b[0m in \u001b[0;36msum\u001b[1;34m(*args, **kwargs)\u001b[0m\n",
      "\u001b[1;32m~\\anaconda3\\lib\\site-packages\\numpy\\core\\fromnumeric.py\u001b[0m in \u001b[0;36msum\u001b[1;34m(a, axis, dtype, out, keepdims, initial, where)\u001b[0m\n\u001b[0;32m   2227\u001b[0m \u001b[1;33m\u001b[0m\u001b[0m\n\u001b[0;32m   2228\u001b[0m     return _wrapreduction(a, np.add, 'sum', axis, dtype, out, keepdims=keepdims,\n\u001b[1;32m-> 2229\u001b[1;33m                           initial=initial, where=where)\n\u001b[0m\u001b[0;32m   2230\u001b[0m \u001b[1;33m\u001b[0m\u001b[0m\n\u001b[0;32m   2231\u001b[0m \u001b[1;33m\u001b[0m\u001b[0m\n",
      "\u001b[1;32m~\\anaconda3\\lib\\site-packages\\numpy\\core\\fromnumeric.py\u001b[0m in \u001b[0;36m_wrapreduction\u001b[1;34m(obj, ufunc, method, axis, dtype, out, **kwargs)\u001b[0m\n\u001b[0;32m     88\u001b[0m                 \u001b[1;32mreturn\u001b[0m \u001b[0mreduction\u001b[0m\u001b[1;33m(\u001b[0m\u001b[0maxis\u001b[0m\u001b[1;33m=\u001b[0m\u001b[0maxis\u001b[0m\u001b[1;33m,\u001b[0m \u001b[0mout\u001b[0m\u001b[1;33m=\u001b[0m\u001b[0mout\u001b[0m\u001b[1;33m,\u001b[0m \u001b[1;33m**\u001b[0m\u001b[0mpasskwargs\u001b[0m\u001b[1;33m)\u001b[0m\u001b[1;33m\u001b[0m\u001b[1;33m\u001b[0m\u001b[0m\n\u001b[0;32m     89\u001b[0m \u001b[1;33m\u001b[0m\u001b[0m\n\u001b[1;32m---> 90\u001b[1;33m     \u001b[1;32mreturn\u001b[0m \u001b[0mufunc\u001b[0m\u001b[1;33m.\u001b[0m\u001b[0mreduce\u001b[0m\u001b[1;33m(\u001b[0m\u001b[0mobj\u001b[0m\u001b[1;33m,\u001b[0m \u001b[0maxis\u001b[0m\u001b[1;33m,\u001b[0m \u001b[0mdtype\u001b[0m\u001b[1;33m,\u001b[0m \u001b[0mout\u001b[0m\u001b[1;33m,\u001b[0m \u001b[1;33m**\u001b[0m\u001b[0mpasskwargs\u001b[0m\u001b[1;33m)\u001b[0m\u001b[1;33m\u001b[0m\u001b[1;33m\u001b[0m\u001b[0m\n\u001b[0m\u001b[0;32m     91\u001b[0m \u001b[1;33m\u001b[0m\u001b[0m\n\u001b[0;32m     92\u001b[0m \u001b[1;33m\u001b[0m\u001b[0m\n",
      "\u001b[1;31mKeyboardInterrupt\u001b[0m: "
     ]
    }
   ],
   "source": [
    "classifier=KNeighborsClassifier(n_neighbors=39)\n",
    "\n",
    "classifier.fit(X_train,y_train)\n",
    "\n",
    "y_pred= classifier.predict(X_test) \n",
    "\n",
    "print(classification_report(y_test, y_pred))"
   ]
  },
  {
   "cell_type": "code",
   "execution_count": 33,
   "metadata": {},
   "outputs": [
    {
     "name": "stdout",
     "output_type": "stream",
     "text": [
      "Accuracy score is 88.0\n",
      "ROC-AUC score is 50.0\n"
     ]
    }
   ],
   "source": [
    "#####logistic Regression before sampling and fs\n",
    "\n",
    "logisticRegression = LogisticRegression(max_iter = 100)\n",
    "GLM_fit=logisticRegression.fit(X_train, y_train)\n",
    "GLM_clas = pd.DataFrame(GLM_fit.predict(X_test))\n",
    "GLM_probability = pd.DataFrame(GLM_fit.predict_proba(X_test))\n",
    "\n",
    "predictions = logisticRegression.predict(X_test)\n",
    "print(f\"Accuracy score is {100*accuracy_score(y_test,predictions).round(2)}\n",
    "\\nROC-AUC score is {100*roc_auc_score(y_test,predictions).round(2)}\")"
   ]
  },
  {
   "cell_type": "code",
   "execution_count": 34,
   "metadata": {},
   "outputs": [
    {
     "name": "stdout",
     "output_type": "stream",
     "text": [
      "              precision    recall  f1-score   support\n",
      "\n",
      "         0.0       0.88      1.00      0.93     66878\n",
      "         1.0       0.00      0.00      0.00      9344\n",
      "\n",
      "    accuracy                           0.88     76222\n",
      "   macro avg       0.44      0.50      0.47     76222\n",
      "weighted avg       0.77      0.88      0.82     76222\n",
      "\n"
     ]
    }
   ],
   "source": [
    "print(classification_report(y_test, predictions))"
   ]
  },
  {
   "cell_type": "code",
   "execution_count": 35,
   "metadata": {},
   "outputs": [
    {
     "data": {
      "image/png": "[encoded data removed]",
      "text/plain": [
       "<Figure size 432x288 with 1 Axes>"
      ]
     },
     "metadata": {
      "needs_background": "light"
     },
     "output_type": "display_data"
    },
    {
     "name": "stdout",
     "output_type": "stream",
     "text": [
      "Area under curve (AUC):  0.83693\n"
     ]
    }
   ],
   "source": [
    "fpr, tpr, _ = roc_curve(y_test, GLM_fit.predict_proba(X_test)[:,1])\n",
    "\n",
    "plt.title('Logistic regression ROC curve')\n",
    "plt.xlabel('FPR (Precision)')\n",
    "plt.ylabel('TPR (Recall)')\n",
    "\n",
    "plt.plot(fpr,tpr)\n",
    "plt.plot((0,1), ls='dashed',color='black')\n",
    "plt.show()\n",
    "print ('Area under curve (AUC): ' ,format(round(auc(fpr,tpr),5)))"
   ]
  },
  {
   "cell_type": "code",
   "execution_count": 41,
   "metadata": {},
   "outputs": [
    {
     "name": "stdout",
     "output_type": "stream",
     "text": [
      "Accuracy score is 87.0\n",
      "ROC-AUC score is 55.00000000000001\n"
     ]
    }
   ],
   "source": [
    "#####Random forest before sampling and fs\n",
    "from sklearn.ensemble import RandomForestClassifier\n",
    "rfc = RandomForestClassifier(n_estimators=1000)\n",
    "rfc_fit=rfc.fit(X_train, y_train)\n",
    "rfc_pred = rfc.predict(X_test)\n",
    "print(f\"Accuracy score is {100*accuracy_score(y_test,rfc_pred).round(2)}\n",
    "\\nROC-AUC score is {100*roc_auc_score(y_test,rfc_pred).round(2)}\")"
   ]
  },
  {
   "cell_type": "code",
   "execution_count": 38,
   "metadata": {},
   "outputs": [
    {
     "name": "stdout",
     "output_type": "stream",
     "text": [
      "              precision    recall  f1-score   support\n",
      "\n",
      "         0.0       0.89      0.97      0.93     66878\n",
      "         1.0       0.37      0.12      0.19      9344\n",
      "\n",
      "    accuracy                           0.87     76222\n",
      "   macro avg       0.63      0.55      0.56     76222\n",
      "weighted avg       0.82      0.87      0.84     76222\n",
      "\n"
     ]
    }
   ],
   "source": [
    "print(classification_report(y_test, rfc_pred))"
   ]
  },
  {
   "cell_type": "code",
   "execution_count": 39,
   "metadata": {},
   "outputs": [
    {
     "name": "stdout",
     "output_type": "stream",
     "text": [
      "AUC score after taking probabilities predictions and not classes predictions is\n"
     ]
    },
    {
     "data": {
      "text/plain": [
       "0.839209631890281"
      ]
     },
     "execution_count": 39,
     "metadata": {},
     "output_type": "execute_result"
    }
   ],
   "source": [
    "rfc_preds = rfc.predict_proba(X_test)\n",
    "print(\"AUC score after taking probabilities predictions and not classes predictions is\")\n",
    "roc_auc_score(y_test, rfc_preds[:,1], average = 'weighted')"
   ]
  },
  {
   "cell_type": "code",
   "execution_count": 42,
   "metadata": {},
   "outputs": [
    {
     "data": {
      "image/png": "[encoded data removed]",
      "text/plain": [
       "<Figure size 432x288 with 1 Axes>"
      ]
     },
     "metadata": {
      "needs_background": "light"
     },
     "output_type": "display_data"
    },
    {
     "name": "stdout",
     "output_type": "stream",
     "text": [
      "Area under curve (AUC):  0.83943\n"
     ]
    }
   ],
   "source": [
    "fpr, tpr, _ = roc_curve(y_test, rfc_fit.predict_proba(X_test)[:,1])\n",
    "\n",
    "plt.title('Random forest ROC curve')\n",
    "plt.xlabel('FPR (Precision)')\n",
    "plt.ylabel('TPR (Recall)')\n",
    "\n",
    "plt.plot(fpr,tpr)\n",
    "plt.plot((0,1), ls='dashed',color='black')\n",
    "plt.show()\n",
    "print ('Area under curve (AUC): ' ,format(round(auc(fpr,tpr),5)))"
   ]
  },
  {
   "cell_type": "code",
   "execution_count": 44,
   "metadata": {},
   "outputs": [
    {
     "name": "stdout",
     "output_type": "stream",
     "text": [
      "Accuracy score is 88.0\n",
      "ROC-AUC score is 51.0\n"
     ]
    }
   ],
   "source": [
    "#####XG Boost before sampling and fs\n",
    "from xgboost import XGBClassifier\n",
    "xgb = XGBClassifier()\n",
    "xgb_fit=xgb.fit(X_train, y_train)\n",
    "xgb_pred = xgb.predict(X_test)\n",
    "print(f\"Accuracy score is {100*accuracy_score(y_test,xgb_pred).round(2)}\n",
    "\\nROC-AUC score is {100*roc_auc_score(y_test,xgb_pred).round(2)}\")"
   ]
  },
  {
   "cell_type": "code",
   "execution_count": 46,
   "metadata": {},
   "outputs": [
    {
     "data": {
      "text/plain": [
       "0.8559786322285581"
      ]
     },
     "execution_count": 46,
     "metadata": {},
     "output_type": "execute_result"
    }
   ],
   "source": [
    "xgb_preds = xgb.predict_proba(X_test)\n",
    "roc_auc_score(y_test, xgb_preds[:,1], average = 'weighted')"
   ]
  },
  {
   "cell_type": "code",
   "execution_count": 49,
   "metadata": {},
   "outputs": [
    {
     "name": "stdout",
     "output_type": "stream",
     "text": [
      "              precision    recall  f1-score   support\n",
      "\n",
      "         0.0       0.88      1.00      0.93     66878\n",
      "         1.0       0.46      0.02      0.05      9344\n",
      "\n",
      "    accuracy                           0.88     76222\n",
      "   macro avg       0.67      0.51      0.49     76222\n",
      "weighted avg       0.83      0.88      0.83     76222\n",
      "\n"
     ]
    }
   ],
   "source": [
    "print(classification_report(y_test, xgb_pred))"
   ]
  },
  {
   "cell_type": "code",
   "execution_count": 47,
   "metadata": {},
   "outputs": [
    {
     "data": {
      "image/png": "[encoded data removed]",
      "text/plain": [
       "<Figure size 432x288 with 1 Axes>"
      ]
     },
     "metadata": {
      "needs_background": "light"
     },
     "output_type": "display_data"
    },
    {
     "name": "stdout",
     "output_type": "stream",
     "text": [
      "Area under curve (AUC):  0.85598\n"
     ]
    }
   ],
   "source": [
    "fpr, tpr, _ = roc_curve(y_test, xgb_fit.predict_proba(X_test)[:,1])\n",
    "\n",
    "plt.title('XGB Boost ROC curve')\n",
    "plt.xlabel('FPR (Precision)')\n",
    "plt.ylabel('TPR (Recall)')\n",
    "\n",
    "plt.plot(fpr,tpr)\n",
    "plt.plot((0,1), ls='dashed',color='black')\n",
    "plt.show()\n",
    "print ('Area under curve (AUC): ' ,format(round(auc(fpr,tpr),5)))"
   ]
  },
  {
   "cell_type": "code",
   "execution_count": 76,
   "metadata": {},
   "outputs": [
    {
     "name": "stdout",
     "output_type": "stream",
     "text": [
      "Accuracy score is 82.0\n",
      "ROC-AUC score is 60.0\n"
     ]
    }
   ],
   "source": [
    "from sklearn import tree\n",
    "\n",
    "model= tree.DecisionTreeClassifier(random_state=456)\n",
    "\n",
    "model.fit(X_train, y_train)\n",
    "\n",
    "Prediction_for_DT = model.predict(X_test)\n",
    "print(f\"Accuracy score is {100*accuracy_score(y_test,Prediction_for_DT).round(2)}\\nROC-AUC score is {100*roc_auc_score(y_test,Prediction_for_DT).round(2)}\")"
   ]
  },
  {
   "cell_type": "code",
   "execution_count": 74,
   "metadata": {},
   "outputs": [
    {
     "name": "stdout",
     "output_type": "stream",
     "text": [
      "              precision    recall  f1-score   support\n",
      "\n",
      "         0.0       0.90      0.90      0.90     66878\n",
      "         1.0       0.29      0.31      0.30      9344\n",
      "\n",
      "    accuracy                           0.82     76222\n",
      "   macro avg       0.60      0.60      0.60     76222\n",
      "weighted avg       0.83      0.82      0.83     76222\n",
      "\n"
     ]
    }
   ],
   "source": [
    "print(classification_report(y_test, Prediction_for_DT))"
   ]
  },
  {
   "cell_type": "code",
   "execution_count": 75,
   "metadata": {},
   "outputs": [
    {
     "data": {
      "image/png": "[encoded data removed]",
      "text/plain": [
       "<Figure size 432x288 with 1 Axes>"
      ]
     },
     "metadata": {
      "needs_background": "light"
     },
     "output_type": "display_data"
    },
    {
     "name": "stdout",
     "output_type": "stream",
     "text": [
      "Area under curve (AUC):  0.60294\n"
     ]
    }
   ],
   "source": [
    "fpr, tpr, _ = roc_curve(y_test, model.predict_proba(X_test)[:,1])\n",
    "plt.title('Decision Tree ROC curve')\n",
    "plt.xlabel('FPR (Precision)')\n",
    "plt.ylabel('TPR (Recall)')\n",
    "\n",
    "plt.plot(fpr,tpr)\n",
    "plt.plot((0,1), ls='dashed',color='black')\n",
    "plt.show()\n",
    "print ('Area under curve (AUC): ' ,format(round(auc(fpr,tpr),5)))"
   ]
  },
  {
   "cell_type": "code",
   "execution_count": 47,
   "metadata": {},
   "outputs": [
    {
     "data": {
      "text/html": [
       "<div>\n",
       "<style scoped>\n",
       "    .dataframe tbody tr th:only-of-type {\n",
       "        vertical-align: middle;\n",
       "    }\n",
       "\n",
       "    .dataframe tbody tr th {\n",
       "        vertical-align: top;\n",
       "    }\n",
       "\n",
       "    .dataframe thead th {\n",
       "        text-align: right;\n",
       "    }\n",
       "</style>\n",
       "<table border=\"1\" class=\"dataframe\">\n",
       "  <thead>\n",
       "    <tr style=\"text-align: right;\">\n",
       "      <th></th>\n",
       "      <th>Gender</th>\n",
       "      <th>Age</th>\n",
       "      <th>Driving_License</th>\n",
       "      <th>Region_Code</th>\n",
       "      <th>Previously_Insured</th>\n",
       "      <th>Vehicle_Damage</th>\n",
       "      <th>Annual_Premium</th>\n",
       "      <th>Policy_Sales_Channel</th>\n",
       "      <th>Vintage</th>\n",
       "      <th>Vehicle_Age_less_than_1_Year</th>\n",
       "      <th>Vehicle_Age_greater_than_2_Years</th>\n",
       "    </tr>\n",
       "    <tr>\n",
       "      <th>id</th>\n",
       "      <th></th>\n",
       "      <th></th>\n",
       "      <th></th>\n",
       "      <th></th>\n",
       "      <th></th>\n",
       "      <th></th>\n",
       "      <th></th>\n",
       "      <th></th>\n",
       "      <th></th>\n",
       "      <th></th>\n",
       "      <th></th>\n",
       "    </tr>\n",
       "  </thead>\n",
       "  <tbody>\n",
       "    <tr>\n",
       "      <th>1</th>\n",
       "      <td>1.0</td>\n",
       "      <td>0.369231</td>\n",
       "      <td>1.0</td>\n",
       "      <td>0.538462</td>\n",
       "      <td>0.0</td>\n",
       "      <td>1.0</td>\n",
       "      <td>0.070366</td>\n",
       "      <td>0.154321</td>\n",
       "      <td>0.716263</td>\n",
       "      <td>0.0</td>\n",
       "      <td>1.0</td>\n",
       "    </tr>\n",
       "    <tr>\n",
       "      <th>2</th>\n",
       "      <td>1.0</td>\n",
       "      <td>0.861538</td>\n",
       "      <td>1.0</td>\n",
       "      <td>0.057692</td>\n",
       "      <td>0.0</td>\n",
       "      <td>0.0</td>\n",
       "      <td>0.057496</td>\n",
       "      <td>0.154321</td>\n",
       "      <td>0.598616</td>\n",
       "      <td>0.0</td>\n",
       "      <td>0.0</td>\n",
       "    </tr>\n",
       "    <tr>\n",
       "      <th>3</th>\n",
       "      <td>1.0</td>\n",
       "      <td>0.415385</td>\n",
       "      <td>1.0</td>\n",
       "      <td>0.538462</td>\n",
       "      <td>0.0</td>\n",
       "      <td>1.0</td>\n",
       "      <td>0.066347</td>\n",
       "      <td>0.154321</td>\n",
       "      <td>0.058824</td>\n",
       "      <td>0.0</td>\n",
       "      <td>1.0</td>\n",
       "    </tr>\n",
       "    <tr>\n",
       "      <th>4</th>\n",
       "      <td>1.0</td>\n",
       "      <td>0.015385</td>\n",
       "      <td>1.0</td>\n",
       "      <td>0.211538</td>\n",
       "      <td>1.0</td>\n",
       "      <td>0.0</td>\n",
       "      <td>0.048348</td>\n",
       "      <td>0.932099</td>\n",
       "      <td>0.667820</td>\n",
       "      <td>1.0</td>\n",
       "      <td>0.0</td>\n",
       "    </tr>\n",
       "    <tr>\n",
       "      <th>5</th>\n",
       "      <td>0.0</td>\n",
       "      <td>0.138462</td>\n",
       "      <td>1.0</td>\n",
       "      <td>0.788462</td>\n",
       "      <td>1.0</td>\n",
       "      <td>0.0</td>\n",
       "      <td>0.046259</td>\n",
       "      <td>0.932099</td>\n",
       "      <td>0.100346</td>\n",
       "      <td>1.0</td>\n",
       "      <td>0.0</td>\n",
       "    </tr>\n",
       "  </tbody>\n",
       "</table>\n",
       "</div>"
      ],
      "text/plain": [
       "    Gender       Age  Driving_License  Region_Code  Previously_Insured  \\\n",
       "id                                                                       \n",
       "1      1.0  0.369231              1.0     0.538462                 0.0   \n",
       "2      1.0  0.861538              1.0     0.057692                 0.0   \n",
       "3      1.0  0.415385              1.0     0.538462                 0.0   \n",
       "4      1.0  0.015385              1.0     0.211538                 1.0   \n",
       "5      0.0  0.138462              1.0     0.788462                 1.0   \n",
       "\n",
       "    Vehicle_Damage  Annual_Premium  Policy_Sales_Channel   Vintage  \\\n",
       "id                                                                   \n",
       "1              1.0        0.070366              0.154321  0.716263   \n",
       "2              0.0        0.057496              0.154321  0.598616   \n",
       "3              1.0        0.066347              0.154321  0.058824   \n",
       "4              0.0        0.048348              0.932099  0.667820   \n",
       "5              0.0        0.046259              0.932099  0.100346   \n",
       "\n",
       "    Vehicle_Age_less_than_1_Year  Vehicle_Age_greater_than_2_Years  \n",
       "id                                                                  \n",
       "1                            0.0                               1.0  \n",
       "2                            0.0                               0.0  \n",
       "3                            0.0                               1.0  \n",
       "4                            1.0                               0.0  \n",
       "5                            1.0                               0.0  "
      ]
     },
     "execution_count": 47,
     "metadata": {},
     "output_type": "execute_result"
    }
   ],
   "source": [
    "fs_inputs=df_scale.drop(['Response'],axis=1)\n",
    "fs_target=df_scale['Response']\n",
    "\n",
    "fs_inputs.head()"
   ]
  },
  {
   "cell_type": "code",
   "execution_count": 48,
   "metadata": {},
   "outputs": [],
   "source": [
    "###Feature selection\n",
    "\n",
    "from mlxtend.feature_selection import SequentialFeatureSelector as SFS\n",
    "from sklearn.pipeline import make_pipeline\n",
    "from sklearn.neighbors import KNeighborsRegressor\n",
    "from sklearn.model_selection import KFold\n",
    "from sklearn.model_selection import cross_val_predict\n",
    "from sklearn.ensemble import RandomForestClassifier"
   ]
  },
  {
   "cell_type": "code",
   "execution_count": 24,
   "metadata": {},
   "outputs": [],
   "source": [
    "cv=KFold(n_splits=10,shuffle=False)\n",
    "classifier_pipeline= make_pipeline(RandomForestClassifier(n_estimators=10, n_jobs=-1))"
   ]
  },
  {
   "cell_type": "code",
   "execution_count": 26,
   "metadata": {},
   "outputs": [
    {
     "data": {
      "text/plain": [
       "{1: {'feature_idx': (0,),\n",
       "  'cv_scores': array([0.87830285, 0.87420955, 0.8780667 , 0.87956233, 0.8768597 ,\n",
       "         0.87701713, 0.8744457 , 0.87790927, 0.87712209, 0.88087116]),\n",
       "  'avg_score': 0.8774366478737436,\n",
       "  'feature_names': ('Gender',)},\n",
       " 2: {'feature_idx': (0, 1),\n",
       "  'cv_scores': array([0.87830285, 0.87420955, 0.8780667 , 0.87956233, 0.8768597 ,\n",
       "         0.87701713, 0.8744457 , 0.87790927, 0.87712209, 0.88087116]),\n",
       "  'avg_score': 0.8774366478737436,\n",
       "  'feature_names': ('Gender', 'Age')},\n",
       " 3: {'feature_idx': (0, 1, 10),\n",
       "  'cv_scores': array([0.87832909, 0.87420955, 0.87809294, 0.87958857, 0.8768597 ,\n",
       "         0.87701713, 0.8744457 , 0.87790927, 0.87712209, 0.88084492]),\n",
       "  'avg_score': 0.8774418956336033,\n",
       "  'feature_names': ('Gender', 'Age', 'Vehicle_Age_greater_than_2_Years')},\n",
       " 4: {'feature_idx': (0, 1, 5, 10),\n",
       "  'cv_scores': array([0.87832909, 0.87420955, 0.8780667 , 0.87958857, 0.87683346,\n",
       "         0.8769909 , 0.8744457 , 0.87790927, 0.87712209, 0.88084492]),\n",
       "  'avg_score': 0.877434023890537,\n",
       "  'feature_names': ('Gender',\n",
       "   'Age',\n",
       "   'Vehicle_Damage',\n",
       "   'Vehicle_Age_greater_than_2_Years')},\n",
       " 5: {'feature_idx': (0, 1, 5, 9, 10),\n",
       "  'cv_scores': array([0.87817166, 0.87420955, 0.87804046, 0.87953609, 0.87693842,\n",
       "         0.8769909 , 0.87452442, 0.87777807, 0.87717457, 0.88092364]),\n",
       "  'avg_score': 0.8774287762683795,\n",
       "  'feature_names': ('Gender',\n",
       "   'Age',\n",
       "   'Vehicle_Damage',\n",
       "   'Vehicle_Age_less_than_1_Year',\n",
       "   'Vehicle_Age_greater_than_2_Years')},\n",
       " 6: {'feature_idx': (0, 1, 4, 5, 9, 10),\n",
       "  'cv_scores': array([0.87809294, 0.87420955, 0.8780667 , 0.87961481, 0.87696466,\n",
       "         0.87706961, 0.87457689, 0.87777807, 0.87714833, 0.88087116]),\n",
       "  'avg_score': 0.8774392717880991,\n",
       "  'feature_names': ('Gender',\n",
       "   'Age',\n",
       "   'Previously_Insured',\n",
       "   'Vehicle_Damage',\n",
       "   'Vehicle_Age_less_than_1_Year',\n",
       "   'Vehicle_Age_greater_than_2_Years')},\n",
       " 7: {'feature_idx': (0, 1, 2, 4, 5, 9, 10),\n",
       "  'cv_scores': array([0.87817166, 0.87415707, 0.87809294, 0.87964105, 0.87691218,\n",
       "         0.87701713, 0.87457689, 0.87777807, 0.87717457, 0.88084492]),\n",
       "  'avg_score': 0.8774366478048924,\n",
       "  'feature_names': ('Gender',\n",
       "   'Age',\n",
       "   'Driving_License',\n",
       "   'Previously_Insured',\n",
       "   'Vehicle_Damage',\n",
       "   'Vehicle_Age_less_than_1_Year',\n",
       "   'Vehicle_Age_greater_than_2_Years')},\n",
       " 8: {'feature_idx': (0, 1, 2, 4, 5, 7, 9, 10),\n",
       "  'cv_scores': array([0.87436698, 0.87095589, 0.87378972, 0.87512792, 0.87239904,\n",
       "         0.87271391, 0.8719005 , 0.87528535, 0.87331741, 0.87725007]),\n",
       "  'avg_score': 0.8737106799875773,\n",
       "  'feature_names': ('Gender',\n",
       "   'Age',\n",
       "   'Driving_License',\n",
       "   'Previously_Insured',\n",
       "   'Vehicle_Damage',\n",
       "   'Policy_Sales_Channel',\n",
       "   'Vehicle_Age_less_than_1_Year',\n",
       "   'Vehicle_Age_greater_than_2_Years')},\n",
       " 9: {'feature_idx': (0, 1, 2, 3, 4, 5, 7, 9, 10),\n",
       "  'cv_scores': array([0.8634515 , 0.8603028 , 0.86158852, 0.86568182, 0.86287424,\n",
       "         0.86174595, 0.86059143, 0.86562935, 0.86360893, 0.86638678]),\n",
       "  'avg_score': 0.863186131003582,\n",
       "  'feature_names': ('Gender',\n",
       "   'Age',\n",
       "   'Driving_License',\n",
       "   'Region_Code',\n",
       "   'Previously_Insured',\n",
       "   'Vehicle_Damage',\n",
       "   'Policy_Sales_Channel',\n",
       "   'Vehicle_Age_less_than_1_Year',\n",
       "   'Vehicle_Age_greater_than_2_Years')},\n",
       " 10: {'feature_idx': (0, 1, 2, 3, 4, 5, 7, 8, 9, 10),\n",
       "  'cv_scores': array([0.85463514, 0.84765553, 0.85269345, 0.85460891, 0.85303456,\n",
       "         0.85106662, 0.84888877, 0.85256225, 0.85256225, 0.85471005]),\n",
       "  'avg_score': 0.8522417535883337,\n",
       "  'feature_names': ('Gender',\n",
       "   'Age',\n",
       "   'Driving_License',\n",
       "   'Region_Code',\n",
       "   'Previously_Insured',\n",
       "   'Vehicle_Damage',\n",
       "   'Policy_Sales_Channel',\n",
       "   'Vintage',\n",
       "   'Vehicle_Age_less_than_1_Year',\n",
       "   'Vehicle_Age_greater_than_2_Years')},\n",
       " 11: {'feature_idx': (0, 1, 2, 3, 4, 5, 6, 7, 8, 9, 10),\n",
       "  'cv_scores': array([0.86366141, 0.85990921, 0.86353021, 0.86604917, 0.86240193,\n",
       "         0.86208706, 0.86093254, 0.86321534, 0.86192963, 0.86691157]),\n",
       "  'avg_score': 0.863062808405898,\n",
       "  'feature_names': ('Gender',\n",
       "   'Age',\n",
       "   'Driving_License',\n",
       "   'Region_Code',\n",
       "   'Previously_Insured',\n",
       "   'Vehicle_Damage',\n",
       "   'Annual_Premium',\n",
       "   'Policy_Sales_Channel',\n",
       "   'Vintage',\n",
       "   'Vehicle_Age_less_than_1_Year',\n",
       "   'Vehicle_Age_greater_than_2_Years')}}"
      ]
     },
     "execution_count": 26,
     "metadata": {},
     "output_type": "execute_result"
    }
   ],
   "source": [
    "# Build step forward feature selection\n",
    "sfsl = SFS(classifier_pipeline,\n",
    "           k_features=11,\n",
    "           forward=True,\n",
    "           scoring='accuracy',\n",
    "           cv=cv)\n",
    "\n",
    "# Perform SFFS\n",
    "sfsl.fit(fs_inputs, fs_target)\n",
    "sfsl.subsets_"
   ]
  },
  {
   "cell_type": "code",
   "execution_count": 54,
   "metadata": {},
   "outputs": [
    {
     "data": {
      "text/html": [
       "<div>\n",
       "<style scoped>\n",
       "    .dataframe tbody tr th:only-of-type {\n",
       "        vertical-align: middle;\n",
       "    }\n",
       "\n",
       "    .dataframe tbody tr th {\n",
       "        vertical-align: top;\n",
       "    }\n",
       "\n",
       "    .dataframe thead th {\n",
       "        text-align: right;\n",
       "    }\n",
       "</style>\n",
       "<table border=\"1\" class=\"dataframe\">\n",
       "  <thead>\n",
       "    <tr style=\"text-align: right;\">\n",
       "      <th></th>\n",
       "      <th>Gender</th>\n",
       "      <th>Age</th>\n",
       "      <th>Driving_License</th>\n",
       "      <th>Region_Code</th>\n",
       "      <th>Previously_Insured</th>\n",
       "      <th>Vehicle_Damage</th>\n",
       "      <th>Annual_Premium</th>\n",
       "      <th>Policy_Sales_Channel</th>\n",
       "      <th>Vintage</th>\n",
       "      <th>Vehicle_Age_less_than_1_Year</th>\n",
       "      <th>Vehicle_Age_greater_than_2_Years</th>\n",
       "    </tr>\n",
       "    <tr>\n",
       "      <th>id</th>\n",
       "      <th></th>\n",
       "      <th></th>\n",
       "      <th></th>\n",
       "      <th></th>\n",
       "      <th></th>\n",
       "      <th></th>\n",
       "      <th></th>\n",
       "      <th></th>\n",
       "      <th></th>\n",
       "      <th></th>\n",
       "      <th></th>\n",
       "    </tr>\n",
       "  </thead>\n",
       "  <tbody>\n",
       "    <tr>\n",
       "      <th>1</th>\n",
       "      <td>1.0</td>\n",
       "      <td>0.369231</td>\n",
       "      <td>1.0</td>\n",
       "      <td>0.538462</td>\n",
       "      <td>0.0</td>\n",
       "      <td>1.0</td>\n",
       "      <td>0.070366</td>\n",
       "      <td>0.154321</td>\n",
       "      <td>0.716263</td>\n",
       "      <td>0.0</td>\n",
       "      <td>1.0</td>\n",
       "    </tr>\n",
       "    <tr>\n",
       "      <th>2</th>\n",
       "      <td>1.0</td>\n",
       "      <td>0.861538</td>\n",
       "      <td>1.0</td>\n",
       "      <td>0.057692</td>\n",
       "      <td>0.0</td>\n",
       "      <td>0.0</td>\n",
       "      <td>0.057496</td>\n",
       "      <td>0.154321</td>\n",
       "      <td>0.598616</td>\n",
       "      <td>0.0</td>\n",
       "      <td>0.0</td>\n",
       "    </tr>\n",
       "    <tr>\n",
       "      <th>3</th>\n",
       "      <td>1.0</td>\n",
       "      <td>0.415385</td>\n",
       "      <td>1.0</td>\n",
       "      <td>0.538462</td>\n",
       "      <td>0.0</td>\n",
       "      <td>1.0</td>\n",
       "      <td>0.066347</td>\n",
       "      <td>0.154321</td>\n",
       "      <td>0.058824</td>\n",
       "      <td>0.0</td>\n",
       "      <td>1.0</td>\n",
       "    </tr>\n",
       "    <tr>\n",
       "      <th>4</th>\n",
       "      <td>1.0</td>\n",
       "      <td>0.015385</td>\n",
       "      <td>1.0</td>\n",
       "      <td>0.211538</td>\n",
       "      <td>1.0</td>\n",
       "      <td>0.0</td>\n",
       "      <td>0.048348</td>\n",
       "      <td>0.932099</td>\n",
       "      <td>0.667820</td>\n",
       "      <td>1.0</td>\n",
       "      <td>0.0</td>\n",
       "    </tr>\n",
       "    <tr>\n",
       "      <th>5</th>\n",
       "      <td>0.0</td>\n",
       "      <td>0.138462</td>\n",
       "      <td>1.0</td>\n",
       "      <td>0.788462</td>\n",
       "      <td>1.0</td>\n",
       "      <td>0.0</td>\n",
       "      <td>0.046259</td>\n",
       "      <td>0.932099</td>\n",
       "      <td>0.100346</td>\n",
       "      <td>1.0</td>\n",
       "      <td>0.0</td>\n",
       "    </tr>\n",
       "  </tbody>\n",
       "</table>\n",
       "</div>"
      ],
      "text/plain": [
       "    Gender       Age  Driving_License  Region_Code  Previously_Insured  \\\n",
       "id                                                                       \n",
       "1      1.0  0.369231              1.0     0.538462                 0.0   \n",
       "2      1.0  0.861538              1.0     0.057692                 0.0   \n",
       "3      1.0  0.415385              1.0     0.538462                 0.0   \n",
       "4      1.0  0.015385              1.0     0.211538                 1.0   \n",
       "5      0.0  0.138462              1.0     0.788462                 1.0   \n",
       "\n",
       "    Vehicle_Damage  Annual_Premium  Policy_Sales_Channel   Vintage  \\\n",
       "id                                                                   \n",
       "1              1.0        0.070366              0.154321  0.716263   \n",
       "2              0.0        0.057496              0.154321  0.598616   \n",
       "3              1.0        0.066347              0.154321  0.058824   \n",
       "4              0.0        0.048348              0.932099  0.667820   \n",
       "5              0.0        0.046259              0.932099  0.100346   \n",
       "\n",
       "    Vehicle_Age_less_than_1_Year  Vehicle_Age_greater_than_2_Years  \n",
       "id                                                                  \n",
       "1                            0.0                               1.0  \n",
       "2                            0.0                               0.0  \n",
       "3                            0.0                               1.0  \n",
       "4                            1.0                               0.0  \n",
       "5                            1.0                               0.0  "
      ]
     },
     "execution_count": 54,
     "metadata": {},
     "output_type": "execute_result"
    }
   ],
   "source": [
    "X.head()"
   ]
  },
  {
   "cell_type": "code",
   "execution_count": 55,
   "metadata": {},
   "outputs": [],
   "source": [
    "X_fs=df_scale.drop(['Region_Code','Annual_Premium','Vintage'],axis=1)\n",
    "\n"
   ]
  },
  {
   "cell_type": "code",
   "execution_count": 27,
   "metadata": {},
   "outputs": [],
   "source": [
    "cv=KFold(n_splits=10,shuffle=False)\n",
    "classifier_pipeline= make_pipeline(RandomForestClassifier(n_estimators=100, n_jobs=-1))"
   ]
  },
  {
   "cell_type": "code",
   "execution_count": 28,
   "metadata": {},
   "outputs": [
    {
     "data": {
      "text/plain": [
       "{1: {'feature_idx': (0,),\n",
       "  'cv_scores': array([0.87830285, 0.87420955, 0.8780667 , 0.87956233, 0.8768597 ,\n",
       "         0.87701713, 0.8744457 , 0.87790927, 0.87712209, 0.88087116]),\n",
       "  'avg_score': 0.8774366478737436,\n",
       "  'feature_names': ('Gender',)},\n",
       " 2: {'feature_idx': (0, 1),\n",
       "  'cv_scores': array([0.87830285, 0.87420955, 0.8780667 , 0.87956233, 0.8768597 ,\n",
       "         0.87701713, 0.8744457 , 0.87790927, 0.87712209, 0.88087116]),\n",
       "  'avg_score': 0.8774366478737436,\n",
       "  'feature_names': ('Gender', 'Age')},\n",
       " 3: {'feature_idx': (0, 1, 10),\n",
       "  'cv_scores': array([0.87830285, 0.87420955, 0.87809294, 0.87958857, 0.8768597 ,\n",
       "         0.87701713, 0.8744457 , 0.87790927, 0.87712209, 0.88084492]),\n",
       "  'avg_score': 0.8774392717192478,\n",
       "  'feature_names': ('Gender', 'Age', 'Vehicle_Age_greater_than_2_Years')},\n",
       " 4: {'feature_idx': (0, 1, 4, 10),\n",
       "  'cv_scores': array([0.87830285, 0.87420955, 0.87809294, 0.87958857, 0.8768597 ,\n",
       "         0.87701713, 0.8744457 , 0.87790927, 0.87709585, 0.88084492]),\n",
       "  'avg_score': 0.8774366478048925,\n",
       "  'feature_names': ('Gender',\n",
       "   'Age',\n",
       "   'Previously_Insured',\n",
       "   'Vehicle_Age_greater_than_2_Years')},\n",
       " 5: {'feature_idx': (0, 1, 4, 5, 10),\n",
       "  'cv_scores': array([0.87830285, 0.87420955, 0.87809294, 0.87945737, 0.8768597 ,\n",
       "         0.87701713, 0.8744457 , 0.87790927, 0.87709585, 0.88084492]),\n",
       "  'avg_score': 0.8774235282331153,\n",
       "  'feature_names': ('Gender',\n",
       "   'Age',\n",
       "   'Previously_Insured',\n",
       "   'Vehicle_Damage',\n",
       "   'Vehicle_Age_greater_than_2_Years')},\n",
       " 6: {'feature_idx': (0, 1, 4, 5, 9, 10),\n",
       "  'cv_scores': array([0.87825037, 0.87420955, 0.87801422, 0.87961481, 0.87696466,\n",
       "         0.87704337, 0.87457689, 0.87780431, 0.87714833, 0.8808974 ]),\n",
       "  'avg_score': 0.8774523914287273,\n",
       "  'feature_names': ('Gender',\n",
       "   'Age',\n",
       "   'Previously_Insured',\n",
       "   'Vehicle_Damage',\n",
       "   'Vehicle_Age_less_than_1_Year',\n",
       "   'Vehicle_Age_greater_than_2_Years')},\n",
       " 7: {'feature_idx': (0, 1, 2, 4, 5, 9, 10),\n",
       "  'cv_scores': array([0.87817166, 0.87415707, 0.87809294, 0.87953609, 0.87691218,\n",
       "         0.8769909 , 0.87457689, 0.87777807, 0.87701713, 0.88092364]),\n",
       "  'avg_score': 0.8774156566966023,\n",
       "  'feature_names': ('Gender',\n",
       "   'Age',\n",
       "   'Driving_License',\n",
       "   'Previously_Insured',\n",
       "   'Vehicle_Damage',\n",
       "   'Vehicle_Age_less_than_1_Year',\n",
       "   'Vehicle_Age_greater_than_2_Years')},\n",
       " 8: {'feature_idx': (0, 1, 2, 4, 5, 7, 9, 10),\n",
       "  'cv_scores': array([0.87465561, 0.87137572, 0.87410459, 0.87633492, 0.87297631,\n",
       "         0.87308126, 0.87155939, 0.87575766, 0.873711  , 0.8779323 ]),\n",
       "  'avg_score': 0.8741488754750628,\n",
       "  'feature_names': ('Gender',\n",
       "   'Age',\n",
       "   'Driving_License',\n",
       "   'Previously_Insured',\n",
       "   'Vehicle_Damage',\n",
       "   'Policy_Sales_Channel',\n",
       "   'Vehicle_Age_less_than_1_Year',\n",
       "   'Vehicle_Age_greater_than_2_Years')},\n",
       " 9: {'feature_idx': (0, 1, 2, 3, 4, 5, 7, 9, 10),\n",
       "  'cv_scores': array([0.86505208, 0.86187715, 0.86321534, 0.86683635, 0.86334654,\n",
       "         0.86290047, 0.86245441, 0.86636404, 0.86408124, 0.86788245]),\n",
       "  'avg_score': 0.8644010072746596,\n",
       "  'feature_names': ('Gender',\n",
       "   'Age',\n",
       "   'Driving_License',\n",
       "   'Region_Code',\n",
       "   'Previously_Insured',\n",
       "   'Vehicle_Damage',\n",
       "   'Policy_Sales_Channel',\n",
       "   'Vehicle_Age_less_than_1_Year',\n",
       "   'Vehicle_Age_greater_than_2_Years')},\n",
       " 10: {'feature_idx': (0, 1, 2, 3, 4, 5, 7, 8, 9, 10),\n",
       "  'cv_scores': array([0.85416284, 0.84807536, 0.85119782, 0.85397917, 0.84983338,\n",
       "         0.85161764, 0.84988586, 0.85240482, 0.85062056, 0.85499869]),\n",
       "  'avg_score': 0.8516776127592769,\n",
       "  'feature_names': ('Gender',\n",
       "   'Age',\n",
       "   'Driving_License',\n",
       "   'Region_Code',\n",
       "   'Previously_Insured',\n",
       "   'Vehicle_Damage',\n",
       "   'Policy_Sales_Channel',\n",
       "   'Vintage',\n",
       "   'Vehicle_Age_less_than_1_Year',\n",
       "   'Vehicle_Age_greater_than_2_Years')},\n",
       " 11: {'feature_idx': (0, 1, 2, 3, 4, 5, 6, 7, 8, 9, 10),\n",
       "  'cv_scores': array([0.86610165, 0.86240193, 0.86620661, 0.8690142 , 0.86623285,\n",
       "         0.86481593, 0.86395004, 0.86599669, 0.86555063, 0.87063763]),\n",
       "  'avg_score': 0.8660908153489227,\n",
       "  'feature_names': ('Gender',\n",
       "   'Age',\n",
       "   'Driving_License',\n",
       "   'Region_Code',\n",
       "   'Previously_Insured',\n",
       "   'Vehicle_Damage',\n",
       "   'Annual_Premium',\n",
       "   'Policy_Sales_Channel',\n",
       "   'Vintage',\n",
       "   'Vehicle_Age_less_than_1_Year',\n",
       "   'Vehicle_Age_greater_than_2_Years')}}"
      ]
     },
     "execution_count": 28,
     "metadata": {},
     "output_type": "execute_result"
    }
   ],
   "source": [
    "sfsl = SFS(classifier_pipeline,\n",
    "           k_features=11,\n",
    "           forward=True,\n",
    "           scoring='accuracy',\n",
    "           cv=cv)\n",
    "\n",
    "# Perform SFFS\n",
    "sfsl.fit(fs_inputs, fs_target)\n",
    "sfsl.subsets_"
   ]
  },
  {
   "cell_type": "code",
   "execution_count": 49,
   "metadata": {},
   "outputs": [],
   "source": [
    "cv=KFold(n_splits=10,shuffle=False)\n",
    "classifier_pipeline= make_pipeline(RandomForestClassifier(n_estimators=100, n_jobs=-1))"
   ]
  },
  {
   "cell_type": "code",
   "execution_count": 52,
   "metadata": {},
   "outputs": [
    {
     "data": {
      "text/plain": [
       "{11: {'feature_idx': (0, 1, 2, 3, 4, 5, 6, 7, 8, 9, 10),\n",
       "  'cv_scores': array([0.86702002, 0.86177219, 0.86641652, 0.86985385, 0.8669413 ,\n",
       "         0.86494713, 0.86436987, 0.86636404, 0.86607541, 0.87071635]),\n",
       "  'avg_score': 0.866447667907815,\n",
       "  'feature_names': ('Gender',\n",
       "   'Age',\n",
       "   'Driving_License',\n",
       "   'Region_Code',\n",
       "   'Previously_Insured',\n",
       "   'Vehicle_Damage',\n",
       "   'Annual_Premium',\n",
       "   'Policy_Sales_Channel',\n",
       "   'Vintage',\n",
       "   'Vehicle_Age_less_than_1_Year',\n",
       "   'Vehicle_Age_greater_than_2_Years')},\n",
       " 10: {'feature_idx': (0, 1, 2, 3, 4, 6, 7, 8, 9, 10),\n",
       "  'cv_scores': array([0.86597045, 0.86297919, 0.86610165, 0.86969641, 0.86486841,\n",
       "         0.86523576, 0.86473721, 0.86652148, 0.86591798, 0.87066387]),\n",
       "  'avg_score': 0.8662692415939433,\n",
       "  'feature_names': ('Gender',\n",
       "   'Age',\n",
       "   'Driving_License',\n",
       "   'Region_Code',\n",
       "   'Previously_Insured',\n",
       "   'Annual_Premium',\n",
       "   'Policy_Sales_Channel',\n",
       "   'Vintage',\n",
       "   'Vehicle_Age_less_than_1_Year',\n",
       "   'Vehicle_Age_greater_than_2_Years')},\n",
       " 9: {'feature_idx': (0, 1, 2, 3, 6, 7, 8, 9, 10),\n",
       "  'cv_scores': array([0.86833198, 0.86431739, 0.86914539, 0.87040487, 0.86738737,\n",
       "         0.86670515, 0.866469  , 0.86967017, 0.86738737, 0.87268433]),\n",
       "  'avg_score': 0.8682503022338297,\n",
       "  'feature_names': ('Gender',\n",
       "   'Age',\n",
       "   'Driving_License',\n",
       "   'Region_Code',\n",
       "   'Annual_Premium',\n",
       "   'Policy_Sales_Channel',\n",
       "   'Vintage',\n",
       "   'Vehicle_Age_less_than_1_Year',\n",
       "   'Vehicle_Age_greater_than_2_Years')},\n",
       " 8: {'feature_idx': (0, 1, 3, 6, 7, 8, 9, 10),\n",
       "  'cv_scores': array([0.86835822, 0.8633203 , 0.86812206, 0.8706935 , 0.86757104,\n",
       "         0.86801711, 0.86678387, 0.87011624, 0.86757104, 0.87257938]),\n",
       "  'avg_score': 0.8683132759029558,\n",
       "  'feature_names': ('Gender',\n",
       "   'Age',\n",
       "   'Region_Code',\n",
       "   'Annual_Premium',\n",
       "   'Policy_Sales_Channel',\n",
       "   'Vintage',\n",
       "   'Vehicle_Age_less_than_1_Year',\n",
       "   'Vehicle_Age_greater_than_2_Years')},\n",
       " 7: {'feature_idx': (0, 1, 3, 6, 7, 8, 9),\n",
       "  'cv_scores': array([0.8687518 , 0.8639238 , 0.8687518 , 0.87145444, 0.86762352,\n",
       "         0.86796463, 0.86599669, 0.86812206, 0.86757104, 0.87184466]),\n",
       "  'avg_score': 0.868200445657842,\n",
       "  'feature_names': ('Gender',\n",
       "   'Age',\n",
       "   'Region_Code',\n",
       "   'Annual_Premium',\n",
       "   'Policy_Sales_Channel',\n",
       "   'Vintage',\n",
       "   'Vehicle_Age_less_than_1_Year')},\n",
       " 6: {'feature_idx': (0, 1, 3, 6, 7, 8),\n",
       "  'cv_scores': array([0.86880428, 0.86436987, 0.8681483 , 0.8706935 , 0.86780719,\n",
       "         0.86683635, 0.86547191, 0.86809583, 0.86709874, 0.87189714]),\n",
       "  'avg_score': 0.8679223108738681,\n",
       "  'feature_names': ('Gender',\n",
       "   'Age',\n",
       "   'Region_Code',\n",
       "   'Annual_Premium',\n",
       "   'Policy_Sales_Channel',\n",
       "   'Vintage')},\n",
       " 5: {'feature_idx': (1, 3, 6, 7, 8),\n",
       "  'cv_scores': array([0.86631156, 0.86279552, 0.86660019, 0.86817454, 0.86686259,\n",
       "         0.86507832, 0.86457978, 0.86570806, 0.864055  , 0.87029651]),\n",
       "  'avg_score': 0.8660462079098163,\n",
       "  'feature_names': ('Age',\n",
       "   'Region_Code',\n",
       "   'Annual_Premium',\n",
       "   'Policy_Sales_Channel',\n",
       "   'Vintage')},\n",
       " 4: {'feature_idx': (1, 3, 6, 8),\n",
       "  'cv_scores': array([0.86263808, 0.85893836, 0.86339902, 0.86602293, 0.86182467,\n",
       "         0.86061767, 0.85864973, 0.86255937, 0.86145732, 0.86659669]),\n",
       "  'avg_score': 0.8622703854443434,\n",
       "  'feature_names': ('Age', 'Region_Code', 'Annual_Premium', 'Vintage')},\n",
       " 3: {'feature_idx': (1, 6, 8),\n",
       "  'cv_scores': array([0.85888589, 0.85397917, 0.86011913, 0.86009289, 0.85710162,\n",
       "         0.85809871, 0.85397917, 0.8578888 , 0.85770512, 0.86329047]),\n",
       "  'avg_score': 0.8581140964300988,\n",
       "  'feature_names': ('Age', 'Annual_Premium', 'Vintage')},\n",
       " 2: {'feature_idx': (1, 8),\n",
       "  'cv_scores': array([0.87591509, 0.87287135, 0.87659731, 0.8775944 , 0.87523287,\n",
       "         0.8755215 , 0.87226785, 0.87628244, 0.87570518, 0.87874574]),\n",
       "  'avg_score': 0.8756733718499541,\n",
       "  'feature_names': ('Age', 'Vintage')},\n",
       " 1: {'feature_idx': (8,),\n",
       "  'cv_scores': array([0.87830285, 0.87420955, 0.8780667 , 0.87956233, 0.8768597 ,\n",
       "         0.87701713, 0.8744457 , 0.87790927, 0.87712209, 0.88087116]),\n",
       "  'avg_score': 0.8774366478737436,\n",
       "  'feature_names': ('Vintage',)}}"
      ]
     },
     "execution_count": 52,
     "metadata": {},
     "output_type": "execute_result"
    }
   ],
   "source": [
    "sfsl = SFS(classifier_pipeline,\n",
    "           k_features=1,\n",
    "           forward=False,\n",
    "           scoring='accuracy',\n",
    "           cv=cv)\n",
    "\n",
    "# Perform SFFS\n",
    "sfsl.fit(fs_inputs, fs_target)\n",
    "sfsl.subsets_"
   ]
  },
  {
   "cell_type": "code",
   "execution_count": 19,
   "metadata": {},
   "outputs": [],
   "source": []
  },
  {
   "cell_type": "code",
   "execution_count": null,
   "metadata": {},
   "outputs": [],
   "source": []
  },
  {
   "cell_type": "code",
   "execution_count": null,
   "metadata": {},
   "outputs": [],
   "source": []
  },
  {
   "cell_type": "code",
   "execution_count": 27,
   "metadata": {},
   "outputs": [
    {
     "data": {
      "text/html": [
       "<div>\n",
       "<style scoped>\n",
       "    .dataframe tbody tr th:only-of-type {\n",
       "        vertical-align: middle;\n",
       "    }\n",
       "\n",
       "    .dataframe tbody tr th {\n",
       "        vertical-align: top;\n",
       "    }\n",
       "\n",
       "    .dataframe thead th {\n",
       "        text-align: right;\n",
       "    }\n",
       "</style>\n",
       "<table border=\"1\" class=\"dataframe\">\n",
       "  <thead>\n",
       "    <tr style=\"text-align: right;\">\n",
       "      <th></th>\n",
       "      <th>Gender</th>\n",
       "      <th>Age</th>\n",
       "      <th>Driving_License</th>\n",
       "      <th>Region_Code</th>\n",
       "      <th>Previously_Insured</th>\n",
       "      <th>Vehicle_Damage</th>\n",
       "      <th>Annual_Premium</th>\n",
       "      <th>Policy_Sales_Channel</th>\n",
       "      <th>Vintage</th>\n",
       "      <th>Vehicle_Age_less_than_1_Year</th>\n",
       "      <th>Vehicle_Age_greater_than_2_Years</th>\n",
       "    </tr>\n",
       "    <tr>\n",
       "      <th>id</th>\n",
       "      <th></th>\n",
       "      <th></th>\n",
       "      <th></th>\n",
       "      <th></th>\n",
       "      <th></th>\n",
       "      <th></th>\n",
       "      <th></th>\n",
       "      <th></th>\n",
       "      <th></th>\n",
       "      <th></th>\n",
       "      <th></th>\n",
       "    </tr>\n",
       "  </thead>\n",
       "  <tbody>\n",
       "    <tr>\n",
       "      <th>1</th>\n",
       "      <td>1.0</td>\n",
       "      <td>0.369231</td>\n",
       "      <td>1.0</td>\n",
       "      <td>0.538462</td>\n",
       "      <td>0.0</td>\n",
       "      <td>1.0</td>\n",
       "      <td>0.070366</td>\n",
       "      <td>0.154321</td>\n",
       "      <td>0.716263</td>\n",
       "      <td>0.0</td>\n",
       "      <td>1.0</td>\n",
       "    </tr>\n",
       "    <tr>\n",
       "      <th>2</th>\n",
       "      <td>1.0</td>\n",
       "      <td>0.861538</td>\n",
       "      <td>1.0</td>\n",
       "      <td>0.057692</td>\n",
       "      <td>0.0</td>\n",
       "      <td>0.0</td>\n",
       "      <td>0.057496</td>\n",
       "      <td>0.154321</td>\n",
       "      <td>0.598616</td>\n",
       "      <td>0.0</td>\n",
       "      <td>0.0</td>\n",
       "    </tr>\n",
       "    <tr>\n",
       "      <th>3</th>\n",
       "      <td>1.0</td>\n",
       "      <td>0.415385</td>\n",
       "      <td>1.0</td>\n",
       "      <td>0.538462</td>\n",
       "      <td>0.0</td>\n",
       "      <td>1.0</td>\n",
       "      <td>0.066347</td>\n",
       "      <td>0.154321</td>\n",
       "      <td>0.058824</td>\n",
       "      <td>0.0</td>\n",
       "      <td>1.0</td>\n",
       "    </tr>\n",
       "    <tr>\n",
       "      <th>4</th>\n",
       "      <td>1.0</td>\n",
       "      <td>0.015385</td>\n",
       "      <td>1.0</td>\n",
       "      <td>0.211538</td>\n",
       "      <td>1.0</td>\n",
       "      <td>0.0</td>\n",
       "      <td>0.048348</td>\n",
       "      <td>0.932099</td>\n",
       "      <td>0.667820</td>\n",
       "      <td>1.0</td>\n",
       "      <td>0.0</td>\n",
       "    </tr>\n",
       "    <tr>\n",
       "      <th>5</th>\n",
       "      <td>0.0</td>\n",
       "      <td>0.138462</td>\n",
       "      <td>1.0</td>\n",
       "      <td>0.788462</td>\n",
       "      <td>1.0</td>\n",
       "      <td>0.0</td>\n",
       "      <td>0.046259</td>\n",
       "      <td>0.932099</td>\n",
       "      <td>0.100346</td>\n",
       "      <td>1.0</td>\n",
       "      <td>0.0</td>\n",
       "    </tr>\n",
       "  </tbody>\n",
       "</table>\n",
       "</div>"
      ],
      "text/plain": [
       "    Gender       Age  Driving_License  Region_Code  Previously_Insured  \\\n",
       "id                                                                       \n",
       "1      1.0  0.369231              1.0     0.538462                 0.0   \n",
       "2      1.0  0.861538              1.0     0.057692                 0.0   \n",
       "3      1.0  0.415385              1.0     0.538462                 0.0   \n",
       "4      1.0  0.015385              1.0     0.211538                 1.0   \n",
       "5      0.0  0.138462              1.0     0.788462                 1.0   \n",
       "\n",
       "    Vehicle_Damage  Annual_Premium  Policy_Sales_Channel   Vintage  \\\n",
       "id                                                                   \n",
       "1              1.0        0.070366              0.154321  0.716263   \n",
       "2              0.0        0.057496              0.154321  0.598616   \n",
       "3              1.0        0.066347              0.154321  0.058824   \n",
       "4              0.0        0.048348              0.932099  0.667820   \n",
       "5              0.0        0.046259              0.932099  0.100346   \n",
       "\n",
       "    Vehicle_Age_less_than_1_Year  Vehicle_Age_greater_than_2_Years  \n",
       "id                                                                  \n",
       "1                            0.0                               1.0  \n",
       "2                            0.0                               0.0  \n",
       "3                            0.0                               1.0  \n",
       "4                            1.0                               0.0  \n",
       "5                            1.0                               0.0  "
      ]
     },
     "execution_count": 27,
     "metadata": {},
     "output_type": "execute_result"
    }
   ],
   "source": [
    "X.head()"
   ]
  },
  {
   "cell_type": "code",
   "execution_count": 90,
   "metadata": {},
   "outputs": [
    {
     "data": {
      "text/plain": [
       "id\n",
       "1    1\n",
       "2    0\n",
       "3    1\n",
       "4    0\n",
       "5    0\n",
       "Name: Response, dtype: int64"
      ]
     },
     "execution_count": 90,
     "metadata": {},
     "output_type": "execute_result"
    }
   ],
   "source": [
    "#Y.head()"
   ]
  },
  {
   "cell_type": "code",
   "execution_count": 26,
   "metadata": {},
   "outputs": [
    {
     "data": {
      "image/png": "[encoded data removed]",
      "text/plain": [
       "<Figure size 840x350 with 2 Axes>"
      ]
     },
     "metadata": {},
     "output_type": "display_data"
    }
   ],
   "source": [
    "pca = PCA().fit(X)\n",
    "\n",
    "fig, axes = plt.subplots(nrows=1, ncols=2, figsize=(12, 5), dpi=70, facecolor='w', edgecolor='k')\n",
    "ax0, ax1 = axes.flatten()\n",
    "\n",
    "sns.set('talk', palette='colorblind')\n",
    "\n",
    "font = {'family' : 'normal',\n",
    "        'weight' : 'normal',\n",
    "        'size'   : 12}\n",
    "\n",
    "matplotlib.rc('font', **font)\n",
    "\n",
    "ax0.plot(np.cumsum(pca.explained_variance_ratio_), marker='o')\n",
    "ax0.set_xlabel('Number of components')\n",
    "ax0.set_ylabel('Cumulative explained variance');\n",
    "\n",
    "ax1.bar(range(X.shape[1]),pca.explained_variance_)\n",
    "ax1.set_xlabel('Number of components')\n",
    "ax1.set_ylabel('Explained variance');\n",
    "\n",
    "plt.tight_layout()\n",
    "plt.show()"
   ]
  },
  {
   "cell_type": "code",
   "execution_count": 27,
   "metadata": {},
   "outputs": [
    {
     "name": "stdout",
     "output_type": "stream",
     "text": [
      "Already: 5 components cover 90% of variance.\n"
     ]
    }
   ],
   "source": [
    "n_PCA_90 = np.size(np.cumsum(pca.explained_variance_ratio_)>0.9) - np.count_nonzero(np.cumsum(pca.explained_variance_ratio_)>0.9)\n",
    "print(\"Already: \" + format(n_PCA_90) + \" components cover 90% of variance.\")"
   ]
  },
  {
   "cell_type": "code",
   "execution_count": 28,
   "metadata": {},
   "outputs": [
    {
     "name": "stderr",
     "output_type": "stream",
     "text": [
      "C:\\Users\\abhhi\\anaconda3\\lib\\site-packages\\ipykernel_launcher.py:10: UserWarning: This figure includes Axes that are not compatible with tight_layout, so results might be incorrect.\n",
      "  # Remove the CWD from sys.path while we load stuff.\n",
      "findfont: Font family ['normal'] not found. Falling back to DejaVu Sans.\n",
      "findfont: Font family ['normal'] not found. Falling back to DejaVu Sans.\n"
     ]
    },
    {
     "data": {
      "image/png": "[encoded data removed]",
      "text/plain": [
       "<Figure size 633.6x288 with 2 Axes>"
      ]
     },
     "metadata": {},
     "output_type": "display_data"
    }
   ],
   "source": [
    "pca = PCA(5).fit(X)\n",
    "\n",
    "\n",
    "X_pca=pca.transform(X) \n",
    "\n",
    "plt.matshow(pca.components_,cmap='viridis')\n",
    "plt.yticks([0,1,2,3,4],['1st Comp','2nd Comp','3rd Comp','4th Comp'],fontsize=10)\n",
    "plt.colorbar()\n",
    "plt.xticks([0,1,2,3,4,5,6,7,8,9,10,11],X,fontsize=10,rotation=30)\n",
    "plt.tight_layout()\n",
    "plt.show()"
   ]
  },
  {
   "cell_type": "code",
   "execution_count": 40,
   "metadata": {},
   "outputs": [
    {
     "data": {
      "text/plain": [
       "array([[ 1.0279282 ,  0.31436732, -0.09249167,  0.22186237,  0.11230878],\n",
       "       [ 0.46454315,  0.742093  ,  0.21285421,  0.10556585, -0.38129302],\n",
       "       [ 1.03734548,  0.32395429, -0.08237807, -0.43551559,  0.10638472],\n",
       "       ...,\n",
       "       [-0.91227113,  0.33456852, -0.54277837,  0.02205252,  0.08755596],\n",
       "       [ 0.79328805, -0.46414384,  0.48952523, -0.27555125, -0.31165931],\n",
       "       [ 0.38654662,  0.6562297 ,  0.11302414,  0.28733589,  0.10834381]])"
      ]
     },
     "execution_count": 40,
     "metadata": {},
     "output_type": "execute_result"
    }
   ],
   "source": [
    "X_pca."
   ]
  },
  {
   "cell_type": "code",
   "execution_count": 29,
   "metadata": {},
   "outputs": [
    {
     "ename": "NameError",
     "evalue": "name 'ExtractColumn' is not defined",
     "output_type": "error",
     "traceback": [
      "\u001b[1;31m---------------------------------------------------------------------------\u001b[0m",
      "\u001b[1;31mNameError\u001b[0m                                 Traceback (most recent call last)",
      "\u001b[1;32m<ipython-input-29-2a56187ea714>\u001b[0m in \u001b[0;36m<module>\u001b[1;34m\u001b[0m\n\u001b[0;32m      2\u001b[0m \u001b[1;33m\u001b[0m\u001b[0m\n\u001b[0;32m      3\u001b[0m \u001b[1;32mfor\u001b[0m \u001b[0mi\u001b[0m\u001b[1;33m,\u001b[0m \u001b[0mfeature\u001b[0m \u001b[1;32min\u001b[0m \u001b[0mzip\u001b[0m\u001b[1;33m(\u001b[0m\u001b[0mrange\u001b[0m\u001b[1;33m(\u001b[0m\u001b[0mlen\u001b[0m \u001b[1;33m(\u001b[0m\u001b[0mX\u001b[0m\u001b[1;33m)\u001b[0m\u001b[1;33m)\u001b[0m\u001b[1;33m,\u001b[0m\u001b[0mX\u001b[0m\u001b[1;33m)\u001b[0m\u001b[1;33m:\u001b[0m\u001b[1;33m\u001b[0m\u001b[1;33m\u001b[0m\u001b[0m\n\u001b[1;32m----> 4\u001b[1;33m     \u001b[0mx\u001b[0m \u001b[1;33m=\u001b[0m \u001b[0mExtractColumn\u001b[0m\u001b[1;33m(\u001b[0m\u001b[0mpca\u001b[0m\u001b[1;33m.\u001b[0m\u001b[0mcomponents_\u001b[0m\u001b[1;33m[\u001b[0m\u001b[1;36m0\u001b[0m\u001b[1;33m]\u001b[0m\u001b[1;33m,\u001b[0m\u001b[0mi\u001b[0m\u001b[1;33m)\u001b[0m\u001b[1;33m\u001b[0m\u001b[1;33m\u001b[0m\u001b[0m\n\u001b[0m\u001b[0;32m      5\u001b[0m     \u001b[1;32mif\u001b[0m \u001b[1;33m(\u001b[0m\u001b[1;33m(\u001b[0m\u001b[0mmax\u001b[0m\u001b[1;33m(\u001b[0m\u001b[0mx\u001b[0m\u001b[1;33m)\u001b[0m \u001b[1;33m>\u001b[0m \u001b[1;36m0.4\u001b[0m\u001b[1;33m)\u001b[0m \u001b[1;33m|\u001b[0m \u001b[1;33m(\u001b[0m\u001b[0mmin\u001b[0m\u001b[1;33m(\u001b[0m\u001b[0mx\u001b[0m\u001b[1;33m)\u001b[0m \u001b[1;33m<\u001b[0m \u001b[1;33m-\u001b[0m\u001b[1;36m0.4\u001b[0m\u001b[1;33m)\u001b[0m\u001b[1;33m)\u001b[0m\u001b[1;33m:\u001b[0m\u001b[1;33m\u001b[0m\u001b[1;33m\u001b[0m\u001b[0m\n\u001b[0;32m      6\u001b[0m         \u001b[1;32mif\u001b[0m \u001b[0mabs\u001b[0m\u001b[1;33m(\u001b[0m\u001b[0mmax\u001b[0m\u001b[1;33m(\u001b[0m\u001b[0mx\u001b[0m\u001b[1;33m)\u001b[0m\u001b[1;33m)\u001b[0m \u001b[1;33m>\u001b[0m \u001b[0mabs\u001b[0m\u001b[1;33m(\u001b[0m\u001b[0mmin\u001b[0m\u001b[1;33m(\u001b[0m\u001b[0mx\u001b[0m\u001b[1;33m)\u001b[0m\u001b[1;33m)\u001b[0m\u001b[1;33m:\u001b[0m\u001b[1;33m\u001b[0m\u001b[1;33m\u001b[0m\u001b[0m\n",
      "\u001b[1;31mNameError\u001b[0m: name 'ExtractColumn' is not defined"
     ]
    }
   ],
   "source": [
    "PCA_vars = [0]*len(X)\n",
    "\n",
    "for i, feature in zip(range(len (X)),X):\n",
    "    x = ExtractColumn(pca.components_[0],i)\n",
    "    if ((max(x) > 0.4) | (min(x) < -0.4)):\n",
    "        if abs(max(x)) > abs(min(x)):\n",
    "            PCA_vars[i] = max(x)\n",
    "        else:\n",
    "            PCA_vars[i] = min(x)                 \n",
    "    else:\n",
    "        PCA_vars[i] = 0\n",
    "\n",
    "PCA_vars = pd.DataFrame(list(zip(X,PCA_vars)),columns=('Name','Max absolute contribution'),index=range(1,13,1))      \n",
    "PCA_vars = PCA_vars[(PCA_vars['Max absolute contribution']!=0)]\n",
    "PCA_vars"
   ]
  },
  {
   "cell_type": "code",
   "execution_count": 22,
   "metadata": {},
   "outputs": [
    {
     "data": {
      "text/html": [
       "<div>\n",
       "<style scoped>\n",
       "    .dataframe tbody tr th:only-of-type {\n",
       "        vertical-align: middle;\n",
       "    }\n",
       "\n",
       "    .dataframe tbody tr th {\n",
       "        vertical-align: top;\n",
       "    }\n",
       "\n",
       "    .dataframe thead th {\n",
       "        text-align: right;\n",
       "    }\n",
       "</style>\n",
       "<table border=\"1\" class=\"dataframe\">\n",
       "  <thead>\n",
       "    <tr style=\"text-align: right;\">\n",
       "      <th></th>\n",
       "      <th>Gender</th>\n",
       "      <th>Age</th>\n",
       "      <th>Driving_License</th>\n",
       "      <th>Region_Code</th>\n",
       "      <th>Previously_Insured</th>\n",
       "      <th>Vehicle_Damage</th>\n",
       "      <th>Annual_Premium</th>\n",
       "      <th>Policy_Sales_Channel</th>\n",
       "      <th>Vintage</th>\n",
       "      <th>Response</th>\n",
       "      <th>Vehicle_Age_less_than_1_Year</th>\n",
       "      <th>Vehicle_Age_greater_than_2_Years</th>\n",
       "    </tr>\n",
       "    <tr>\n",
       "      <th>id</th>\n",
       "      <th></th>\n",
       "      <th></th>\n",
       "      <th></th>\n",
       "      <th></th>\n",
       "      <th></th>\n",
       "      <th></th>\n",
       "      <th></th>\n",
       "      <th></th>\n",
       "      <th></th>\n",
       "      <th></th>\n",
       "      <th></th>\n",
       "      <th></th>\n",
       "    </tr>\n",
       "  </thead>\n",
       "  <tbody>\n",
       "    <tr>\n",
       "      <th>1</th>\n",
       "      <td>1.0</td>\n",
       "      <td>0.369231</td>\n",
       "      <td>1.0</td>\n",
       "      <td>0.538462</td>\n",
       "      <td>0.0</td>\n",
       "      <td>1.0</td>\n",
       "      <td>0.070366</td>\n",
       "      <td>0.154321</td>\n",
       "      <td>0.716263</td>\n",
       "      <td>1.0</td>\n",
       "      <td>0.0</td>\n",
       "      <td>1.0</td>\n",
       "    </tr>\n",
       "    <tr>\n",
       "      <th>2</th>\n",
       "      <td>1.0</td>\n",
       "      <td>0.861538</td>\n",
       "      <td>1.0</td>\n",
       "      <td>0.057692</td>\n",
       "      <td>0.0</td>\n",
       "      <td>0.0</td>\n",
       "      <td>0.057496</td>\n",
       "      <td>0.154321</td>\n",
       "      <td>0.598616</td>\n",
       "      <td>0.0</td>\n",
       "      <td>0.0</td>\n",
       "      <td>0.0</td>\n",
       "    </tr>\n",
       "    <tr>\n",
       "      <th>3</th>\n",
       "      <td>1.0</td>\n",
       "      <td>0.415385</td>\n",
       "      <td>1.0</td>\n",
       "      <td>0.538462</td>\n",
       "      <td>0.0</td>\n",
       "      <td>1.0</td>\n",
       "      <td>0.066347</td>\n",
       "      <td>0.154321</td>\n",
       "      <td>0.058824</td>\n",
       "      <td>1.0</td>\n",
       "      <td>0.0</td>\n",
       "      <td>1.0</td>\n",
       "    </tr>\n",
       "    <tr>\n",
       "      <th>4</th>\n",
       "      <td>1.0</td>\n",
       "      <td>0.015385</td>\n",
       "      <td>1.0</td>\n",
       "      <td>0.211538</td>\n",
       "      <td>1.0</td>\n",
       "      <td>0.0</td>\n",
       "      <td>0.048348</td>\n",
       "      <td>0.932099</td>\n",
       "      <td>0.667820</td>\n",
       "      <td>0.0</td>\n",
       "      <td>1.0</td>\n",
       "      <td>0.0</td>\n",
       "    </tr>\n",
       "    <tr>\n",
       "      <th>5</th>\n",
       "      <td>0.0</td>\n",
       "      <td>0.138462</td>\n",
       "      <td>1.0</td>\n",
       "      <td>0.788462</td>\n",
       "      <td>1.0</td>\n",
       "      <td>0.0</td>\n",
       "      <td>0.046259</td>\n",
       "      <td>0.932099</td>\n",
       "      <td>0.100346</td>\n",
       "      <td>0.0</td>\n",
       "      <td>1.0</td>\n",
       "      <td>0.0</td>\n",
       "    </tr>\n",
       "  </tbody>\n",
       "</table>\n",
       "</div>"
      ],
      "text/plain": [
       "    Gender       Age  Driving_License  Region_Code  Previously_Insured  \\\n",
       "id                                                                       \n",
       "1      1.0  0.369231              1.0     0.538462                 0.0   \n",
       "2      1.0  0.861538              1.0     0.057692                 0.0   \n",
       "3      1.0  0.415385              1.0     0.538462                 0.0   \n",
       "4      1.0  0.015385              1.0     0.211538                 1.0   \n",
       "5      0.0  0.138462              1.0     0.788462                 1.0   \n",
       "\n",
       "    Vehicle_Damage  Annual_Premium  Policy_Sales_Channel   Vintage  Response  \\\n",
       "id                                                                             \n",
       "1              1.0        0.070366              0.154321  0.716263       1.0   \n",
       "2              0.0        0.057496              0.154321  0.598616       0.0   \n",
       "3              1.0        0.066347              0.154321  0.058824       1.0   \n",
       "4              0.0        0.048348              0.932099  0.667820       0.0   \n",
       "5              0.0        0.046259              0.932099  0.100346       0.0   \n",
       "\n",
       "    Vehicle_Age_less_than_1_Year  Vehicle_Age_greater_than_2_Years  \n",
       "id                                                                  \n",
       "1                            0.0                               1.0  \n",
       "2                            0.0                               0.0  \n",
       "3                            0.0                               1.0  \n",
       "4                            1.0                               0.0  \n",
       "5                            1.0                               0.0  "
      ]
     },
     "execution_count": 22,
     "metadata": {},
     "output_type": "execute_result"
    }
   ],
   "source": [
    "####sampling\n",
    "df_scale.head()"
   ]
  },
  {
   "cell_type": "code",
   "execution_count": 23,
   "metadata": {},
   "outputs": [],
   "source": [
    "X_train_fs, X_test_fs, y_train_fs, y_test_fs = train_test_split(df_scale.drop(['Response'], axis = 1), df_scale['Response'], test_size = 0.2,random_state = 789)"
   ]
  },
  {
   "cell_type": "code",
   "execution_count": 24,
   "metadata": {},
   "outputs": [
    {
     "name": "stdout",
     "output_type": "stream",
     "text": [
      "Target variable disribution in train set: \n",
      "0.0    267521\n",
      "1.0     37366\n",
      "Name: Response, dtype: int64\n",
      "\n",
      "and in test set: \n",
      "0.0    66878\n",
      "1.0     9344\n",
      "Name: Response, dtype: int64\n"
     ]
    }
   ],
   "source": [
    "print(f\"Target variable disribution in train set: \\n{y_train_fs.value_counts()}\\n\\nand in test set: \\n{y_test_fs.value_counts()}\")"
   ]
  },
  {
   "cell_type": "code",
   "execution_count": 25,
   "metadata": {},
   "outputs": [
    {
     "data": {
      "text/plain": [
       "1.0    267521\n",
       "0.0    267521\n",
       "Name: Response, dtype: int64"
      ]
     },
     "execution_count": 25,
     "metadata": {},
     "output_type": "execute_result"
    }
   ],
   "source": [
    "#combining train features and target\n",
    "####Sampling\n",
    "df_fs = pd.concat([X_train_fs,y_train_fs],axis=1)\n",
    "\n",
    "from sklearn.utils import resample,shuffle\n",
    "df_majority = df_fs[df_fs['Response']==0]\n",
    "df_minority = df_fs[df_fs['Response']==1]\n",
    "df_minority_upsampled = resample(df_minority,replace=True,\n",
    "                                 n_samples=y_train_fs.value_counts()[0],random_state = 123)\n",
    "balanced_df = pd.concat([df_minority_upsampled,df_majority])\n",
    "balanced_df = shuffle(balanced_df)\n",
    "balanced_df.Response.value_counts()"
   ]
  },
  {
   "cell_type": "code",
   "execution_count": 26,
   "metadata": {},
   "outputs": [
    {
     "name": "stdout",
     "output_type": "stream",
     "text": [
      "<class 'pandas.core.frame.DataFrame'>\n",
      "Int64Index: 535042 entries, 273127 to 373841\n",
      "Data columns (total 12 columns):\n",
      " #   Column                            Non-Null Count   Dtype  \n",
      "---  ------                            --------------   -----  \n",
      " 0   Gender                            535042 non-null  float64\n",
      " 1   Age                               535042 non-null  float64\n",
      " 2   Driving_License                   535042 non-null  float64\n",
      " 3   Region_Code                       535042 non-null  float64\n",
      " 4   Previously_Insured                535042 non-null  float64\n",
      " 5   Vehicle_Damage                    535042 non-null  float64\n",
      " 6   Annual_Premium                    535042 non-null  float64\n",
      " 7   Policy_Sales_Channel              535042 non-null  float64\n",
      " 8   Vintage                           535042 non-null  float64\n",
      " 9   Vehicle_Age_less_than_1_Year      535042 non-null  float64\n",
      " 10  Vehicle_Age_greater_than_2_Years  535042 non-null  float64\n",
      " 11  Response                          535042 non-null  float64\n",
      "dtypes: float64(12)\n",
      "memory usage: 53.1 MB\n"
     ]
    }
   ],
   "source": [
    "balanced_df.info()"
   ]
  },
  {
   "cell_type": "code",
   "execution_count": 27,
   "metadata": {},
   "outputs": [
    {
     "name": "stdout",
     "output_type": "stream",
     "text": [
      "Number of rows: 535042, number of features: 12\n"
     ]
    }
   ],
   "source": [
    "print('Number of rows: '+ format(balanced_df.shape[0]) +', number of features: '+ format(balanced_df.shape[1]))"
   ]
  },
  {
   "cell_type": "code",
   "execution_count": 28,
   "metadata": {},
   "outputs": [
    {
     "data": {
      "text/html": [
       "<div>\n",
       "<style scoped>\n",
       "    .dataframe tbody tr th:only-of-type {\n",
       "        vertical-align: middle;\n",
       "    }\n",
       "\n",
       "    .dataframe tbody tr th {\n",
       "        vertical-align: top;\n",
       "    }\n",
       "\n",
       "    .dataframe thead th {\n",
       "        text-align: right;\n",
       "    }\n",
       "</style>\n",
       "<table border=\"1\" class=\"dataframe\">\n",
       "  <thead>\n",
       "    <tr style=\"text-align: right;\">\n",
       "      <th></th>\n",
       "      <th>Gender</th>\n",
       "      <th>Age</th>\n",
       "      <th>Driving_License</th>\n",
       "      <th>Region_Code</th>\n",
       "      <th>Previously_Insured</th>\n",
       "      <th>Vehicle_Damage</th>\n",
       "      <th>Annual_Premium</th>\n",
       "      <th>Policy_Sales_Channel</th>\n",
       "      <th>Vintage</th>\n",
       "      <th>Vehicle_Age_less_than_1_Year</th>\n",
       "      <th>Vehicle_Age_greater_than_2_Years</th>\n",
       "    </tr>\n",
       "    <tr>\n",
       "      <th>id</th>\n",
       "      <th></th>\n",
       "      <th></th>\n",
       "      <th></th>\n",
       "      <th></th>\n",
       "      <th></th>\n",
       "      <th></th>\n",
       "      <th></th>\n",
       "      <th></th>\n",
       "      <th></th>\n",
       "      <th></th>\n",
       "      <th></th>\n",
       "    </tr>\n",
       "  </thead>\n",
       "  <tbody>\n",
       "    <tr>\n",
       "      <th>273127</th>\n",
       "      <td>0.0</td>\n",
       "      <td>0.584615</td>\n",
       "      <td>1.0</td>\n",
       "      <td>0.711538</td>\n",
       "      <td>0.0</td>\n",
       "      <td>0.0</td>\n",
       "      <td>0.061304</td>\n",
       "      <td>0.956790</td>\n",
       "      <td>0.176471</td>\n",
       "      <td>0.0</td>\n",
       "      <td>0.0</td>\n",
       "    </tr>\n",
       "    <tr>\n",
       "      <th>101245</th>\n",
       "      <td>1.0</td>\n",
       "      <td>0.430769</td>\n",
       "      <td>1.0</td>\n",
       "      <td>0.153846</td>\n",
       "      <td>0.0</td>\n",
       "      <td>1.0</td>\n",
       "      <td>0.051708</td>\n",
       "      <td>0.759259</td>\n",
       "      <td>0.986159</td>\n",
       "      <td>0.0</td>\n",
       "      <td>0.0</td>\n",
       "    </tr>\n",
       "    <tr>\n",
       "      <th>24766</th>\n",
       "      <td>0.0</td>\n",
       "      <td>0.415385</td>\n",
       "      <td>1.0</td>\n",
       "      <td>0.538462</td>\n",
       "      <td>0.0</td>\n",
       "      <td>1.0</td>\n",
       "      <td>0.033149</td>\n",
       "      <td>1.000000</td>\n",
       "      <td>0.301038</td>\n",
       "      <td>0.0</td>\n",
       "      <td>0.0</td>\n",
       "    </tr>\n",
       "    <tr>\n",
       "      <th>53196</th>\n",
       "      <td>1.0</td>\n",
       "      <td>0.353846</td>\n",
       "      <td>1.0</td>\n",
       "      <td>0.980769</td>\n",
       "      <td>0.0</td>\n",
       "      <td>1.0</td>\n",
       "      <td>0.000000</td>\n",
       "      <td>0.962963</td>\n",
       "      <td>0.951557</td>\n",
       "      <td>0.0</td>\n",
       "      <td>0.0</td>\n",
       "    </tr>\n",
       "    <tr>\n",
       "      <th>351632</th>\n",
       "      <td>1.0</td>\n",
       "      <td>0.400000</td>\n",
       "      <td>1.0</td>\n",
       "      <td>0.538462</td>\n",
       "      <td>0.0</td>\n",
       "      <td>1.0</td>\n",
       "      <td>0.069495</td>\n",
       "      <td>0.209877</td>\n",
       "      <td>0.169550</td>\n",
       "      <td>0.0</td>\n",
       "      <td>0.0</td>\n",
       "    </tr>\n",
       "  </tbody>\n",
       "</table>\n",
       "</div>"
      ],
      "text/plain": [
       "        Gender       Age  Driving_License  Region_Code  Previously_Insured  \\\n",
       "id                                                                           \n",
       "273127     0.0  0.584615              1.0     0.711538                 0.0   \n",
       "101245     1.0  0.430769              1.0     0.153846                 0.0   \n",
       "24766      0.0  0.415385              1.0     0.538462                 0.0   \n",
       "53196      1.0  0.353846              1.0     0.980769                 0.0   \n",
       "351632     1.0  0.400000              1.0     0.538462                 0.0   \n",
       "\n",
       "        Vehicle_Damage  Annual_Premium  Policy_Sales_Channel   Vintage  \\\n",
       "id                                                                       \n",
       "273127             0.0        0.061304              0.956790  0.176471   \n",
       "101245             1.0        0.051708              0.759259  0.986159   \n",
       "24766              1.0        0.033149              1.000000  0.301038   \n",
       "53196              1.0        0.000000              0.962963  0.951557   \n",
       "351632             1.0        0.069495              0.209877  0.169550   \n",
       "\n",
       "        Vehicle_Age_less_than_1_Year  Vehicle_Age_greater_than_2_Years  \n",
       "id                                                                      \n",
       "273127                           0.0                               0.0  \n",
       "101245                           0.0                               0.0  \n",
       "24766                            0.0                               0.0  \n",
       "53196                            0.0                               0.0  \n",
       "351632                           0.0                               0.0  "
      ]
     },
     "execution_count": 28,
     "metadata": {},
     "output_type": "execute_result"
    }
   ],
   "source": [
    "X_train_sampling=balanced_df.drop(['Response'],axis=1)\n",
    "Y_train_sampling=balanced_df['Response']\n",
    "\n",
    "X_train_sampling.head()"
   ]
  },
  {
   "cell_type": "code",
   "execution_count": null,
   "metadata": {},
   "outputs": [],
   "source": []
  },
  {
   "cell_type": "code",
   "execution_count": 39,
   "metadata": {},
   "outputs": [],
   "source": [
    "error = []\n",
    "\n",
    "# Calculating error for K values between 1 and 40\n",
    "for i in range(1, 40):\n",
    "    knn = KNeighborsClassifier(n_neighbors=i)\n",
    "    knn.fit(X_train_sampling, Y_train_sampling)\n",
    "    pred_i = knn.predict(X_test_fs)\n",
    "    error.append(np.mean(pred_i != y_test_fs))"
   ]
  },
  {
   "cell_type": "code",
   "execution_count": 40,
   "metadata": {},
   "outputs": [
    {
     "data": {
      "text/plain": [
       "Text(0, 0.5, 'Mean Error')"
      ]
     },
     "execution_count": 40,
     "metadata": {},
     "output_type": "execute_result"
    },
    {
     "data": {
      "image/png": "[encoded data removed]",
      "text/plain": [
       "<Figure size 864x432 with 1 Axes>"
      ]
     },
     "metadata": {
      "needs_background": "light"
     },
     "output_type": "display_data"
    }
   ],
   "source": [
    "plt.figure(figsize=(12, 6))\n",
    "plt.plot(range(1, 40), error, color='red', linestyle='dashed', marker='o',\n",
    "         markerfacecolor='blue', markersize=10)\n",
    "plt.title('Error Rate K Value')\n",
    "plt.xlabel('K Value')\n",
    "plt.ylabel('Mean Error')"
   ]
  },
  {
   "cell_type": "code",
   "execution_count": null,
   "metadata": {},
   "outputs": [],
   "source": [
    "classifier=KNeighborsClassifier(n_neighbors=39)\n",
    "\n",
    "classifier.fit(X_train_sampling, Y_train_sampling)\n",
    "\n",
    "y_pred = classifier.predict(X_test_fs) "
   ]
  },
  {
   "cell_type": "code",
   "execution_count": 52,
   "metadata": {},
   "outputs": [
    {
     "name": "stdout",
     "output_type": "stream",
     "text": [
      "              precision    recall  f1-score   support\n",
      "\n",
      "         0.0       0.98      0.68      0.80     66878\n",
      "         1.0       0.28      0.88      0.42      9344\n",
      "\n",
      "    accuracy                           0.71     76222\n",
      "   macro avg       0.63      0.78      0.61     76222\n",
      "weighted avg       0.89      0.71      0.76     76222\n",
      "\n"
     ]
    }
   ],
   "source": [
    "print(classification_report(y_test_fs, y_pred))"
   ]
  },
  {
   "cell_type": "code",
   "execution_count": null,
   "metadata": {},
   "outputs": [],
   "source": []
  },
  {
   "cell_type": "code",
   "execution_count": 60,
   "metadata": {},
   "outputs": [],
   "source": [
    "###logistic after sampling\n",
    "logisticRegression = LogisticRegression(max_iter = 10000)\n",
    "GLM_fit_sampling=logisticRegression.fit(X_train_sampling, Y_train_sampling)\n",
    "GLM_clas = pd.DataFrame(GLM_fit_sampling.predict(X_test_fs))\n",
    "GLM_probability = pd.DataFrame(GLM_fit_sampling.predict_proba(X_test_fs))\n",
    "\n",
    "predictions = logisticRegression.predict(X_test_fs)"
   ]
  },
  {
   "cell_type": "code",
   "execution_count": 61,
   "metadata": {},
   "outputs": [
    {
     "name": "stdout",
     "output_type": "stream",
     "text": [
      "Accuracy score is 64.0\n",
      "ROC-AUC score is 78.0\n"
     ]
    }
   ],
   "source": [
    "    print(f\"Accuracy score is {100*accuracy_score(y_test_fs,predictions).round(2)}\n",
    "    \\nROC-AUC score is {100*roc_auc_score(y_test_fs,predictions).round(2)}\")"
   ]
  },
  {
   "cell_type": "code",
   "execution_count": null,
   "metadata": {},
   "outputs": [],
   "source": []
  },
  {
   "cell_type": "code",
   "execution_count": 63,
   "metadata": {},
   "outputs": [
    {
     "name": "stdout",
     "output_type": "stream",
     "text": [
      "              precision    recall  f1-score   support\n",
      "\n",
      "         0.0       0.99      0.59      0.74     66878\n",
      "         1.0       0.25      0.97      0.40      9344\n",
      "\n",
      "    accuracy                           0.64     76222\n",
      "   macro avg       0.62      0.78      0.57     76222\n",
      "weighted avg       0.90      0.64      0.70     76222\n",
      "\n"
     ]
    }
   ],
   "source": [
    "print(classification_report(y_test_fs,predictions ))"
   ]
  },
  {
   "cell_type": "code",
   "execution_count": null,
   "metadata": {},
   "outputs": [],
   "source": []
  },
  {
   "cell_type": "code",
   "execution_count": 38,
   "metadata": {},
   "outputs": [
    {
     "data": {
      "image/png": "[encoded data removed]",
      "text/plain": [
       "<Figure size 432x288 with 1 Axes>"
      ]
     },
     "metadata": {},
     "output_type": "display_data"
    },
    {
     "name": "stdout",
     "output_type": "stream",
     "text": [
      "Area under curve (AUC):  0.83693\n"
     ]
    }
   ],
   "source": [
    "fpr, tpr, _ = roc_curve(y_test, GLM_fit.predict_proba(X_test)[:,1])\n",
    "\n",
    "plt.title('Logistic regression ROC curve')\n",
    "plt.xlabel('FPR (Precision)')\n",
    "plt.ylabel('TPR (Recall)')\n",
    "\n",
    "plt.plot(fpr,tpr)\n",
    "plt.plot((0,1), ls='dashed',color='black')\n",
    "plt.show()\n",
    "print ('Area under curve (AUC): ' ,format(round(auc(fpr,tpr),5)))"
   ]
  },
  {
   "cell_type": "code",
   "execution_count": 62,
   "metadata": {},
   "outputs": [
    {
     "name": "stdout",
     "output_type": "stream",
     "text": [
      "Accuracy score is 85.0\n",
      "ROC-AUC score is 60.0\n"
     ]
    }
   ],
   "source": [
    "###random Forest after sampling\n",
    "rfc = RandomForestClassifier(n_estimators=100)\n",
    "rfc_fit=rfc.fit(X_train_sampling, Y_train_sampling)\n",
    "rfc_pred = rfc.predict(X_test_fs)\n",
    "print(f\"Accuracy score is {100*accuracy_score(y_test_fs,rfc_pred).round(2)}\n",
    "\\nROC-AUC score is {100*roc_auc_score(y_test_fs,rfc_pred).round(2)}\")"
   ]
  },
  {
   "cell_type": "code",
   "execution_count": 64,
   "metadata": {},
   "outputs": [
    {
     "name": "stdout",
     "output_type": "stream",
     "text": [
      "AUC score after taking probabilities predictions and not classes predictions is\n"
     ]
    },
    {
     "data": {
      "text/plain": [
       "0.8337315585983699"
      ]
     },
     "execution_count": 64,
     "metadata": {},
     "output_type": "execute_result"
    }
   ],
   "source": [
    "rfc_preds = rfc.predict_proba(X_test_fs)\n",
    "print(\"AUC score after taking probabilities predictions and not classes predictions is\")\n",
    "roc_auc_score(y_test_fs, rfc_preds[:,1], average = 'weighted')"
   ]
  },
  {
   "cell_type": "code",
   "execution_count": 65,
   "metadata": {},
   "outputs": [
    {
     "name": "stdout",
     "output_type": "stream",
     "text": [
      "              precision    recall  f1-score   support\n",
      "\n",
      "         0.0       0.90      0.93      0.91     66878\n",
      "         1.0       0.34      0.27      0.30      9344\n",
      "\n",
      "    accuracy                           0.85     76222\n",
      "   macro avg       0.62      0.60      0.61     76222\n",
      "weighted avg       0.83      0.85      0.84     76222\n",
      "\n"
     ]
    }
   ],
   "source": [
    "print(classification_report(y_test_fs,rfc_pred ))"
   ]
  },
  {
   "cell_type": "code",
   "execution_count": 49,
   "metadata": {},
   "outputs": [
    {
     "data": {
      "image/png": "[encoded data removed]",
      "text/plain": [
       "<Figure size 432x288 with 1 Axes>"
      ]
     },
     "metadata": {},
     "output_type": "display_data"
    },
    {
     "name": "stdout",
     "output_type": "stream",
     "text": [
      "Area under curve (AUC):  0.83595\n"
     ]
    }
   ],
   "source": [
    "fpr, tpr, _ = roc_curve(y_test, rfc_fit.predict_proba(X_test)[:,1])\n",
    "\n",
    "plt.title('Random forest ROC curve')\n",
    "plt.xlabel('FPR (Precision)')\n",
    "plt.ylabel('TPR (Recall)')\n",
    "\n",
    "plt.plot(fpr,tpr)\n",
    "plt.plot((0,1), ls='dashed',color='black')\n",
    "plt.show()\n",
    "print ('Area under curve (AUC): ' ,format(round(auc(fpr,tpr),5)))"
   ]
  },
  {
   "cell_type": "code",
   "execution_count": 46,
   "metadata": {},
   "outputs": [
    {
     "name": "stdout",
     "output_type": "stream",
     "text": [
      "Collecting xgboost\n",
      "  Downloading xgboost-1.2.1-py3-none-win_amd64.whl (86.5 MB)\n",
      "Requirement already satisfied: numpy in c:\\users\\abhhi\\anaconda3\\lib\\site-packages (from xgboost) (1.18.1)\n",
      "Requirement already satisfied: scipy in c:\\users\\abhhi\\anaconda3\\lib\\site-packages (from xgboost) (1.4.1)\n",
      "Installing collected packages: xgboost\n",
      "Successfully installed xgboost-1.2.1\n",
      "Note: you may need to restart the kernel to use updated packages.\n"
     ]
    },
    {
     "name": "stderr",
     "output_type": "stream",
     "text": [
      "WARNING: Retrying (Retry(total=4, connect=None, read=None, redirect=None, status=None)) after connection broken by 'ProtocolError('Connection aborted.', ConnectionResetError(10054, 'An existing connection was forcibly closed by the remote host', None, 10054, None))': /simple/xgboost/\n"
     ]
    }
   ],
   "source": [
    "pip install xgboost"
   ]
  },
  {
   "cell_type": "code",
   "execution_count": 66,
   "metadata": {},
   "outputs": [
    {
     "name": "stdout",
     "output_type": "stream",
     "text": [
      "Accuracy score is 71.0\n",
      "ROC-AUC score is 80.0\n"
     ]
    }
   ],
   "source": [
    "##XGB classisfier\n",
    "xgb = XGBClassifier()\n",
    "xgb_fit=xgb.fit(X_train_sampling, Y_train_sampling)\n",
    "xgb_pred = xgb.predict(X_test_fs)\n",
    "print(f\"Accuracy score is {100*accuracy_score(y_test_fs,xgb_pred).round(2)}\n",
    "\\nROC-AUC score is {100*roc_auc_score(y_test_fs,xgb_pred).round(2)}\")"
   ]
  },
  {
   "cell_type": "code",
   "execution_count": 67,
   "metadata": {},
   "outputs": [
    {
     "data": {
      "text/plain": [
       "0.8551972700520515"
      ]
     },
     "execution_count": 67,
     "metadata": {},
     "output_type": "execute_result"
    }
   ],
   "source": [
    "xgb_preds = xgb.predict_proba(X_test_fs)\n",
    "roc_auc_score(y_test_fs, xgb_preds[:,1], average = 'weighted')"
   ]
  },
  {
   "cell_type": "code",
   "execution_count": 68,
   "metadata": {},
   "outputs": [
    {
     "name": "stdout",
     "output_type": "stream",
     "text": [
      "              precision    recall  f1-score   support\n",
      "\n",
      "         0.0       0.98      0.69      0.81     66878\n",
      "         1.0       0.29      0.91      0.44      9344\n",
      "\n",
      "    accuracy                           0.71     76222\n",
      "   macro avg       0.64      0.80      0.62     76222\n",
      "weighted avg       0.90      0.71      0.76     76222\n",
      "\n"
     ]
    }
   ],
   "source": [
    "print(classification_report(y_test_fs,xgb_pred ))"
   ]
  },
  {
   "cell_type": "code",
   "execution_count": 69,
   "metadata": {},
   "outputs": [
    {
     "data": {
      "image/png": "[encoded data removed]",
      "text/plain": [
       "<Figure size 432x288 with 1 Axes>"
      ]
     },
     "metadata": {
      "needs_background": "light"
     },
     "output_type": "display_data"
    },
    {
     "name": "stdout",
     "output_type": "stream",
     "text": [
      "Area under curve (AUC):  0.8552\n"
     ]
    }
   ],
   "source": [
    "fpr, tpr, _ = roc_curve(y_test_fs, xgb_fit.predict_proba(X_test_fs)[:,1])\n",
    "\n",
    "plt.title('XGB Boost ROC curve')\n",
    "plt.xlabel('FPR (Precision)')\n",
    "plt.ylabel('TPR (Recall)')\n",
    "\n",
    "plt.plot(fpr,tpr)\n",
    "plt.plot((0,1), ls='dashed',color='black')\n",
    "plt.show()\n",
    "print ('Area under curve (AUC): ' ,format(round(auc(fpr,tpr),5)))"
   ]
  },
  {
   "cell_type": "code",
   "execution_count": 80,
   "metadata": {},
   "outputs": [
    {
     "name": "stdout",
     "output_type": "stream",
     "text": [
      "Accuracy score is 83.0\n",
      "ROC-AUC score is 60.0\n"
     ]
    }
   ],
   "source": [
    "####decision treee after sampling\n",
    "model= tree.DecisionTreeClassifier(random_state=456)\n",
    "\n",
    "model.fit(X_train_sampling, Y_train_sampling)\n",
    "\n",
    "Prediction_for_DT = model.predict(X_test_fs)\n",
    "\n",
    "print(f\"Accuracy score is {100*accuracy_score(y_test_fs,Prediction_for_DT).round(2)}\\nROC-AUC score is {100*roc_auc_score(y_test_fs,Prediction_for_DT).round(2)}\")\n"
   ]
  },
  {
   "cell_type": "code",
   "execution_count": 78,
   "metadata": {},
   "outputs": [
    {
     "name": "stdout",
     "output_type": "stream",
     "text": [
      "              precision    recall  f1-score   support\n",
      "\n",
      "         0.0       0.90      0.91      0.90     66878\n",
      "         1.0       0.30      0.29      0.29      9344\n",
      "\n",
      "    accuracy                           0.83     76222\n",
      "   macro avg       0.60      0.60      0.60     76222\n",
      "weighted avg       0.83      0.83      0.83     76222\n",
      "\n"
     ]
    }
   ],
   "source": [
    "print(classification_report(y_test_fs,Prediction_for_DT ))"
   ]
  },
  {
   "cell_type": "code",
   "execution_count": 81,
   "metadata": {},
   "outputs": [
    {
     "data": {
      "image/png": "[encoded data removed]",
      "text/plain": [
       "<Figure size 432x288 with 1 Axes>"
      ]
     },
     "metadata": {
      "needs_background": "light"
     },
     "output_type": "display_data"
    },
    {
     "name": "stdout",
     "output_type": "stream",
     "text": [
      "Area under curve (AUC):  0.59744\n"
     ]
    }
   ],
   "source": [
    "\n",
    "fpr, tpr, _ = roc_curve(y_test_fs, model.predict_proba(X_test_fs)[:,1])\n",
    "\n",
    "plt.title('Decision Tree ROC curve')\n",
    "plt.xlabel('FPR (Precision)')\n",
    "plt.ylabel('TPR (Recall)')\n",
    "\n",
    "plt.plot(fpr,tpr)\n",
    "plt.plot((0,1), ls='dashed',color='black')\n",
    "plt.show()\n",
    "print ('Area under curve (AUC): ' ,format(round(auc(fpr,tpr),5)))"
   ]
  },
  {
   "cell_type": "code",
   "execution_count": 29,
   "metadata": {},
   "outputs": [
    {
     "data": {
      "text/html": [
       "<div>\n",
       "<style scoped>\n",
       "    .dataframe tbody tr th:only-of-type {\n",
       "        vertical-align: middle;\n",
       "    }\n",
       "\n",
       "    .dataframe tbody tr th {\n",
       "        vertical-align: top;\n",
       "    }\n",
       "\n",
       "    .dataframe thead th {\n",
       "        text-align: right;\n",
       "    }\n",
       "</style>\n",
       "<table border=\"1\" class=\"dataframe\">\n",
       "  <thead>\n",
       "    <tr style=\"text-align: right;\">\n",
       "      <th></th>\n",
       "      <th>Gender</th>\n",
       "      <th>Age</th>\n",
       "      <th>Driving_License</th>\n",
       "      <th>Previously_Insured</th>\n",
       "      <th>Vehicle_Damage</th>\n",
       "      <th>Policy_Sales_Channel</th>\n",
       "      <th>Vehicle_Age_less_than_1_Year</th>\n",
       "      <th>Vehicle_Age_greater_than_2_Years</th>\n",
       "    </tr>\n",
       "    <tr>\n",
       "      <th>id</th>\n",
       "      <th></th>\n",
       "      <th></th>\n",
       "      <th></th>\n",
       "      <th></th>\n",
       "      <th></th>\n",
       "      <th></th>\n",
       "      <th></th>\n",
       "      <th></th>\n",
       "    </tr>\n",
       "  </thead>\n",
       "  <tbody>\n",
       "    <tr>\n",
       "      <th>273127</th>\n",
       "      <td>0.0</td>\n",
       "      <td>0.584615</td>\n",
       "      <td>1.0</td>\n",
       "      <td>0.0</td>\n",
       "      <td>0.0</td>\n",
       "      <td>0.956790</td>\n",
       "      <td>0.0</td>\n",
       "      <td>0.0</td>\n",
       "    </tr>\n",
       "    <tr>\n",
       "      <th>101245</th>\n",
       "      <td>1.0</td>\n",
       "      <td>0.430769</td>\n",
       "      <td>1.0</td>\n",
       "      <td>0.0</td>\n",
       "      <td>1.0</td>\n",
       "      <td>0.759259</td>\n",
       "      <td>0.0</td>\n",
       "      <td>0.0</td>\n",
       "    </tr>\n",
       "    <tr>\n",
       "      <th>24766</th>\n",
       "      <td>0.0</td>\n",
       "      <td>0.415385</td>\n",
       "      <td>1.0</td>\n",
       "      <td>0.0</td>\n",
       "      <td>1.0</td>\n",
       "      <td>1.000000</td>\n",
       "      <td>0.0</td>\n",
       "      <td>0.0</td>\n",
       "    </tr>\n",
       "    <tr>\n",
       "      <th>53196</th>\n",
       "      <td>1.0</td>\n",
       "      <td>0.353846</td>\n",
       "      <td>1.0</td>\n",
       "      <td>0.0</td>\n",
       "      <td>1.0</td>\n",
       "      <td>0.962963</td>\n",
       "      <td>0.0</td>\n",
       "      <td>0.0</td>\n",
       "    </tr>\n",
       "    <tr>\n",
       "      <th>351632</th>\n",
       "      <td>1.0</td>\n",
       "      <td>0.400000</td>\n",
       "      <td>1.0</td>\n",
       "      <td>0.0</td>\n",
       "      <td>1.0</td>\n",
       "      <td>0.209877</td>\n",
       "      <td>0.0</td>\n",
       "      <td>0.0</td>\n",
       "    </tr>\n",
       "  </tbody>\n",
       "</table>\n",
       "</div>"
      ],
      "text/plain": [
       "        Gender       Age  Driving_License  Previously_Insured  Vehicle_Damage  \\\n",
       "id                                                                              \n",
       "273127     0.0  0.584615              1.0                 0.0             0.0   \n",
       "101245     1.0  0.430769              1.0                 0.0             1.0   \n",
       "24766      0.0  0.415385              1.0                 0.0             1.0   \n",
       "53196      1.0  0.353846              1.0                 0.0             1.0   \n",
       "351632     1.0  0.400000              1.0                 0.0             1.0   \n",
       "\n",
       "        Policy_Sales_Channel  Vehicle_Age_less_than_1_Year  \\\n",
       "id                                                           \n",
       "273127              0.956790                           0.0   \n",
       "101245              0.759259                           0.0   \n",
       "24766               1.000000                           0.0   \n",
       "53196               0.962963                           0.0   \n",
       "351632              0.209877                           0.0   \n",
       "\n",
       "        Vehicle_Age_greater_than_2_Years  \n",
       "id                                        \n",
       "273127                               0.0  \n",
       "101245                               0.0  \n",
       "24766                                0.0  \n",
       "53196                                0.0  \n",
       "351632                               0.0  "
      ]
     },
     "execution_count": 29,
     "metadata": {},
     "output_type": "execute_result"
    }
   ],
   "source": [
    "#####Feature selection\n",
    "#########\n",
    "\n",
    "X_train_fs1=X_train_sampling.drop(['Region_Code','Annual_Premium','Vintage'],axis=1)\n",
    "X_test_fs1=X_test_fs.drop(['Region_Code','Annual_Premium','Vintage'],axis=1)\n",
    "\n",
    "X_train_fs1.head()\n",
    "\n"
   ]
  },
  {
   "cell_type": "code",
   "execution_count": 53,
   "metadata": {},
   "outputs": [],
   "source": [
    "###logistic after sampling and fs\n",
    "logisticRegression = LogisticRegression(max_iter = 10000)\n",
    "GLM_fit_sampling=logisticRegression.fit(X_train_fs1, Y_train_sampling)\n",
    "GLM_clas = pd.DataFrame(GLM_fit_sampling.predict(X_test_fs1))\n",
    "GLM_probability = pd.DataFrame(GLM_fit_sampling.predict_proba(X_test_fs1))\n",
    "\n",
    "predictions = logisticRegression.predict(X_test_fs1)"
   ]
  },
  {
   "cell_type": "code",
   "execution_count": 57,
   "metadata": {},
   "outputs": [
    {
     "ename": "SyntaxError",
     "evalue": "invalid syntax (<ipython-input-57-fd8332ed5488>, line 1)",
     "output_type": "error",
     "traceback": [
      "\u001b[1;36m  File \u001b[1;32m\"<ipython-input-57-fd8332ed5488>\"\u001b[1;36m, line \u001b[1;32m1\u001b[0m\n\u001b[1;33m    print(f\"Accuracy score is {100*accuracy_score(y_test_fs,predictions).round(2)}\\nROC-AUC score is {100*roc_auc_score(y_test_fs,predictions).round(2)}\")}\u001b[0m\n\u001b[1;37m                                                                                                                                                          ^\u001b[0m\n\u001b[1;31mSyntaxError\u001b[0m\u001b[1;31m:\u001b[0m invalid syntax\n"
     ]
    }
   ],
   "source": [
    "print(f\"Accuracy score is {100*accuracy_score(y_test_fs,predictions).round(2)}\\nROC-AUC score is {100*roc_auc_score(y_test_fs,predictions).round(2)}\")}"
   ]
  },
  {
   "cell_type": "code",
   "execution_count": 58,
   "metadata": {},
   "outputs": [
    {
     "name": "stdout",
     "output_type": "stream",
     "text": [
      "              precision    recall  f1-score   support\n",
      "\n",
      "         0.0       0.99      0.59      0.74     66878\n",
      "         1.0       0.25      0.97      0.40      9344\n",
      "\n",
      "    accuracy                           0.64     76222\n",
      "   macro avg       0.62      0.78      0.57     76222\n",
      "weighted avg       0.90      0.64      0.70     76222\n",
      "\n"
     ]
    }
   ],
   "source": [
    "print(classification_report(y_test_fs,predictions ))"
   ]
  },
  {
   "cell_type": "code",
   "execution_count": 63,
   "metadata": {},
   "outputs": [
    {
     "data": {
      "text/html": [
       "<div>\n",
       "<style scoped>\n",
       "    .dataframe tbody tr th:only-of-type {\n",
       "        vertical-align: middle;\n",
       "    }\n",
       "\n",
       "    .dataframe tbody tr th {\n",
       "        vertical-align: top;\n",
       "    }\n",
       "\n",
       "    .dataframe thead th {\n",
       "        text-align: right;\n",
       "    }\n",
       "</style>\n",
       "<table border=\"1\" class=\"dataframe\">\n",
       "  <thead>\n",
       "    <tr style=\"text-align: right;\">\n",
       "      <th></th>\n",
       "      <th>Gender</th>\n",
       "      <th>Age</th>\n",
       "      <th>Driving_License</th>\n",
       "      <th>Region_Code</th>\n",
       "      <th>Previously_Insured</th>\n",
       "      <th>Vehicle_Damage</th>\n",
       "      <th>Annual_Premium</th>\n",
       "      <th>Policy_Sales_Channel</th>\n",
       "      <th>Vintage</th>\n",
       "      <th>Vehicle_Age_less_than_1_Year</th>\n",
       "      <th>Vehicle_Age_greater_than_2_Years</th>\n",
       "    </tr>\n",
       "    <tr>\n",
       "      <th>id</th>\n",
       "      <th></th>\n",
       "      <th></th>\n",
       "      <th></th>\n",
       "      <th></th>\n",
       "      <th></th>\n",
       "      <th></th>\n",
       "      <th></th>\n",
       "      <th></th>\n",
       "      <th></th>\n",
       "      <th></th>\n",
       "      <th></th>\n",
       "    </tr>\n",
       "  </thead>\n",
       "  <tbody>\n",
       "    <tr>\n",
       "      <th>333385</th>\n",
       "      <td>1.0</td>\n",
       "      <td>0.707692</td>\n",
       "      <td>1.0</td>\n",
       "      <td>0.884615</td>\n",
       "      <td>0.0</td>\n",
       "      <td>1.0</td>\n",
       "      <td>0.044520</td>\n",
       "      <td>0.154321</td>\n",
       "      <td>0.411765</td>\n",
       "      <td>0.0</td>\n",
       "      <td>1.0</td>\n",
       "    </tr>\n",
       "    <tr>\n",
       "      <th>44176</th>\n",
       "      <td>0.0</td>\n",
       "      <td>0.323077</td>\n",
       "      <td>1.0</td>\n",
       "      <td>0.500000</td>\n",
       "      <td>1.0</td>\n",
       "      <td>0.0</td>\n",
       "      <td>0.049254</td>\n",
       "      <td>0.129630</td>\n",
       "      <td>0.031142</td>\n",
       "      <td>0.0</td>\n",
       "      <td>0.0</td>\n",
       "    </tr>\n",
       "    <tr>\n",
       "      <th>308376</th>\n",
       "      <td>0.0</td>\n",
       "      <td>0.692308</td>\n",
       "      <td>1.0</td>\n",
       "      <td>0.538462</td>\n",
       "      <td>1.0</td>\n",
       "      <td>0.0</td>\n",
       "      <td>0.000000</td>\n",
       "      <td>0.759259</td>\n",
       "      <td>0.024221</td>\n",
       "      <td>0.0</td>\n",
       "      <td>0.0</td>\n",
       "    </tr>\n",
       "    <tr>\n",
       "      <th>136926</th>\n",
       "      <td>0.0</td>\n",
       "      <td>0.092308</td>\n",
       "      <td>1.0</td>\n",
       "      <td>0.038462</td>\n",
       "      <td>1.0</td>\n",
       "      <td>0.0</td>\n",
       "      <td>0.067160</td>\n",
       "      <td>0.932099</td>\n",
       "      <td>0.705882</td>\n",
       "      <td>1.0</td>\n",
       "      <td>0.0</td>\n",
       "    </tr>\n",
       "    <tr>\n",
       "      <th>268328</th>\n",
       "      <td>1.0</td>\n",
       "      <td>0.200000</td>\n",
       "      <td>1.0</td>\n",
       "      <td>0.961538</td>\n",
       "      <td>0.0</td>\n",
       "      <td>1.0</td>\n",
       "      <td>0.068014</td>\n",
       "      <td>0.179012</td>\n",
       "      <td>0.889273</td>\n",
       "      <td>0.0</td>\n",
       "      <td>0.0</td>\n",
       "    </tr>\n",
       "  </tbody>\n",
       "</table>\n",
       "</div>"
      ],
      "text/plain": [
       "        Gender       Age  Driving_License  Region_Code  Previously_Insured  \\\n",
       "id                                                                           \n",
       "333385     1.0  0.707692              1.0     0.884615                 0.0   \n",
       "44176      0.0  0.323077              1.0     0.500000                 1.0   \n",
       "308376     0.0  0.692308              1.0     0.538462                 1.0   \n",
       "136926     0.0  0.092308              1.0     0.038462                 1.0   \n",
       "268328     1.0  0.200000              1.0     0.961538                 0.0   \n",
       "\n",
       "        Vehicle_Damage  Annual_Premium  Policy_Sales_Channel   Vintage  \\\n",
       "id                                                                       \n",
       "333385             1.0        0.044520              0.154321  0.411765   \n",
       "44176              0.0        0.049254              0.129630  0.031142   \n",
       "308376             0.0        0.000000              0.759259  0.024221   \n",
       "136926             0.0        0.067160              0.932099  0.705882   \n",
       "268328             1.0        0.068014              0.179012  0.889273   \n",
       "\n",
       "        Vehicle_Age_less_than_1_Year  Vehicle_Age_greater_than_2_Years  \n",
       "id                                                                      \n",
       "333385                           0.0                               1.0  \n",
       "44176                            0.0                               0.0  \n",
       "308376                           0.0                               0.0  \n",
       "136926                           1.0                               0.0  \n",
       "268328                           0.0                               0.0  "
      ]
     },
     "execution_count": 63,
     "metadata": {},
     "output_type": "execute_result"
    }
   ],
   "source": [
    "X_test_fs.head()"
   ]
  },
  {
   "cell_type": "code",
   "execution_count": 64,
   "metadata": {},
   "outputs": [
    {
     "data": {
      "image/png": "[encoded data removed]",
      "text/plain": [
       "<Figure size 432x288 with 1 Axes>"
      ]
     },
     "metadata": {
      "needs_background": "light"
     },
     "output_type": "display_data"
    },
    {
     "name": "stdout",
     "output_type": "stream",
     "text": [
      "Area under curve (AUC):  0.83612\n"
     ]
    }
   ],
   "source": [
    "fpr, tpr, _ = roc_curve(y_test_fs, GLM_fit_sampling.predict_proba(X_test_fs1)[:,1])\n",
    "\n",
    "plt.title('Logistic regression ROC curve')\n",
    "plt.xlabel('FPR (Precision)')\n",
    "plt.ylabel('TPR (Recall)')\n",
    "\n",
    "plt.plot(fpr,tpr)\n",
    "plt.plot((0,1), ls='dashed',color='black')\n",
    "plt.show()\n",
    "print ('Area under curve (AUC): ' ,format(round(auc(fpr,tpr),5)))"
   ]
  },
  {
   "cell_type": "code",
   "execution_count": 67,
   "metadata": {},
   "outputs": [
    {
     "name": "stdout",
     "output_type": "stream",
     "text": [
      "Accuracy score is 71.0\n",
      "ROC-AUC score is 80.0\n"
     ]
    }
   ],
   "source": [
    "from xgboost import XGBClassifier\n",
    "xgb = XGBClassifier()\n",
    "xgb_fit=xgb.fit(X_train_fs1, Y_train_sampling)\n",
    "xgb_pred = xgb.predict(X_test_fs1)\n",
    "print(f\"Accuracy score is {100*accuracy_score(y_test_fs,xgb_pred).round(2)}\\nROC-AUC score is {100*roc_auc_score(y_test_fs,xgb_pred).round(2)}\")"
   ]
  },
  {
   "cell_type": "code",
   "execution_count": 68,
   "metadata": {},
   "outputs": [
    {
     "name": "stdout",
     "output_type": "stream",
     "text": [
      "              precision    recall  f1-score   support\n",
      "\n",
      "         0.0       0.98      0.68      0.80     66878\n",
      "         1.0       0.28      0.91      0.43      9344\n",
      "\n",
      "    accuracy                           0.71     76222\n",
      "   macro avg       0.63      0.80      0.62     76222\n",
      "weighted avg       0.90      0.71      0.76     76222\n",
      "\n"
     ]
    }
   ],
   "source": [
    "print(classification_report(y_test_fs,xgb_pred ))"
   ]
  },
  {
   "cell_type": "code",
   "execution_count": 69,
   "metadata": {},
   "outputs": [
    {
     "data": {
      "image/png": "[encoded data removed]",
      "text/plain": [
       "<Figure size 432x288 with 1 Axes>"
      ]
     },
     "metadata": {
      "needs_background": "light"
     },
     "output_type": "display_data"
    },
    {
     "name": "stdout",
     "output_type": "stream",
     "text": [
      "Area under curve (AUC):  0.85434\n"
     ]
    }
   ],
   "source": [
    "fpr, tpr, _ = roc_curve(y_test_fs, xgb_fit.predict_proba(X_test_fs1)[:,1])\n",
    "\n",
    "plt.title('XGB Boost ROC curve')\n",
    "plt.xlabel('FPR (Precision)')\n",
    "plt.ylabel('TPR (Recall)')\n",
    "\n",
    "plt.plot(fpr,tpr)\n",
    "plt.plot((0,1), ls='dashed',color='black')\n",
    "plt.show()\n",
    "print ('Area under curve (AUC): ' ,format(round(auc(fpr,tpr),5)))"
   ]
  },
  {
   "cell_type": "code",
   "execution_count": 71,
   "metadata": {},
   "outputs": [
    {
     "name": "stdout",
     "output_type": "stream",
     "text": [
      "Accuracy score is 72.0\n",
      "ROC-AUC score is 79.0\n"
     ]
    }
   ],
   "source": [
    "from sklearn.ensemble import RandomForestClassifier\n",
    "rfc = RandomForestClassifier(n_estimators=100)\n",
    "rfc_fit=rfc.fit(X_train_fs1, Y_train_sampling)\n",
    "rfc_pred = rfc.predict(X_test_fs1)\n",
    "print(f\"Accuracy score is {100*accuracy_score(y_test_fs,rfc_pred).round(2)}\\nROC-AUC score is {100*roc_auc_score(y_test_fs,rfc_pred).round(2)}\")"
   ]
  },
  {
   "cell_type": "code",
   "execution_count": 77,
   "metadata": {},
   "outputs": [
    {
     "name": "stdout",
     "output_type": "stream",
     "text": [
      "              precision    recall  f1-score   support\n",
      "\n",
      "         0.0       0.98      0.69      0.81     66878\n",
      "         1.0       0.29      0.88      0.43      9344\n",
      "\n",
      "    accuracy                           0.72     76222\n",
      "   macro avg       0.63      0.79      0.62     76222\n",
      "weighted avg       0.89      0.72      0.76     76222\n",
      "\n"
     ]
    }
   ],
   "source": [
    "print(classification_report(y_test_fs,rfc_pred ))"
   ]
  },
  {
   "cell_type": "code",
   "execution_count": 72,
   "metadata": {},
   "outputs": [
    {
     "data": {
      "image/png": "[encoded data removed]",
      "text/plain": [
       "<Figure size 432x288 with 1 Axes>"
      ]
     },
     "metadata": {
      "needs_background": "light"
     },
     "output_type": "display_data"
    },
    {
     "name": "stdout",
     "output_type": "stream",
     "text": [
      "Area under curve (AUC):  0.84028\n"
     ]
    }
   ],
   "source": [
    "fpr, tpr, _ = roc_curve(y_test_fs, rfc_fit.predict_proba(X_test_fs1)[:,1])\n",
    "\n",
    "plt.title('Random forest ROC curve')\n",
    "plt.xlabel('FPR (Precision)')\n",
    "plt.ylabel('TPR (Recall)')\n",
    "\n",
    "plt.plot(fpr,tpr)\n",
    "plt.plot((0,1), ls='dashed',color='black')\n",
    "plt.show()\n",
    "print ('Area under curve (AUC): ' ,format(round(auc(fpr,tpr),5)))"
   ]
  },
  {
   "cell_type": "code",
   "execution_count": 83,
   "metadata": {},
   "outputs": [
    {
     "name": "stdout",
     "output_type": "stream",
     "text": [
      "Accuracy score is 72.0\n",
      "ROC-AUC score is 79.0\n"
     ]
    }
   ],
   "source": [
    "##decision tree after fs\n",
    "\n",
    "model= tree.DecisionTreeClassifier(random_state=456)\n",
    "\n",
    "model.fit(X_train_fs1, Y_train_sampling)\n",
    "\n",
    "Prediction_for_DT = model.predict(X_test_fs1)\n",
    "print(f\"Accuracy score is {100*accuracy_score(y_test_fs,Prediction_for_DT).round(2)}\\nROC-AUC score is {100*roc_auc_score(y_test_fs,Prediction_for_DT).round(2)}\")\n"
   ]
  },
  {
   "cell_type": "code",
   "execution_count": 84,
   "metadata": {},
   "outputs": [
    {
     "name": "stdout",
     "output_type": "stream",
     "text": [
      "              precision    recall  f1-score   support\n",
      "\n",
      "         0.0       0.98      0.69      0.81     66878\n",
      "         1.0       0.29      0.88      0.43      9344\n",
      "\n",
      "    accuracy                           0.72     76222\n",
      "   macro avg       0.63      0.79      0.62     76222\n",
      "weighted avg       0.89      0.72      0.76     76222\n",
      "\n"
     ]
    }
   ],
   "source": [
    "print(classification_report(y_test_fs,Prediction_for_DT ))"
   ]
  },
  {
   "cell_type": "code",
   "execution_count": 85,
   "metadata": {},
   "outputs": [
    {
     "data": {
      "image/png": "[encoded data removed]",
      "text/plain": [
       "<Figure size 432x288 with 1 Axes>"
      ]
     },
     "metadata": {
      "needs_background": "light"
     },
     "output_type": "display_data"
    },
    {
     "name": "stdout",
     "output_type": "stream",
     "text": [
      "Area under curve (AUC):  0.82934\n"
     ]
    }
   ],
   "source": [
    "\n",
    "fpr, tpr, _ = roc_curve(y_test_fs, model.predict_proba(X_test_fs1)[:,1])\n",
    "\n",
    "plt.title('Decision Tree ROC curve')\n",
    "plt.xlabel('FPR (Precision)')\n",
    "plt.ylabel('TPR (Recall)')\n",
    "\n",
    "plt.plot(fpr,tpr)\n",
    "plt.plot((0,1), ls='dashed',color='black')\n",
    "plt.show()\n",
    "print ('Area under curve (AUC): ' ,format(round(auc(fpr,tpr),5)))"
   ]
  },
  {
   "cell_type": "code",
   "execution_count": 88,
   "metadata": {},
   "outputs": [
    {
     "ename": "SyntaxError",
     "evalue": "invalid syntax (<ipython-input-88-0a5346f90b1d>, line 8)",
     "output_type": "error",
     "traceback": [
      "\u001b[1;36m  File \u001b[1;32m\"<ipython-input-88-0a5346f90b1d>\"\u001b[1;36m, line \u001b[1;32m8\u001b[0m\n\u001b[1;33m    pred_i = knn.predict(X_test_fs1)\u001b[0m\n\u001b[1;37m         ^\u001b[0m\n\u001b[1;31mSyntaxError\u001b[0m\u001b[1;31m:\u001b[0m invalid syntax\n"
     ]
    }
   ],
   "source": [
    "###KNN after sampling and fs\n",
    "error = []\n",
    "\n",
    "# Calculating error for K values between 1 and 40\n",
    "for i in range(1, 40):\n",
    "    knn = KNeighborsClassifier(n_neighbors=i)\n",
    "    knn.fit((X_train_fs1, Y_train_sampling)\n",
    "    pred_i = knn.predict(X_test_fs1)\n",
    "    error.append(np.mean(pred_i != y_test_fs))"
   ]
  }
 ],
 "metadata": {
  "kernelspec": {
   "display_name": "Python 3",
   "language": "python",
   "name": "python3"
  },
  "language_info": {
   "codemirror_mode": {
    "name": "ipython",
    "version": 3
   },
   "file_extension": ".py",
   "mimetype": "text/x-python",
   "name": "python",
   "nbconvert_exporter": "python",
   "pygments_lexer": "ipython3",
   "version": "3.7.6"
  }
 },
 "nbformat": 4,
 "nbformat_minor": 4
}
